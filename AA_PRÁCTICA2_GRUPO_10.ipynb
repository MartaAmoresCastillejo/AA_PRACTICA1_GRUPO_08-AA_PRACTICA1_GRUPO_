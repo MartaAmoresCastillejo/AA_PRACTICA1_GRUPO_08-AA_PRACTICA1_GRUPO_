{
  "cells": [
    {
      "cell_type": "markdown",
      "metadata": {
        "id": "kEtTwyTVhOlS"
      },
      "source": [
        "**Marta Amores**\n",
        "\n",
        "#Práctica 2#\n",
        "\n",
        "\n",
        "Debemos crear un modelo de Red de Neuronas Convolucionales, estas capas nos ayudarán al mejor reconocimiento de imágenes, para que nuestro modelo sea capaz de reconocer y clasificar imágenes. \n",
        "Este modelo será definido, configurado, entrenado, evaluado y mejorado para posteriormente usarlo para hacer predicciones.  \n",
        "\n",
        "\n",
        "Para entender mejor que son las redes convolucionales, sabemos que soy muy similares a las densamente conectadas (Dense), estas tienen pesos y sesgos y son capaces de aprender. \n",
        "La diferencia es que las redes convolucionales suponen que las entradas son imágenes, esto hace que podamos identificar diferentes propiedades de las imágenes, más allá de las Dense. \n",
        "Lo que realmente hacen las capas convolucionales es, antes de saber que es una boca o un ojo, saber identificar las líneas, texturas o formas, que sean similares a ellas. Después aprender la disposición de estos, es decir, una boca siempre va a estar debajo de la nariz, finalmente ya aprenderá lo que es una boca o un ojo. \n",
        "\n"
      ]
    },
    {
      "cell_type": "code",
      "execution_count": null,
      "metadata": {
        "colab": {
          "base_uri": "https://localhost:8080/"
        },
        "id": "S3kTjRHOknSe",
        "outputId": "eabc10aa-3277-4827-8793-29f267772840"
      },
      "outputs": [
        {
          "output_type": "stream",
          "name": "stdout",
          "text": [
            "Colab only includes TensorFlow 2.x; %tensorflow_version has no effect.\n"
          ]
        }
      ],
      "source": [
        "%tensorflow_version 2.x\n",
        "import tensorflow as tf\n",
        "from tensorflow import keras\n",
        "\n",
        "import numpy as np\n",
        "import matplotlib.pyplot as plt\n",
        "\n",
        "print(tf.__version__)"
      ]
    },
    {
      "cell_type": "markdown",
      "metadata": {
        "id": "-f-i5x9okxXx"
      },
      "source": [
        "Comprobamos que nuestra versión es posterior a 2.0.0"
      ]
    },
    {
      "cell_type": "markdown",
      "metadata": {
        "id": "YsSLj8mFoQcO"
      },
      "source": [
        "Crgamos todas las librerías necesarías para poder entrenar nuestro modelo.\n",
        "Nos aseguramos que tenemos los datos en la forma que necesitamos. "
      ]
    },
    {
      "cell_type": "code",
      "execution_count": null,
      "metadata": {
        "id": "U7ttH1LXniwm"
      },
      "outputs": [],
      "source": [
        "from tensorflow.keras import Sequential\n",
        "from tensorflow.keras.layers import Conv2D\n",
        "from tensorflow.keras.layers import MaxPooling2D\n",
        "from tensorflow.keras.layers import Dense\n",
        "from tensorflow.keras.layers import Flatten\n",
        "from tensorflow.keras.layers import Dropout, BatchNormalization\n",
        "\n",
        "(train_images, train_labels), (test_images, test_labels) = tf.keras.datasets.fashion_mnist.load_data()\n",
        "\n",
        "assert train_images.shape==(60000,28,28)\n",
        "assert test_images.shape==(10000,28,28)\n",
        "assert train_labels.shape==(60000,)\n",
        "assert test_labels.shape==(10000,)\n",
        "\n",
        "train_images = train_images.reshape((60000, 28, 28, 1))\n",
        "train_images = train_images.astype('float32') / 255\n",
        "test_images = test_images.reshape((10000, 28, 28, 1))\n",
        "test_images = test_images.astype('float32') / 255\n",
        "test_labels=test_labels.reshape((10000,1))\n",
        "train_labels=train_labels.reshape((60000,1))\n",
        "\n"
      ]
    },
    {
      "cell_type": "markdown",
      "metadata": {
        "id": "JcBke72WorAP"
      },
      "source": [
        "Comprobamos que los datos tienen la forma esperada.\n"
      ]
    },
    {
      "cell_type": "markdown",
      "metadata": {
        "id": "4U5BhbyxpV3d"
      },
      "source": [
        "#Definición de los modelos"
      ]
    },
    {
      "cell_type": "markdown",
      "metadata": {
        "id": "tWB7mV6LqELe"
      },
      "source": [
        "##Caso 1##"
      ]
    },
    {
      "cell_type": "code",
      "execution_count": 4,
      "metadata": {
        "colab": {
          "base_uri": "https://localhost:8080/"
        },
        "id": "v4KasE4jquta",
        "outputId": "cf60a6d2-4675-49ba-957c-e3ee336d3119"
      },
      "outputs": [
        {
          "output_type": "stream",
          "name": "stdout",
          "text": [
            "CASO 1 \n",
            "\n",
            "--------------------------------- \n",
            "\n",
            "NÚMERO DE FILTROS EN LA PRIMERA CAPA CONVOLUCIONAL: 32 \n",
            " \n",
            "TAMAÑO DE LA VENTANA EN LA PRIMERA CAPA CONVOLUCIONAL: 5x5 \n",
            "\n",
            "NÚMERO DE FILTROS EN LA SEGUNDA CAPA CONVOLUCIONAL: 64 \n",
            " \n",
            "TAMAÑO DE LA VENTANA EN LA SEGUNDA CAPA CONVOLUCIONAL: 5x5 \n",
            "\n",
            "TAMAÑO DE LA CAPA POOLING: 2x2 \n",
            "\n",
            "FUNCIÓN ACTIVACIÓN EN AMBAS CAPAS: relu \n",
            "  \n",
            "FUNCIÓN ACTIVACIÓN ULTIMA CAPA: softmax \n",
            " \n",
            "OPTIMIZADOR: sgd \n",
            " \n",
            "FUNCIÓN PÉRDIDA: sparse_categorical_crossentropy \n",
            "\n",
            "MÉTRICA: accuracy \n",
            "--------------------------------- \n",
            "\n",
            "Model: \"sequential_1\"\n",
            "_________________________________________________________________\n",
            " Layer (type)                Output Shape              Param #   \n",
            "=================================================================\n",
            " conv2d_2 (Conv2D)           (None, 24, 24, 32)        832       \n",
            "                                                                 \n",
            " max_pooling2d_2 (MaxPooling  (None, 12, 12, 32)       0         \n",
            " 2D)                                                             \n",
            "                                                                 \n",
            " conv2d_3 (Conv2D)           (None, 8, 8, 64)          51264     \n",
            "                                                                 \n",
            " max_pooling2d_3 (MaxPooling  (None, 4, 4, 64)         0         \n",
            " 2D)                                                             \n",
            "                                                                 \n",
            " flatten_1 (Flatten)         (None, 1024)              0         \n",
            "                                                                 \n",
            " dense_1 (Dense)             (None, 10)                10250     \n",
            "                                                                 \n",
            "=================================================================\n",
            "Total params: 62,346\n",
            "Trainable params: 62,346\n",
            "Non-trainable params: 0\n",
            "_________________________________________________________________\n"
          ]
        }
      ],
      "source": [
        "model1 = Sequential()\n",
        "model1.add(Conv2D(32, (5, 5), activation='relu', input_shape=(28, 28, 1)))\n",
        "model1.add(MaxPooling2D((2, 2)))\n",
        "model1.add(Conv2D(64,(5,5), activation='relu'))\n",
        "model1.add(MaxPooling2D((2, 2)))\n",
        "model1.add(Flatten())\n",
        "model1.add(Dense(10,'softmax'))\n",
        "\n",
        "print(\"CASO 1 \\n\")\n",
        "print(\"--------------------------------- \\n\")\n",
        "print(\"NÚMERO DE FILTROS EN LA PRIMERA CAPA CONVOLUCIONAL: 32 \\n \")\n",
        "print('TAMAÑO DE LA VENTANA EN LA PRIMERA CAPA CONVOLUCIONAL: 5x5 \\n')\n",
        "print(\"NÚMERO DE FILTROS EN LA SEGUNDA CAPA CONVOLUCIONAL: 64 \\n \")\n",
        "print('TAMAÑO DE LA VENTANA EN LA SEGUNDA CAPA CONVOLUCIONAL: 5x5 \\n')\n",
        "print('TAMAÑO DE LA CAPA POOLING: 2x2 \\n')\n",
        "print(\"FUNCIÓN ACTIVACIÓN EN AMBAS CAPAS: relu \\n  \",)\n",
        "print(\"FUNCIÓN ACTIVACIÓN ULTIMA CAPA: softmax \\n \")\n",
        "print(\"OPTIMIZADOR: sgd \\n \")\n",
        "print(\"FUNCIÓN PÉRDIDA: sparse_categorical_crossentropy \\n\")\n",
        "print(\"MÉTRICA: accuracy \")\n",
        "print('--------------------------------- \\n')\n",
        "\n",
        "model1.summary()\n",
        "\n"
      ]
    },
    {
      "cell_type": "markdown",
      "metadata": {
        "id": "JXeQa1LIxvkM"
      },
      "source": [
        "Nuestra función **summary** de nuestro CASO 1 nos indica:\n",
        "El input shape es (28x28) por la altura y la anchura, 1 porque la imágen es monocromática.\n",
        "*   La primera capa convolucional es, ((5x5)+1)x32=832 parámetros.\n",
        "*   La primera capa pooling no suma parámetros porque no aprende, 24/2=12\n",
        "*   La segunda capa convolucional es, (((5x5)x32)+1)x64=51264 parámetros.\n",
        "*   La segunda capa pooling no suma parámetros porque no aprende, 8/2=4\n",
        "*   La capa flatten tampoco suma parámetros porque no aprende, solo nos aplana los datos para pasárselos a la capa Dense.\n",
        "*   La última capa dense es, (((1024)x10))+10)=10250 parámetros.\n",
        "\n",
        "En total de los parámetros que hemos encontrado es:  62.346"
      ]
    },
    {
      "cell_type": "code",
      "execution_count": 5,
      "metadata": {
        "id": "92MRJ86vyUYZ"
      },
      "outputs": [],
      "source": [
        "model1.compile(loss = 'sparse_categorical_crossentropy',\n",
        "              optimizer = 'sgd',\n",
        "              metrics='accuracy')"
      ]
    },
    {
      "cell_type": "markdown",
      "metadata": {
        "id": "8hb0Jxgly6Y4"
      },
      "source": [
        "Entrenamos nuestro modelo con 5 épocas."
      ]
    },
    {
      "cell_type": "code",
      "execution_count": 6,
      "metadata": {
        "colab": {
          "base_uri": "https://localhost:8080/"
        },
        "id": "f08yoGadbxm4",
        "outputId": "78379d5b-b6c5-4eeb-ee08-27f0f54e9961"
      },
      "outputs": [
        {
          "output_type": "stream",
          "name": "stdout",
          "text": [
            "Epoch 1/5\n",
            "480/480 [==============================] - 12s 8ms/step - loss: 1.3212 - accuracy: 0.5640 - val_loss: 0.7531 - val_accuracy: 0.7354\n",
            "Epoch 2/5\n",
            "480/480 [==============================] - 4s 8ms/step - loss: 0.7190 - accuracy: 0.7361 - val_loss: 0.6469 - val_accuracy: 0.7677\n",
            "Epoch 3/5\n",
            "480/480 [==============================] - 3s 6ms/step - loss: 0.6275 - accuracy: 0.7699 - val_loss: 0.5921 - val_accuracy: 0.7853\n",
            "Epoch 4/5\n",
            "480/480 [==============================] - 2s 4ms/step - loss: 0.5734 - accuracy: 0.7915 - val_loss: 0.5466 - val_accuracy: 0.8013\n",
            "Epoch 5/5\n",
            "480/480 [==============================] - 2s 4ms/step - loss: 0.5354 - accuracy: 0.8070 - val_loss: 0.5273 - val_accuracy: 0.8091\n"
          ]
        }
      ],
      "source": [
        " historia1=model1.fit(train_images, train_labels,\n",
        "          batch_size=100,\n",
        "          epochs=5,\n",
        "          verbose=1,\n",
        "          validation_split=0.2)"
      ]
    },
    {
      "cell_type": "code",
      "execution_count": 7,
      "metadata": {
        "id": "XqMGEsSkA4rc"
      },
      "outputs": [],
      "source": [
        "def pinta_precision_entrenamiento_validacion(historia):\n",
        "  history_dict = historia.history\n",
        "  acc = historia.history['accuracy']\n",
        "  val_acc = historia.history['val_accuracy']\n",
        "  loss = historia.history['loss']\n",
        "  val_loss = historia.history['val_loss']\n",
        "  plt.clf()   # Limpia la figura\n",
        "  acc_values = history_dict['accuracy']\n",
        "  val_acc_values = history_dict['val_accuracy']\n",
        "  epochs = range(1, len(acc) + 1)\n",
        "  plt.plot(epochs, acc, 'bo', label='Precisión de Entrenamiento')\n",
        "  plt.plot(epochs, val_acc, 'b', label='Precisión de Validación')\n",
        "  plt.title('Precisión de Entrenamiento y Valización')\n",
        "  plt.xlabel('Epochs')\n",
        "  plt.ylabel('Loss')\n",
        "  plt.legend()\n",
        "  plt.show()"
      ]
    },
    {
      "cell_type": "code",
      "execution_count": 8,
      "metadata": {
        "id": "qSDpa-wcA9D6"
      },
      "outputs": [],
      "source": [
        "def pinta_perdida_entrenamiento_validacion(historia):\n",
        "  history_dict = historia.history\n",
        "  acc = historia.history['accuracy']\n",
        "  val_acc = historia.history['val_accuracy']\n",
        "  loss = historia.history['loss']\n",
        "  val_loss = historia.history['val_loss']\n",
        "  epochs = range(1, len(acc) + 1)\n",
        "  # \"bo\" es para \"punto azun\"\n",
        "  plt.plot(epochs, loss, 'bo', label='Pérdida de Entrenamiento')\n",
        "  # \"b\" es para \"linea continua azul\"\n",
        "  plt.plot(epochs, val_loss, 'b', label='Pérdida de Validación')\n",
        "  plt.title('Pérdida de Entrenamiento y Validación')\n",
        "  plt.xlabel('Epochs')\n",
        "  plt.ylabel('Loss')\n",
        "  plt.legend()\n",
        "  plt.show()"
      ]
    },
    {
      "cell_type": "code",
      "execution_count": 9,
      "metadata": {
        "colab": {
          "base_uri": "https://localhost:8080/",
          "height": 571
        },
        "id": "pPg7SacJA-D8",
        "outputId": "98ca8b46-7d36-4d40-b5e7-01bff686e169"
      },
      "outputs": [
        {
          "output_type": "display_data",
          "data": {
            "text/plain": [
              "<Figure size 432x288 with 1 Axes>"
            ],
            "image/png": "[encoded data removed]"
          },
          "metadata": {
            "needs_background": "light"
          }
        },
        {
          "output_type": "display_data",
          "data": {
            "text/plain": [
              "<Figure size 432x288 with 1 Axes>"
            ],
            "image/png": "[encoded data removed]"
          },
          "metadata": {
            "needs_background": "light"
          }
        }
      ],
      "source": [
        "pinta_perdida_entrenamiento_validacion(historia1)\n",
        "pinta_precision_entrenamiento_validacion(historia1)"
      ]
    },
    {
      "cell_type": "markdown",
      "metadata": {
        "id": "FFTXZlN2YMrZ"
      },
      "source": [
        "\n",
        "#Caso 2"
      ]
    },
    {
      "cell_type": "code",
      "execution_count": 14,
      "metadata": {
        "colab": {
          "base_uri": "https://localhost:8080/"
        },
        "id": "ZoveKcg1cj_B",
        "outputId": "909e535b-3c85-476e-d8c8-d419497903bc"
      },
      "outputs": [
        {
          "output_type": "stream",
          "name": "stdout",
          "text": [
            "CASO 2 \n",
            "\n",
            "--------------------------------- \n",
            "\n",
            "NÚMERO DE FILTROS EN LA PRIMERA CAPA CONVOLUCIONAL: 64 \n",
            " \n",
            "TAMAÑO DE LA VENTANA EN LA PRIMERA CAPA CONVOLUCIONAL: 7x7 \n",
            "\n",
            "NÚMERO DE FILTROS EN LA SEGUNDA CAPA CONVOLUCIONAL: 128 \n",
            " \n",
            "TAMAÑO DE LA VENTANA EN LA SEGUNDA CAPA CONVOLUCIONAL: 3x3 \n",
            "\n",
            "TAMAÑO DE LA CAPA POOLING: 2x2 \n",
            "\n",
            "CAPA PADDING: same \n",
            "\n",
            "TAMAÑO ÚLTIMA CAPA DENSE: 65 \n",
            "\n",
            "FUNCIÓN ACTIVACIÓN EN LAS TRES CAPAS: relu \n",
            "  \n",
            "FUNCIÓN ACTIVACIÓN ULTIMA CAPA: softmax \n",
            " \n",
            "OPTIMIZADOR: sgd \n",
            " \n",
            "FUNCIÓN PÉRDIDA: sparse_categorical_crossentropy \n",
            "\n",
            "MÉTRICA: accuracy \n",
            "--------------------------------- \n",
            "\n",
            "Model: \"sequential_3\"\n",
            "_________________________________________________________________\n",
            " Layer (type)                Output Shape              Param #   \n",
            "=================================================================\n",
            " conv2d_6 (Conv2D)           (None, 28, 28, 64)        3200      \n",
            "                                                                 \n",
            " max_pooling2d_6 (MaxPooling  (None, 14, 14, 64)       0         \n",
            " 2D)                                                             \n",
            "                                                                 \n",
            " conv2d_7 (Conv2D)           (None, 14, 14, 128)       73856     \n",
            "                                                                 \n",
            " max_pooling2d_7 (MaxPooling  (None, 7, 7, 128)        0         \n",
            " 2D)                                                             \n",
            "                                                                 \n",
            " flatten_3 (Flatten)         (None, 6272)              0         \n",
            "                                                                 \n",
            " dense_4 (Dense)             (None, 65)                407745    \n",
            "                                                                 \n",
            " dense_5 (Dense)             (None, 10)                660       \n",
            "                                                                 \n",
            "=================================================================\n",
            "Total params: 485,461\n",
            "Trainable params: 485,461\n",
            "Non-trainable params: 0\n",
            "_________________________________________________________________\n"
          ]
        }
      ],
      "source": [
        "model2 = Sequential()\n",
        "model2.add(Conv2D(64, (7, 7), padding = 'same', activation='relu', input_shape=(28, 28, 1)))\n",
        "model2.add(MaxPooling2D((2, 2)))\n",
        "model2.add(Conv2D(128,(3,3), padding = 'same', activation='relu'))\n",
        "model2.add(MaxPooling2D((2, 2)))\n",
        "model2.add(Flatten())\n",
        "model2.add(Dense(65, activation='relu'))\n",
        "model2.add(Dense(10,'softmax'))\n",
        "\n",
        "print(\"CASO 2 \\n\")\n",
        "print(\"--------------------------------- \\n\")\n",
        "print(\"NÚMERO DE FILTROS EN LA PRIMERA CAPA CONVOLUCIONAL: 64 \\n \")\n",
        "print('TAMAÑO DE LA VENTANA EN LA PRIMERA CAPA CONVOLUCIONAL: 7x7 \\n')\n",
        "print(\"NÚMERO DE FILTROS EN LA SEGUNDA CAPA CONVOLUCIONAL: 128 \\n \")\n",
        "print('TAMAÑO DE LA VENTANA EN LA SEGUNDA CAPA CONVOLUCIONAL: 3x3 \\n')\n",
        "print('TAMAÑO DE LA CAPA POOLING: 2x2 \\n')\n",
        "print('CAPA PADDING: same \\n')\n",
        "print('TAMAÑO ÚLTIMA CAPA DENSE: 65 \\n')\n",
        "print(\"FUNCIÓN ACTIVACIÓN EN LAS TRES CAPAS: relu \\n  \",)\n",
        "print(\"FUNCIÓN ACTIVACIÓN ULTIMA CAPA: softmax \\n \")\n",
        "print(\"OPTIMIZADOR: sgd \\n \")\n",
        "print(\"FUNCIÓN PÉRDIDA: sparse_categorical_crossentropy \\n\")\n",
        "print(\"MÉTRICA: accuracy \")\n",
        "print('--------------------------------- \\n')\n",
        "\n",
        "model2.summary()"
      ]
    },
    {
      "cell_type": "markdown",
      "source": [
        "Nuestra función **summary** de nuestro CASO 2 nos indica:\n",
        "El input shape es (28x28) por la altura y la anchura, 1 porque la imágen es monocromática.\n",
        "*   La primera capa convolucional es, ((7x7)+1)x64=3200 parámetros.\n",
        "*   La primera capa pooling no suma parámetros porque no aprende, 28/2=14\n",
        "*   La segunda capa convolucional es, (((3x3)x64)+1)x128=73856 parámetros.\n",
        "*   La segunda capa pooling no suma parámetros porque no aprende, 14/2=7\n",
        "*   La capa flatten tampoco suma parámetros porque no aprende, solo nos aplana los datos para pasárselos a la capa Dense.\n",
        "*   La penúltima capa dense es, (((6272)x65))+65)=407745 parámetros.\n",
        "*   La última capa dense es, (65x10)+10=660\n",
        "\n",
        "En total de los parámetros que hemos encontrado es:  485.461"
      ],
      "metadata": {
        "id": "CiRuos5vPrcf"
      }
    },
    {
      "cell_type": "code",
      "execution_count": 11,
      "metadata": {
        "id": "r2PZTY8C7UnG"
      },
      "outputs": [],
      "source": [
        "model2.compile(loss = 'sparse_categorical_crossentropy',\n",
        "              optimizer = 'sgd',\n",
        "              metrics='accuracy')"
      ]
    },
    {
      "cell_type": "code",
      "execution_count": 12,
      "metadata": {
        "colab": {
          "base_uri": "https://localhost:8080/"
        },
        "id": "AY2WMh3ykqQu",
        "outputId": "214ed18d-a3b9-468c-ef25-0904e29af3ce"
      },
      "outputs": [
        {
          "output_type": "stream",
          "name": "stdout",
          "text": [
            "Epoch 1/5\n",
            "480/480 [==============================] - 4s 8ms/step - loss: 1.1490 - accuracy: 0.6147 - val_loss: 0.7107 - val_accuracy: 0.7458\n",
            "Epoch 2/5\n",
            "480/480 [==============================] - 3s 7ms/step - loss: 0.6863 - accuracy: 0.7466 - val_loss: 0.5969 - val_accuracy: 0.7842\n",
            "Epoch 3/5\n",
            "480/480 [==============================] - 3s 7ms/step - loss: 0.5983 - accuracy: 0.7804 - val_loss: 0.5634 - val_accuracy: 0.7897\n",
            "Epoch 4/5\n",
            "480/480 [==============================] - 4s 8ms/step - loss: 0.5444 - accuracy: 0.8004 - val_loss: 0.5375 - val_accuracy: 0.8048\n",
            "Epoch 5/5\n",
            "480/480 [==============================] - 3s 7ms/step - loss: 0.5032 - accuracy: 0.8176 - val_loss: 0.4858 - val_accuracy: 0.8251\n"
          ]
        }
      ],
      "source": [
        " historia2=model2.fit(train_images, train_labels,\n",
        "          batch_size=100,\n",
        "          epochs=5,\n",
        "          verbose=1,\n",
        "          validation_split=0.2)"
      ]
    },
    {
      "cell_type": "code",
      "execution_count": 13,
      "metadata": {
        "colab": {
          "base_uri": "https://localhost:8080/",
          "height": 571
        },
        "id": "DSUR2OkKBtWu",
        "outputId": "9153d2e7-53e9-45de-87cf-9bce264d5506"
      },
      "outputs": [
        {
          "output_type": "display_data",
          "data": {
            "text/plain": [
              "<Figure size 432x288 with 1 Axes>"
            ],
            "image/png": "[encoded data removed]"
          },
          "metadata": {
            "needs_background": "light"
          }
        },
        {
          "output_type": "display_data",
          "data": {
            "text/plain": [
              "<Figure size 432x288 with 1 Axes>"
            ],
            "image/png": "[encoded data removed]"
          },
          "metadata": {
            "needs_background": "light"
          }
        }
      ],
      "source": [
        "pinta_perdida_entrenamiento_validacion(historia2)\n",
        "pinta_precision_entrenamiento_validacion(historia2)"
      ]
    },
    {
      "cell_type": "markdown",
      "metadata": {
        "id": "Pl8CM0yKne--"
      },
      "source": [
        "#Caso 3"
      ]
    },
    {
      "cell_type": "code",
      "execution_count": 16,
      "metadata": {
        "colab": {
          "base_uri": "https://localhost:8080/"
        },
        "id": "am9PXc0Engwv",
        "outputId": "9b361bad-fd7a-435e-c229-7818dcaa7498"
      },
      "outputs": [
        {
          "output_type": "stream",
          "name": "stdout",
          "text": [
            "CASO 3 \n",
            "\n",
            "--------------------------------- \n",
            "\n",
            "NÚMERO DE FILTROS EN LA PRIMERA CAPA CONVOLUCIONAL: 64 \n",
            " \n",
            "TAMAÑO DE LA VENTANA EN LA PRIMERA CAPA CONVOLUCIONAL: 7x7 \n",
            "\n",
            "NÚMERO DE FILTROS EN LA SEGUNDA CAPA CONVOLUCIONAL: 128 \n",
            " \n",
            "TAMAÑO DE LA VENTANA EN LA SEGUNDA CAPA CONVOLUCIONAL: 3x3 \n",
            "\n",
            "TAMAÑO DE LA CAPA POOLING: 2x2 \n",
            "\n",
            "CAPA PADDING: same \n",
            "\n",
            "TAMAÑO ÚLTIMA CAPA DENSE: 65 \n",
            "\n",
            "FUNCIÓN ACTIVACIÓN EN LAS TRES CAPAS: relu \n",
            "  \n",
            "FUNCIÓN ACTIVACIÓN ULTIMA CAPA: softmax \n",
            " \n",
            "OPTIMIZADOR: adam \n",
            " \n",
            "FUNCIÓN PÉRDIDA: sparse_categorical_crossentropy \n",
            "\n",
            "MÉTRICA: accuracy \n",
            "--------------------------------- \n",
            "\n",
            "Model: \"sequential_5\"\n",
            "_________________________________________________________________\n",
            " Layer (type)                Output Shape              Param #   \n",
            "=================================================================\n",
            " conv2d_10 (Conv2D)          (None, 28, 28, 64)        3200      \n",
            "                                                                 \n",
            " max_pooling2d_10 (MaxPoolin  (None, 14, 14, 64)       0         \n",
            " g2D)                                                            \n",
            "                                                                 \n",
            " conv2d_11 (Conv2D)          (None, 14, 14, 128)       73856     \n",
            "                                                                 \n",
            " max_pooling2d_11 (MaxPoolin  (None, 7, 7, 128)        0         \n",
            " g2D)                                                            \n",
            "                                                                 \n",
            " flatten_5 (Flatten)         (None, 6272)              0         \n",
            "                                                                 \n",
            " dense_8 (Dense)             (None, 65)                407745    \n",
            "                                                                 \n",
            " dense_9 (Dense)             (None, 10)                660       \n",
            "                                                                 \n",
            "=================================================================\n",
            "Total params: 485,461\n",
            "Trainable params: 485,461\n",
            "Non-trainable params: 0\n",
            "_________________________________________________________________\n"
          ]
        }
      ],
      "source": [
        "model3 = Sequential()\n",
        "model3.add(Conv2D(64, (7, 7), padding = 'same', activation='relu', input_shape=(28, 28, 1)))\n",
        "model3.add(MaxPooling2D((2, 2)))\n",
        "model3.add(Conv2D(128,(3,3), padding = 'same', activation='relu'))\n",
        "model3.add(MaxPooling2D((2, 2)))\n",
        "model3.add(Flatten())\n",
        "model3.add(Dense(65, activation='relu'))\n",
        "model3.add(Dense(10,'softmax'))\n",
        "\n",
        "print(\"CASO 3 \\n\")\n",
        "print(\"--------------------------------- \\n\")\n",
        "print(\"NÚMERO DE FILTROS EN LA PRIMERA CAPA CONVOLUCIONAL: 64 \\n \")\n",
        "print('TAMAÑO DE LA VENTANA EN LA PRIMERA CAPA CONVOLUCIONAL: 7x7 \\n')\n",
        "print(\"NÚMERO DE FILTROS EN LA SEGUNDA CAPA CONVOLUCIONAL: 128 \\n \")\n",
        "print('TAMAÑO DE LA VENTANA EN LA SEGUNDA CAPA CONVOLUCIONAL: 3x3 \\n')\n",
        "print('TAMAÑO DE LA CAPA POOLING: 2x2 \\n')\n",
        "print('CAPA PADDING: same \\n')\n",
        "print('TAMAÑO ÚLTIMA CAPA DENSE: 65 \\n')\n",
        "print(\"FUNCIÓN ACTIVACIÓN EN LAS TRES CAPAS: relu \\n  \",)\n",
        "print(\"FUNCIÓN ACTIVACIÓN ULTIMA CAPA: softmax \\n \")\n",
        "print(\"OPTIMIZADOR: adam \\n \")\n",
        "print(\"FUNCIÓN PÉRDIDA: sparse_categorical_crossentropy \\n\")\n",
        "print(\"MÉTRICA: accuracy \")\n",
        "print('--------------------------------- \\n')\n",
        "\n",
        "model3.summary()"
      ]
    },
    {
      "cell_type": "markdown",
      "source": [
        "Nuestra función **summary** de nuestro CASO 3 nos indica:\n",
        "El input shape es (28x28) por la altura y la anchura, 1 porque la imágen es monocromática.\n",
        "*   La primera capa convolucional es, ((7x7)+1)x64=3200 parámetros.\n",
        "*   La primera capa pooling no suma parámetros porque no aprende, 28/2=14\n",
        "*   La segunda capa convolucional es, (((3x3)x64)+1)x128=73856 parámetros.\n",
        "*   La segunda capa pooling no suma parámetros porque no aprende, 14/2=7\n",
        "*   La capa flatten tampoco suma parámetros porque no aprende, solo nos aplana los datos para pasárselos a la capa Dense.\n",
        "*   La penúltima capa dense es, (((6272)x65))+65)=407745 parámetros.\n",
        "*   La última capa dense es, (65x10)+10=660\n",
        "En total de los parámetros que hemos encontrado es:  485.461"
      ],
      "metadata": {
        "id": "o4XnsKzhT5iY"
      }
    },
    {
      "cell_type": "code",
      "execution_count": 17,
      "metadata": {
        "id": "tcpWzw6En8CE"
      },
      "outputs": [],
      "source": [
        "model3.compile(loss = 'sparse_categorical_crossentropy',\n",
        "              optimizer = 'adam',\n",
        "              metrics='accuracy')"
      ]
    },
    {
      "cell_type": "code",
      "execution_count": 18,
      "metadata": {
        "colab": {
          "base_uri": "https://localhost:8080/"
        },
        "id": "KrUmhPfHoAdu",
        "outputId": "ced4fe57-cbee-4694-9831-719683619023"
      },
      "outputs": [
        {
          "output_type": "stream",
          "name": "stdout",
          "text": [
            "Epoch 1/5\n",
            "480/480 [==============================] - 4s 8ms/step - loss: 0.4927 - accuracy: 0.8258 - val_loss: 0.3507 - val_accuracy: 0.8712\n",
            "Epoch 2/5\n",
            "480/480 [==============================] - 4s 8ms/step - loss: 0.3122 - accuracy: 0.8876 - val_loss: 0.3112 - val_accuracy: 0.8875\n",
            "Epoch 3/5\n",
            "480/480 [==============================] - 4s 7ms/step - loss: 0.2651 - accuracy: 0.9029 - val_loss: 0.2967 - val_accuracy: 0.8878\n",
            "Epoch 4/5\n",
            "480/480 [==============================] - 4s 8ms/step - loss: 0.2361 - accuracy: 0.9137 - val_loss: 0.2893 - val_accuracy: 0.8950\n",
            "Epoch 5/5\n",
            "480/480 [==============================] - 4s 8ms/step - loss: 0.2126 - accuracy: 0.9214 - val_loss: 0.2501 - val_accuracy: 0.9057\n"
          ]
        }
      ],
      "source": [
        " historia3= model3.fit(train_images, train_labels,\n",
        "          batch_size=100,\n",
        "          epochs=5,\n",
        "          verbose=1,\n",
        "          validation_split=0.2)"
      ]
    },
    {
      "cell_type": "code",
      "execution_count": 19,
      "metadata": {
        "colab": {
          "base_uri": "https://localhost:8080/",
          "height": 571
        },
        "id": "CbxP5RSjB3IF",
        "outputId": "42af6b1e-a789-4eb7-dd21-275dd0579c6b"
      },
      "outputs": [
        {
          "output_type": "display_data",
          "data": {
            "text/plain": [
              "<Figure size 432x288 with 1 Axes>"
            ],
            "image/png": "[encoded data removed]"
          },
          "metadata": {
            "needs_background": "light"
          }
        },
        {
          "output_type": "display_data",
          "data": {
            "text/plain": [
              "<Figure size 432x288 with 1 Axes>"
            ],
            "image/png": "[encoded data removed]"
          },
          "metadata": {
            "needs_background": "light"
          }
        }
      ],
      "source": [
        "pinta_perdida_entrenamiento_validacion(historia3)\n",
        "pinta_precision_entrenamiento_validacion(historia3)"
      ]
    },
    {
      "cell_type": "markdown",
      "metadata": {
        "id": "y5ga5xg2ovb6"
      },
      "source": [
        "#Caso 4\n",
        "\n"
      ]
    },
    {
      "cell_type": "markdown",
      "metadata": {
        "id": "IIYx-1Jto3mC"
      },
      "source": [
        "En este caso, utilizaremos el **mismo modelo** que el CASO 1, con la diferencia que lo entrenaremos 25 épocas."
      ]
    },
    {
      "cell_type": "code",
      "execution_count": null,
      "metadata": {
        "colab": {
          "base_uri": "https://localhost:8080/"
        },
        "id": "U9TavslG7sw7",
        "outputId": "418a9759-bb04-44bd-9362-80c54cc5f1d1"
      },
      "outputs": [
        {
          "name": "stdout",
          "output_type": "stream",
          "text": [
            "CASO 1 \n",
            "\n",
            "Model: \"sequential_10\"\n",
            "_________________________________________________________________\n",
            " Layer (type)                Output Shape              Param #   \n",
            "=================================================================\n",
            " conv2d_20 (Conv2D)          (None, 24, 24, 32)        832       \n",
            "                                                                 \n",
            " max_pooling2d_20 (MaxPoolin  (None, 12, 12, 32)       0         \n",
            " g2D)                                                            \n",
            "                                                                 \n",
            " conv2d_21 (Conv2D)          (None, 8, 8, 64)          51264     \n",
            "                                                                 \n",
            " max_pooling2d_21 (MaxPoolin  (None, 4, 4, 64)         0         \n",
            " g2D)                                                            \n",
            "                                                                 \n",
            " flatten_10 (Flatten)        (None, 1024)              0         \n",
            "                                                                 \n",
            " dense_16 (Dense)            (None, 10)                10250     \n",
            "                                                                 \n",
            "=================================================================\n",
            "Total params: 62,346\n",
            "Trainable params: 62,346\n",
            "Non-trainable params: 0\n",
            "_________________________________________________________________\n"
          ]
        }
      ],
      "source": [
        "model_1 = Sequential()\n",
        "model_1.add(Conv2D(32, (5, 5), activation='relu', input_shape=(28, 28, 1)))\n",
        "model_1.add(MaxPooling2D((2, 2)))\n",
        "model_1.add(Conv2D(64,(5,5), activation='relu'))\n",
        "model_1.add(MaxPooling2D((2, 2)))\n",
        "model_1.add(Flatten())\n",
        "model_1.add(Dense(10,'softmax'))\n",
        "\n",
        "\n",
        "print('CASO 1 (25 épocas de entrenamiento) \\n')\n",
        "print(\"--------------------------------- \\n\")\n",
        "print(\"NÚMERO DE FILTROS EN LA PRIMERA CAPA CONVOLUCIONAL: 32 \\n \")\n",
        "print('TAMAÑO DE LA VENTANA EN LA PRIMERA CAPA CONVOLUCIONAL: 5x5 \\n')\n",
        "print(\"NÚMERO DE FILTROS EN LA SEGUNDA CAPA CONVOLUCIONAL: 64 \\n \")\n",
        "print('TAMAÑO DE LA VENTANA EN LA SEGUNDA CAPA CONVOLUCIONAL: 5x5 \\n')\n",
        "print('TAMAÑO DE LA CAPA POOLING: 2x2 \\n')\n",
        "print(\"FUNCIÓN ACTIVACIÓN EN AMBAS CAPAS: relu \\n  \",)\n",
        "print(\"FUNCIÓN ACTIVACIÓN ULTIMA CAPA: softmax \\n \")\n",
        "print(\"OPTIMIZADOR: sgd \\n \")\n",
        "print(\"FUNCIÓN PÉRDIDA: sparse_categorical_crossentropy \\n\")\n",
        "print(\"MÉTRICA: accuracy \")\n",
        "print('--------------------------------- \\n')\n",
        "\n",
        "model_1.summary()\n"
      ]
    },
    {
      "cell_type": "code",
      "execution_count": null,
      "metadata": {
        "id": "xzi6LEHb7sjc"
      },
      "outputs": [],
      "source": [
        "model_1.compile(loss = 'sparse_categorical_crossentropy',\n",
        "              optimizer = 'sgd',\n",
        "              metrics='accuracy')"
      ]
    },
    {
      "cell_type": "code",
      "execution_count": null,
      "metadata": {
        "colab": {
          "base_uri": "https://localhost:8080/"
        },
        "id": "j3wzWHFhovH5",
        "outputId": "28385285-f7e3-42ac-a453-9ad8b8396bd4"
      },
      "outputs": [
        {
          "name": "stdout",
          "output_type": "stream",
          "text": [
            "Epoch 1/25\n",
            "600/600 [==============================] - 2s 3ms/step - loss: 1.2380 - accuracy: 0.5915\n",
            "Epoch 2/25\n",
            "600/600 [==============================] - 2s 3ms/step - loss: 0.6551 - accuracy: 0.7597\n",
            "Epoch 3/25\n",
            "600/600 [==============================] - 2s 3ms/step - loss: 0.5715 - accuracy: 0.7933\n",
            "Epoch 4/25\n",
            "600/600 [==============================] - 2s 3ms/step - loss: 0.5247 - accuracy: 0.8114\n",
            "Epoch 5/25\n",
            "600/600 [==============================] - 2s 3ms/step - loss: 0.4916 - accuracy: 0.8246\n",
            "Epoch 6/25\n",
            "600/600 [==============================] - 2s 3ms/step - loss: 0.4666 - accuracy: 0.8341\n",
            "Epoch 7/25\n",
            "600/600 [==============================] - 2s 3ms/step - loss: 0.4469 - accuracy: 0.8426\n",
            "Epoch 8/25\n",
            "600/600 [==============================] - 2s 3ms/step - loss: 0.4313 - accuracy: 0.8479\n",
            "Epoch 9/25\n",
            "600/600 [==============================] - 2s 3ms/step - loss: 0.4182 - accuracy: 0.8529\n",
            "Epoch 10/25\n",
            "600/600 [==============================] - 2s 3ms/step - loss: 0.4059 - accuracy: 0.8569\n",
            "Epoch 11/25\n",
            "600/600 [==============================] - 2s 3ms/step - loss: 0.3967 - accuracy: 0.8598\n",
            "Epoch 12/25\n",
            "600/600 [==============================] - 2s 3ms/step - loss: 0.3886 - accuracy: 0.8628\n",
            "Epoch 13/25\n",
            "600/600 [==============================] - 2s 3ms/step - loss: 0.3808 - accuracy: 0.8659\n",
            "Epoch 14/25\n",
            "600/600 [==============================] - 2s 3ms/step - loss: 0.3743 - accuracy: 0.8683\n",
            "Epoch 15/25\n",
            "600/600 [==============================] - 2s 3ms/step - loss: 0.3694 - accuracy: 0.8683\n",
            "Epoch 16/25\n",
            "600/600 [==============================] - 2s 3ms/step - loss: 0.3628 - accuracy: 0.8709\n",
            "Epoch 17/25\n",
            "600/600 [==============================] - 2s 4ms/step - loss: 0.3583 - accuracy: 0.8716\n",
            "Epoch 18/25\n",
            "600/600 [==============================] - 3s 5ms/step - loss: 0.3534 - accuracy: 0.8742\n",
            "Epoch 19/25\n",
            "600/600 [==============================] - 2s 3ms/step - loss: 0.3482 - accuracy: 0.8781\n",
            "Epoch 20/25\n",
            "600/600 [==============================] - 2s 3ms/step - loss: 0.3435 - accuracy: 0.8782\n",
            "Epoch 21/25\n",
            "600/600 [==============================] - 2s 3ms/step - loss: 0.3395 - accuracy: 0.8800\n",
            "Epoch 22/25\n",
            "600/600 [==============================] - 2s 3ms/step - loss: 0.3358 - accuracy: 0.8806\n",
            "Epoch 23/25\n",
            "600/600 [==============================] - 2s 3ms/step - loss: 0.3318 - accuracy: 0.8832\n",
            "Epoch 24/25\n",
            "600/600 [==============================] - 2s 3ms/step - loss: 0.3286 - accuracy: 0.8829\n",
            "Epoch 25/25\n",
            "600/600 [==============================] - 2s 3ms/step - loss: 0.3255 - accuracy: 0.8859\n"
          ]
        },
        {
          "data": {
            "text/plain": [
              "<keras.callbacks.History at 0x7f2d4c485650>"
            ]
          },
          "execution_count": 60,
          "metadata": {},
          "output_type": "execute_result"
        }
      ],
      "source": [
        "model_1.fit(train_images, train_labels,\n",
        "          batch_size=100,\n",
        "          epochs=25,\n",
        "          verbose=1,\n",
        "          validation_split=0.2)"
      ]
    },
    {
      "cell_type": "markdown",
      "metadata": {
        "id": "DkNMsdzoyb_p"
      },
      "source": [
        "# Caso 5\n",
        "\n"
      ]
    },
    {
      "cell_type": "code",
      "execution_count": null,
      "metadata": {
        "colab": {
          "base_uri": "https://localhost:8080/"
        },
        "id": "EgapGY-zzbzh",
        "outputId": "24fad7a6-0b2f-4f2c-bd0e-568b55122093"
      },
      "outputs": [
        {
          "name": "stdout",
          "output_type": "stream",
          "text": [
            "CASO 1 \n",
            "\n",
            "Model: \"sequential_11\"\n",
            "_________________________________________________________________\n",
            " Layer (type)                Output Shape              Param #   \n",
            "=================================================================\n",
            " conv2d_22 (Conv2D)          (None, 24, 24, 32)        832       \n",
            "                                                                 \n",
            " max_pooling2d_22 (MaxPoolin  (None, 12, 12, 32)       0         \n",
            " g2D)                                                            \n",
            "                                                                 \n",
            " conv2d_23 (Conv2D)          (None, 8, 8, 64)          51264     \n",
            "                                                                 \n",
            " max_pooling2d_23 (MaxPoolin  (None, 4, 4, 64)         0         \n",
            " g2D)                                                            \n",
            "                                                                 \n",
            " flatten_11 (Flatten)        (None, 1024)              0         \n",
            "                                                                 \n",
            " dense_17 (Dense)            (None, 10)                10250     \n",
            "                                                                 \n",
            "=================================================================\n",
            "Total params: 62,346\n",
            "Trainable params: 62,346\n",
            "Non-trainable params: 0\n",
            "_________________________________________________________________\n"
          ]
        }
      ],
      "source": [
        "model__1 = Sequential()\n",
        "model__1.add(Conv2D(32, (5, 5), activation='tanh', input_shape=(28, 28, 1)))\n",
        "model__1.add(MaxPooling2D((2, 2)))\n",
        "model__1.add(Conv2D(64,(5,5), activation='tanh'))\n",
        "model__1.add(MaxPooling2D((2, 2)))\n",
        "model__1.add(Flatten())\n",
        "model__1.add(Dense(10,'softmax'))\n",
        "\n",
        "\n",
        "print('CASO 1 (función de activación tanh) \\n')\n",
        "print(\"--------------------------------- \\n\")\n",
        "print(\"NÚMERO DE FILTROS EN LA PRIMERA CAPA CONVOLUCIONAL: 32 \\n \")\n",
        "print('TAMAÑO DE LA VENTANA EN LA PRIMERA CAPA CONVOLUCIONAL: 5x5 \\n')\n",
        "print(\"NÚMERO DE FILTROS EN LA SEGUNDA CAPA CONVOLUCIONAL: 64 \\n \")\n",
        "print('TAMAÑO DE LA VENTANA EN LA SEGUNDA CAPA CONVOLUCIONAL: 5x5 \\n')\n",
        "print('TAMAÑO DE LA CAPA POOLING: 2x2 \\n')\n",
        "print(\"FUNCIÓN ACTIVACIÓN EN AMBAS CAPAS: tanh  \\n  \",)\n",
        "print(\"FUNCIÓN ACTIVACIÓN ULTIMA CAPA: softmax \\n \")\n",
        "print(\"OPTIMIZADOR: sgd \\n \")\n",
        "print(\"FUNCIÓN PÉRDIDA: sparse_categorical_crossentropy \\n\")\n",
        "print(\"MÉTRICA: accuracy \")\n",
        "print('--------------------------------- \\n')\n",
        "model__1.summary()\n"
      ]
    },
    {
      "cell_type": "code",
      "execution_count": null,
      "metadata": {
        "id": "Kh9ZFUeMzkG-"
      },
      "outputs": [],
      "source": [
        "model__1.compile(loss = 'sparse_categorical_crossentropy',\n",
        "              optimizer = 'sgd',\n",
        "              metrics='accuracy')"
      ]
    },
    {
      "cell_type": "code",
      "execution_count": null,
      "metadata": {
        "colab": {
          "base_uri": "https://localhost:8080/"
        },
        "id": "i4RNAV5E0dId",
        "outputId": "ebc6e897-d0a4-4819-db94-06f8abc2387a"
      },
      "outputs": [
        {
          "name": "stdout",
          "output_type": "stream",
          "text": [
            "Epoch 1/5\n",
            "600/600 [==============================] - 2s 3ms/step - loss: 1.1399 - accuracy: 0.6413\n",
            "Epoch 2/5\n",
            "600/600 [==============================] - 2s 3ms/step - loss: 0.6687 - accuracy: 0.7566\n",
            "Epoch 3/5\n",
            "600/600 [==============================] - 2s 3ms/step - loss: 0.5876 - accuracy: 0.7857\n",
            "Epoch 4/5\n",
            "600/600 [==============================] - 2s 3ms/step - loss: 0.5398 - accuracy: 0.8040\n",
            "Epoch 5/5\n",
            "600/600 [==============================] - 2s 3ms/step - loss: 0.5065 - accuracy: 0.8174\n"
          ]
        },
        {
          "data": {
            "text/plain": [
              "<keras.callbacks.History at 0x7f2d4c197d10>"
            ]
          },
          "execution_count": 63,
          "metadata": {},
          "output_type": "execute_result"
        }
      ],
      "source": [
        " model__1.fit(train_images, train_labels,\n",
        "          batch_size=100,\n",
        "          epochs=5,\n",
        "          verbose=1,\n",
        "          validation_split=0.2)"
      ]
    },
    {
      "cell_type": "markdown",
      "metadata": {
        "id": "YjKe3LYwDDdw"
      },
      "source": []
    },
    {
      "cell_type": "markdown",
      "metadata": {
        "id": "EXR778N89w_M"
      },
      "source": [
        "# Análisis de los resultados"
      ]
    },
    {
      "cell_type": "code",
      "execution_count": null,
      "metadata": {
        "id": "JkTBpniG9ujh"
      },
      "outputs": [],
      "source": [
        "def plot_image(i, predictions_array, true_label, img):\n",
        "  predictions_array, true_label, img = predictions_array, true_label[i], img[i]\n",
        "  plt.grid(False)\n",
        "  plt.xticks([])\n",
        "  plt.yticks([])\n",
        "\n",
        "  plt.imshow(img, cmap=plt.cm.binary)    \n",
        "\n",
        "  predicted_label = np.argmax(predictions_array)\n",
        "  if predicted_label.all() == true_label.all():\n",
        "    color = 'blue'\n",
        "  else:\n",
        "    color = 'red'\n",
        "\n",
        "  plt.xlabel(\"{} {:2.0f}% ({})\".format(predicted_label,\n",
        "                                100*np.max(predictions_array),\n",
        "                                true_label),\n",
        "                                color=color)\n",
        "\n",
        "def plot_value_array(i, predictions_array, true_label):\n",
        "  predictions_array, true_label = predictions_array, true_label[i]\n",
        "  plt.grid(False)\n",
        "  plt.xticks(range(10))\n",
        "  plt.yticks([])\n",
        "  thisplot = plt.bar(range(10), predictions_array, color=\"#00FF00\")\n",
        "  plt.ylim([0, 1])\n",
        "  predicted_label = np.argmax(predictions_array)\n",
        "\n",
        "  thisplot[predicted_label].set_color('red')\n",
        "  thisplot[true_label].set_color('black')"
      ]
    },
    {
      "cell_type": "code",
      "execution_count": null,
      "metadata": {
        "colab": {
          "base_uri": "https://localhost:8080/"
        },
        "id": "yghsd_23-CiF",
        "outputId": "3bb7c74e-4732-4c38-e885-200fb0b8340a"
      },
      "outputs": [
        {
          "name": "stdout",
          "output_type": "stream",
          "text": [
            "313/313 [==============================] - 1s 2ms/step\n",
            "313/313 [==============================] - 1s 2ms/step\n",
            "313/313 [==============================] - 1s 2ms/step\n"
          ]
        }
      ],
      "source": [
        "predictions = model1.predict(test_images)\n",
        "predictions2 = model2.predict(test_images)\n",
        "predictions3 = model3.predict(test_images)\n",
        "test_labels=test_labels.reshape(10000,)"
      ]
    },
    {
      "cell_type": "code",
      "execution_count": null,
      "metadata": {
        "colab": {
          "base_uri": "https://localhost:8080/",
          "height": 1000
        },
        "id": "kzPCa3H0-TnH",
        "outputId": "f51a9f4e-c830-4f66-e479-b14b2478bd6c"
      },
      "outputs": [
        {
          "data": {
            "image/png": "[encoded data removed]",
            "text/plain": [
              "<Figure size 432x216 with 2 Axes>"
            ]
          },
          "metadata": {
            "needs_background": "light"
          },
          "output_type": "display_data"
        },
        {
          "data": {
            "text/plain": [
              "<Figure size 432x288 with 0 Axes>"
            ]
          },
          "metadata": {},
          "output_type": "display_data"
        },
        {
          "data": {
            "image/png": "[encoded data removed]",
            "text/plain": [
              "<Figure size 432x216 with 2 Axes>"
            ]
          },
          "metadata": {
            "needs_background": "light"
          },
          "output_type": "display_data"
        },
        {
          "data": {
            "text/plain": [
              "<Figure size 432x288 with 0 Axes>"
            ]
          },
          "metadata": {},
          "output_type": "display_data"
        },
        {
          "data": {
            "image/png": "[encoded data removed]",
            "text/plain": [
              "<Figure size 432x216 with 2 Axes>"
            ]
          },
          "metadata": {
            "needs_background": "light"
          },
          "output_type": "display_data"
        },
        {
          "data": {
            "text/plain": [
              "<Figure size 432x288 with 0 Axes>"
            ]
          },
          "metadata": {},
          "output_type": "display_data"
        },
        {
          "data": {
            "image/png": "[encoded data removed]",
            "text/plain": [
              "<Figure size 432x216 with 2 Axes>"
            ]
          },
          "metadata": {
            "needs_background": "light"
          },
          "output_type": "display_data"
        },
        {
          "data": {
            "text/plain": [
              "<Figure size 432x288 with 0 Axes>"
            ]
          },
          "metadata": {},
          "output_type": "display_data"
        },
        {
          "data": {
            "image/png": "[encoded data removed]",
            "text/plain": [
              "<Figure size 432x216 with 2 Axes>"
            ]
          },
          "metadata": {
            "needs_background": "light"
          },
          "output_type": "display_data"
        },
        {
          "data": {
            "text/plain": [
              "<Figure size 432x288 with 0 Axes>"
            ]
          },
          "metadata": {},
          "output_type": "display_data"
        },
        {
          "data": {
            "image/png": "[encoded data removed]",
            "text/plain": [
              "<Figure size 432x216 with 2 Axes>"
            ]
          },
          "metadata": {
            "needs_background": "light"
          },
          "output_type": "display_data"
        },
        {
          "data": {
            "text/plain": [
              "<Figure size 432x288 with 0 Axes>"
            ]
          },
          "metadata": {},
          "output_type": "display_data"
        },
        {
          "data": {
            "image/png": "[encoded data removed]",
            "text/plain": [
              "<Figure size 432x216 with 2 Axes>"
            ]
          },
          "metadata": {
            "needs_background": "light"
          },
          "output_type": "display_data"
        },
        {
          "data": {
            "text/plain": [
              "<Figure size 432x288 with 0 Axes>"
            ]
          },
          "metadata": {},
          "output_type": "display_data"
        },
        {
          "data": {
            "image/png": "[encoded data removed]",
            "text/plain": [
              "<Figure size 432x216 with 2 Axes>"
            ]
          },
          "metadata": {
            "needs_background": "light"
          },
          "output_type": "display_data"
        },
        {
          "data": {
            "text/plain": [
              "<Figure size 432x288 with 0 Axes>"
            ]
          },
          "metadata": {},
          "output_type": "display_data"
        },
        {
          "data": {
            "image/png": "[encoded data removed]",
            "text/plain": [
              "<Figure size 432x216 with 2 Axes>"
            ]
          },
          "metadata": {
            "needs_background": "light"
          },
          "output_type": "display_data"
        },
        {
          "data": {
            "text/plain": [
              "<Figure size 432x288 with 0 Axes>"
            ]
          },
          "metadata": {},
          "output_type": "display_data"
        },
        {
          "data": {
            "image/png": "[encoded data removed]",
            "text/plain": [
              "<Figure size 432x216 with 2 Axes>"
            ]
          },
          "metadata": {
            "needs_background": "light"
          },
          "output_type": "display_data"
        },
        {
          "data": {
            "text/plain": [
              "<Figure size 432x288 with 0 Axes>"
            ]
          },
          "metadata": {},
          "output_type": "display_data"
        },
        {
          "data": {
            "image/png": "[encoded data removed]",
            "text/plain": [
              "<Figure size 432x216 with 2 Axes>"
            ]
          },
          "metadata": {
            "needs_background": "light"
          },
          "output_type": "display_data"
        },
        {
          "data": {
            "text/plain": [
              "<Figure size 432x288 with 0 Axes>"
            ]
          },
          "metadata": {},
          "output_type": "display_data"
        },
        {
          "data": {
            "image/png": "[encoded data removed]",
            "text/plain": [
              "<Figure size 432x216 with 2 Axes>"
            ]
          },
          "metadata": {
            "needs_background": "light"
          },
          "output_type": "display_data"
        },
        {
          "data": {
            "text/plain": [
              "<Figure size 432x288 with 0 Axes>"
            ]
          },
          "metadata": {},
          "output_type": "display_data"
        },
        {
          "data": {
            "image/png": "[encoded data removed]",
            "text/plain": [
              "<Figure size 432x216 with 2 Axes>"
            ]
          },
          "metadata": {
            "needs_background": "light"
          },
          "output_type": "display_data"
        },
        {
          "data": {
            "text/plain": [
              "<Figure size 432x288 with 0 Axes>"
            ]
          },
          "metadata": {},
          "output_type": "display_data"
        }
      ],
      "source": [
        "for i in range(0,13):\n",
        "  plt.figure(figsize=(6,3))\n",
        "  plt.subplot(1,2,1)\n",
        "  plot_image(i, predictions[i], test_labels, test_images.reshape(10000,28,28))\n",
        "  plt.subplot(1,2,2)\n",
        "  plot_value_array(i, predictions[i],  test_labels)\n",
        "  plt.show()\n",
        "  plt.clf()"
      ]
    },
    {
      "cell_type": "code",
      "execution_count": null,
      "metadata": {
        "colab": {
          "base_uri": "https://localhost:8080/",
          "height": 1000
        },
        "id": "EVvKUa-b-YxR",
        "outputId": "488d5d28-a41b-4697-8941-a4a316c67389"
      },
      "outputs": [
        {
          "data": {
            "image/png": "[encoded data removed]",
            "text/plain": [
              "<Figure size 432x216 with 2 Axes>"
            ]
          },
          "metadata": {
            "needs_background": "light"
          },
          "output_type": "display_data"
        },
        {
          "data": {
            "text/plain": [
              "<Figure size 432x288 with 0 Axes>"
            ]
          },
          "metadata": {},
          "output_type": "display_data"
        },
        {
          "data": {
            "image/png": "[encoded data removed]",
            "text/plain": [
              "<Figure size 432x216 with 2 Axes>"
            ]
          },
          "metadata": {
            "needs_background": "light"
          },
          "output_type": "display_data"
        },
        {
          "data": {
            "text/plain": [
              "<Figure size 432x288 with 0 Axes>"
            ]
          },
          "metadata": {},
          "output_type": "display_data"
        },
        {
          "data": {
            "image/png": "[encoded data removed]",
            "text/plain": [
              "<Figure size 432x216 with 2 Axes>"
            ]
          },
          "metadata": {
            "needs_background": "light"
          },
          "output_type": "display_data"
        },
        {
          "data": {
            "text/plain": [
              "<Figure size 432x288 with 0 Axes>"
            ]
          },
          "metadata": {},
          "output_type": "display_data"
        },
        {
          "data": {
            "image/png": "[encoded data removed]",
            "text/plain": [
              "<Figure size 432x216 with 2 Axes>"
            ]
          },
          "metadata": {
            "needs_background": "light"
          },
          "output_type": "display_data"
        },
        {
          "data": {
            "text/plain": [
              "<Figure size 432x288 with 0 Axes>"
            ]
          },
          "metadata": {},
          "output_type": "display_data"
        },
        {
          "data": {
            "image/png": "[encoded data removed]",
            "text/plain": [
              "<Figure size 432x216 with 2 Axes>"
            ]
          },
          "metadata": {
            "needs_background": "light"
          },
          "output_type": "display_data"
        },
        {
          "data": {
            "text/plain": [
              "<Figure size 432x288 with 0 Axes>"
            ]
          },
          "metadata": {},
          "output_type": "display_data"
        },
        {
          "data": {
            "image/png": "[encoded data removed]",
            "text/plain": [
              "<Figure size 432x216 with 2 Axes>"
            ]
          },
          "metadata": {
            "needs_background": "light"
          },
          "output_type": "display_data"
        },
        {
          "data": {
            "text/plain": [
              "<Figure size 432x288 with 0 Axes>"
            ]
          },
          "metadata": {},
          "output_type": "display_data"
        },
        {
          "data": {
            "image/png": "[encoded data removed]",
            "text/plain": [
              "<Figure size 432x216 with 2 Axes>"
            ]
          },
          "metadata": {
            "needs_background": "light"
          },
          "output_type": "display_data"
        },
        {
          "data": {
            "text/plain": [
              "<Figure size 432x288 with 0 Axes>"
            ]
          },
          "metadata": {},
          "output_type": "display_data"
        },
        {
          "data": {
            "image/png": "[encoded data removed]",
            "text/plain": [
              "<Figure size 432x216 with 2 Axes>"
            ]
          },
          "metadata": {
            "needs_background": "light"
          },
          "output_type": "display_data"
        },
        {
          "data": {
            "text/plain": [
              "<Figure size 432x288 with 0 Axes>"
            ]
          },
          "metadata": {},
          "output_type": "display_data"
        },
        {
          "data": {
            "image/png": "[encoded data removed]",
            "text/plain": [
              "<Figure size 432x216 with 2 Axes>"
            ]
          },
          "metadata": {
            "needs_background": "light"
          },
          "output_type": "display_data"
        },
        {
          "data": {
            "text/plain": [
              "<Figure size 432x288 with 0 Axes>"
            ]
          },
          "metadata": {},
          "output_type": "display_data"
        },
        {
          "data": {
            "image/png": "[encoded data removed]",
            "text/plain": [
              "<Figure size 432x216 with 2 Axes>"
            ]
          },
          "metadata": {
            "needs_background": "light"
          },
          "output_type": "display_data"
        },
        {
          "data": {
            "text/plain": [
              "<Figure size 432x288 with 0 Axes>"
            ]
          },
          "metadata": {},
          "output_type": "display_data"
        },
        {
          "data": {
            "image/png": "[encoded data removed]",
            "text/plain": [
              "<Figure size 432x216 with 2 Axes>"
            ]
          },
          "metadata": {
            "needs_background": "light"
          },
          "output_type": "display_data"
        },
        {
          "data": {
            "text/plain": [
              "<Figure size 432x288 with 0 Axes>"
            ]
          },
          "metadata": {},
          "output_type": "display_data"
        },
        {
          "data": {
            "image/png": "[encoded data removed]",
            "text/plain": [
              "<Figure size 432x216 with 2 Axes>"
            ]
          },
          "metadata": {
            "needs_background": "light"
          },
          "output_type": "display_data"
        },
        {
          "data": {
            "text/plain": [
              "<Figure size 432x288 with 0 Axes>"
            ]
          },
          "metadata": {},
          "output_type": "display_data"
        },
        {
          "data": {
            "image/png": "[encoded data removed]",
            "text/plain": [
              "<Figure size 432x216 with 2 Axes>"
            ]
          },
          "metadata": {
            "needs_background": "light"
          },
          "output_type": "display_data"
        },
        {
          "data": {
            "text/plain": [
              "<Figure size 432x288 with 0 Axes>"
            ]
          },
          "metadata": {},
          "output_type": "display_data"
        }
      ],
      "source": [
        "for i in range(0,13):\n",
        "  plt.figure(figsize=(6,3))\n",
        "  plt.subplot(1,2,1)\n",
        "  plot_image(i, predictions2[i], test_labels, test_images.reshape(10000,28,28))\n",
        "  plt.subplot(1,2,2)\n",
        "  plot_value_array(i, predictions2[i],  test_labels)\n",
        "  plt.show()\n",
        "  plt.clf()"
      ]
    },
    {
      "cell_type": "code",
      "execution_count": null,
      "metadata": {
        "colab": {
          "base_uri": "https://localhost:8080/",
          "height": 1000
        },
        "id": "gsnEi4CI-cLA",
        "outputId": "b075d5bc-b31b-4405-f062-bb0c6dfc32b9"
      },
      "outputs": [
        {
          "data": {
            "image/png": "[encoded data removed]",
            "text/plain": [
              "<Figure size 432x216 with 2 Axes>"
            ]
          },
          "metadata": {
            "needs_background": "light"
          },
          "output_type": "display_data"
        },
        {
          "data": {
            "text/plain": [
              "<Figure size 432x288 with 0 Axes>"
            ]
          },
          "metadata": {},
          "output_type": "display_data"
        },
        {
          "data": {
            "image/png": "[encoded data removed]",
            "text/plain": [
              "<Figure size 432x216 with 2 Axes>"
            ]
          },
          "metadata": {
            "needs_background": "light"
          },
          "output_type": "display_data"
        },
        {
          "data": {
            "text/plain": [
              "<Figure size 432x288 with 0 Axes>"
            ]
          },
          "metadata": {},
          "output_type": "display_data"
        },
        {
          "data": {
            "image/png": "[encoded data removed]",
            "text/plain": [
              "<Figure size 432x216 with 2 Axes>"
            ]
          },
          "metadata": {
            "needs_background": "light"
          },
          "output_type": "display_data"
        },
        {
          "data": {
            "text/plain": [
              "<Figure size 432x288 with 0 Axes>"
            ]
          },
          "metadata": {},
          "output_type": "display_data"
        },
        {
          "data": {
            "image/png": "[encoded data removed]",
            "text/plain": [
              "<Figure size 432x216 with 2 Axes>"
            ]
          },
          "metadata": {
            "needs_background": "light"
          },
          "output_type": "display_data"
        },
        {
          "data": {
            "text/plain": [
              "<Figure size 432x288 with 0 Axes>"
            ]
          },
          "metadata": {},
          "output_type": "display_data"
        },
        {
          "data": {
            "image/png": "[encoded data removed]",
            "text/plain": [
              "<Figure size 432x216 with 2 Axes>"
            ]
          },
          "metadata": {
            "needs_background": "light"
          },
          "output_type": "display_data"
        },
        {
          "data": {
            "text/plain": [
              "<Figure size 432x288 with 0 Axes>"
            ]
          },
          "metadata": {},
          "output_type": "display_data"
        },
        {
          "data": {
            "image/png": "[encoded data removed]",
            "text/plain": [
              "<Figure size 432x216 with 2 Axes>"
            ]
          },
          "metadata": {
            "needs_background": "light"
          },
          "output_type": "display_data"
        },
        {
          "data": {
            "text/plain": [
              "<Figure size 432x288 with 0 Axes>"
            ]
          },
          "metadata": {},
          "output_type": "display_data"
        },
        {
          "data": {
            "image/png": "[encoded data removed]",
            "text/plain": [
              "<Figure size 432x216 with 2 Axes>"
            ]
          },
          "metadata": {
            "needs_background": "light"
          },
          "output_type": "display_data"
        },
        {
          "data": {
            "text/plain": [
              "<Figure size 432x288 with 0 Axes>"
            ]
          },
          "metadata": {},
          "output_type": "display_data"
        },
        {
          "data": {
            "image/png": "[encoded data removed]",
            "text/plain": [
              "<Figure size 432x216 with 2 Axes>"
            ]
          },
          "metadata": {
            "needs_background": "light"
          },
          "output_type": "display_data"
        },
        {
          "data": {
            "text/plain": [
              "<Figure size 432x288 with 0 Axes>"
            ]
          },
          "metadata": {},
          "output_type": "display_data"
        },
        {
          "data": {
            "image/png": "[encoded data removed]",
            "text/plain": [
              "<Figure size 432x216 with 2 Axes>"
            ]
          },
          "metadata": {
            "needs_background": "light"
          },
          "output_type": "display_data"
        },
        {
          "data": {
            "text/plain": [
              "<Figure size 432x288 with 0 Axes>"
            ]
          },
          "metadata": {},
          "output_type": "display_data"
        },
        {
          "data": {
            "image/png": "[encoded data removed]",
            "text/plain": [
              "<Figure size 432x216 with 2 Axes>"
            ]
          },
          "metadata": {
            "needs_background": "light"
          },
          "output_type": "display_data"
        },
        {
          "data": {
            "text/plain": [
              "<Figure size 432x288 with 0 Axes>"
            ]
          },
          "metadata": {},
          "output_type": "display_data"
        },
        {
          "data": {
            "image/png": "[encoded data removed]",
            "text/plain": [
              "<Figure size 432x216 with 2 Axes>"
            ]
          },
          "metadata": {
            "needs_background": "light"
          },
          "output_type": "display_data"
        },
        {
          "data": {
            "text/plain": [
              "<Figure size 432x288 with 0 Axes>"
            ]
          },
          "metadata": {},
          "output_type": "display_data"
        },
        {
          "data": {
            "image/png": "[encoded data removed]",
            "text/plain": [
              "<Figure size 432x216 with 2 Axes>"
            ]
          },
          "metadata": {
            "needs_background": "light"
          },
          "output_type": "display_data"
        },
        {
          "data": {
            "text/plain": [
              "<Figure size 432x288 with 0 Axes>"
            ]
          },
          "metadata": {},
          "output_type": "display_data"
        },
        {
          "data": {
            "image/png": "[encoded data removed]",
            "text/plain": [
              "<Figure size 432x216 with 2 Axes>"
            ]
          },
          "metadata": {
            "needs_background": "light"
          },
          "output_type": "display_data"
        },
        {
          "data": {
            "text/plain": [
              "<Figure size 432x288 with 0 Axes>"
            ]
          },
          "metadata": {},
          "output_type": "display_data"
        }
      ],
      "source": [
        "for i in range(0,13):\n",
        "  plt.figure(figsize=(6,3))\n",
        "  plt.subplot(1,2,1)\n",
        "  plot_image(i, predictions3[i], test_labels, test_images.reshape(10000,28,28))\n",
        "  plt.subplot(1,2,2)\n",
        "  plot_value_array(i, predictions3[i],  test_labels)\n",
        "  plt.show()\n",
        "  plt.clf()"
      ]
    },
    {
      "cell_type": "markdown",
      "metadata": {
        "id": "SIV1IdeWEU91"
      },
      "source": [
        "# Modelo con los conceptos batch_normalization y dropout "
      ]
    },
    {
      "cell_type": "code",
      "execution_count": null,
      "metadata": {
        "colab": {
          "base_uri": "https://localhost:8080/"
        },
        "id": "r8u_DvPJEfWa",
        "outputId": "7c556af0-0be5-4a99-ab7e-9a030e2150b8"
      },
      "outputs": [
        {
          "name": "stdout",
          "output_type": "stream",
          "text": [
            "CASO 1 \n",
            "\n",
            "Model: \"sequential_20\"\n",
            "_________________________________________________________________\n",
            " Layer (type)                Output Shape              Param #   \n",
            "=================================================================\n",
            " conv2d_43 (Conv2D)          (None, 24, 24, 32)        832       \n",
            "                                                                 \n",
            " batch_normalization_20 (Bat  (None, 24, 24, 32)       128       \n",
            " chNormalization)                                                \n",
            "                                                                 \n",
            " max_pooling2d_33 (MaxPoolin  (None, 12, 12, 32)       0         \n",
            " g2D)                                                            \n",
            "                                                                 \n",
            " dropout_18 (Dropout)        (None, 12, 12, 32)        0         \n",
            "                                                                 \n",
            " conv2d_44 (Conv2D)          (None, 8, 8, 64)          51264     \n",
            "                                                                 \n",
            " batch_normalization_21 (Bat  (None, 8, 8, 64)         256       \n",
            " chNormalization)                                                \n",
            "                                                                 \n",
            " dropout_19 (Dropout)        (None, 8, 8, 64)          0         \n",
            "                                                                 \n",
            " batch_normalization_22 (Bat  (None, 8, 8, 64)         256       \n",
            " chNormalization)                                                \n",
            "                                                                 \n",
            " flatten_19 (Flatten)        (None, 4096)              0         \n",
            "                                                                 \n",
            " dense_30 (Dense)            (None, 10)                40970     \n",
            "                                                                 \n",
            "=================================================================\n",
            "Total params: 93,706\n",
            "Trainable params: 93,386\n",
            "Non-trainable params: 320\n",
            "_________________________________________________________________\n"
          ]
        }
      ],
      "source": [
        "model = Sequential()\n",
        "model.add(Conv2D(32, (5, 5), activation='relu', input_shape=(28, 28, 1)))\n",
        "model.add(BatchNormalization())\n",
        "model.add(MaxPooling2D((2, 2)))\n",
        "model.add(Dropout(0.5))\n",
        "model.add(Conv2D(64,(5,5), activation='relu'))\n",
        "model.add(BatchNormalization())\n",
        "model.add(Dropout(0.5))\n",
        "model.add(BatchNormalization())\n",
        "model.add(Flatten())\n",
        "model.add(Dense(10,'softmax'))\n",
        "\n",
        "\n",
        "print('CASO 1 \\n')\n",
        "model.summary()"
      ]
    },
    {
      "cell_type": "code",
      "execution_count": null,
      "metadata": {
        "id": "svYqnbYFEyLT"
      },
      "outputs": [],
      "source": [
        "model.compile(optimizer='adam',\n",
        "              loss='sparse_categorical_crossentropy',\n",
        "              metrics=['accuracy'])"
      ]
    },
    {
      "cell_type": "code",
      "execution_count": null,
      "metadata": {
        "colab": {
          "base_uri": "https://localhost:8080/"
        },
        "id": "8yE265BQE7L6",
        "outputId": "2f1496dd-3b6f-477f-e485-afa407810e3f"
      },
      "outputs": [
        {
          "name": "stdout",
          "output_type": "stream",
          "text": [
            "Epoch 1/5\n",
            "1875/1875 [==============================] - 7s 3ms/step - loss: 0.5521 - accuracy: 0.8097\n",
            "Epoch 2/5\n",
            "1875/1875 [==============================] - 6s 3ms/step - loss: 0.3978 - accuracy: 0.8589\n",
            "Epoch 3/5\n",
            "1875/1875 [==============================] - 6s 3ms/step - loss: 0.3451 - accuracy: 0.8742\n",
            "Epoch 4/5\n",
            "1875/1875 [==============================] - 6s 3ms/step - loss: 0.3222 - accuracy: 0.8823\n",
            "Epoch 5/5\n",
            "1875/1875 [==============================] - 6s 3ms/step - loss: 0.3021 - accuracy: 0.8897\n",
            "313/313 [==============================] - 1s 3ms/step - loss: 0.2884 - accuracy: 0.8930\n"
          ]
        }
      ],
      "source": [
        "model.fit(train_images, train_labels, epochs=5)\n",
        "\n",
        "test_loss, test_acc = model.evaluate(test_images,  test_labels)"
      ]
    },
    {
      "cell_type": "code",
      "execution_count": null,
      "metadata": {
        "id": "wUqfLKQDIVRk"
      },
      "outputs": [],
      "source": [
        "def plot_image(i, predictions_array, true_label, img):\n",
        "  predictions_array, true_label, img = predictions_array, true_label[i], img[i]\n",
        "  plt.grid(False)\n",
        "  plt.xticks([])\n",
        "  plt.yticks([])\n",
        "\n",
        "  plt.imshow(img, cmap=plt.cm.binary)    \n",
        "\n",
        "  predicted_label = np.argmax(predictions_array)\n",
        "  if predicted_label.all() == true_label.all():\n",
        "    color = 'blue'\n",
        "  else:\n",
        "    color = 'red'\n",
        "\n",
        "  plt.xlabel(\"{} {:2.0f}% ({})\".format(predicted_label,\n",
        "                                100*np.max(predictions_array),\n",
        "                                true_label),\n",
        "                                color=color)\n",
        "\n",
        "def plot_value_array(i, predictions_array, true_label):\n",
        "  predictions_array, true_label = predictions_array, true_label[i]\n",
        "  plt.grid(False)\n",
        "  plt.xticks(range(10))\n",
        "  plt.yticks([])\n",
        "  thisplot = plt.bar(range(10), predictions_array, color=\"#00FF00\")\n",
        "  plt.ylim([0, 1])\n",
        "  predicted_label = np.argmax(predictions_array)\n",
        "\n",
        "  thisplot[predicted_label].set_color('red')\n",
        "  thisplot[true_label].set_color('black')"
      ]
    },
    {
      "cell_type": "code",
      "execution_count": null,
      "metadata": {
        "colab": {
          "base_uri": "https://localhost:8080/"
        },
        "id": "9j-ypm8RIYGh",
        "outputId": "997161a6-a9ae-40f8-9443-92da8e01e181"
      },
      "outputs": [
        {
          "name": "stdout",
          "output_type": "stream",
          "text": [
            "313/313 [==============================] - 1s 2ms/step\n"
          ]
        }
      ],
      "source": [
        "predictions = model.predict(test_images)\n",
        "\n",
        "test_labels=test_labels.reshape(10000,)"
      ]
    },
    {
      "cell_type": "code",
      "execution_count": null,
      "metadata": {
        "colab": {
          "base_uri": "https://localhost:8080/",
          "height": 1000
        },
        "id": "YVWHob16Ic2q",
        "outputId": "14957c6f-578d-42f6-82d6-278cbffe5163"
      },
      "outputs": [
        {
          "data": {
            "image/png": "[encoded data removed]",
            "text/plain": [
              "<Figure size 432x216 with 2 Axes>"
            ]
          },
          "metadata": {
            "needs_background": "light"
          },
          "output_type": "display_data"
        },
        {
          "data": {
            "text/plain": [
              "<Figure size 432x288 with 0 Axes>"
            ]
          },
          "metadata": {},
          "output_type": "display_data"
        },
        {
          "data": {
            "image/png": "[encoded data removed]",
            "text/plain": [
              "<Figure size 432x216 with 2 Axes>"
            ]
          },
          "metadata": {
            "needs_background": "light"
          },
          "output_type": "display_data"
        },
        {
          "data": {
            "text/plain": [
              "<Figure size 432x288 with 0 Axes>"
            ]
          },
          "metadata": {},
          "output_type": "display_data"
        },
        {
          "data": {
            "image/png": "[encoded data removed]",
            "text/plain": [
              "<Figure size 432x216 with 2 Axes>"
            ]
          },
          "metadata": {
            "needs_background": "light"
          },
          "output_type": "display_data"
        },
        {
          "data": {
            "text/plain": [
              "<Figure size 432x288 with 0 Axes>"
            ]
          },
          "metadata": {},
          "output_type": "display_data"
        },
        {
          "data": {
            "image/png": "[encoded data removed]",
            "text/plain": [
              "<Figure size 432x216 with 2 Axes>"
            ]
          },
          "metadata": {
            "needs_background": "light"
          },
          "output_type": "display_data"
        },
        {
          "data": {
            "text/plain": [
              "<Figure size 432x288 with 0 Axes>"
            ]
          },
          "metadata": {},
          "output_type": "display_data"
        },
        {
          "data": {
            "image/png": "[encoded data removed]",
            "text/plain": [
              "<Figure size 432x216 with 2 Axes>"
            ]
          },
          "metadata": {
            "needs_background": "light"
          },
          "output_type": "display_data"
        },
        {
          "data": {
            "text/plain": [
              "<Figure size 432x288 with 0 Axes>"
            ]
          },
          "metadata": {},
          "output_type": "display_data"
        },
        {
          "data": {
            "image/png": "[encoded data removed]",
            "text/plain": [
              "<Figure size 432x216 with 2 Axes>"
            ]
          },
          "metadata": {
            "needs_background": "light"
          },
          "output_type": "display_data"
        },
        {
          "data": {
            "text/plain": [
              "<Figure size 432x288 with 0 Axes>"
            ]
          },
          "metadata": {},
          "output_type": "display_data"
        },
        {
          "data": {
            "image/png": "[encoded data removed]",
            "text/plain": [
              "<Figure size 432x216 with 2 Axes>"
            ]
          },
          "metadata": {
            "needs_background": "light"
          },
          "output_type": "display_data"
        },
        {
          "data": {
            "text/plain": [
              "<Figure size 432x288 with 0 Axes>"
            ]
          },
          "metadata": {},
          "output_type": "display_data"
        },
        {
          "data": {
            "image/png": "[encoded data removed]",
            "text/plain": [
              "<Figure size 432x216 with 2 Axes>"
            ]
          },
          "metadata": {
            "needs_background": "light"
          },
          "output_type": "display_data"
        },
        {
          "data": {
            "text/plain": [
              "<Figure size 432x288 with 0 Axes>"
            ]
          },
          "metadata": {},
          "output_type": "display_data"
        },
        {
          "data": {
            "image/png": "[encoded data removed]",
            "text/plain": [
              "<Figure size 432x216 with 2 Axes>"
            ]
          },
          "metadata": {
            "needs_background": "light"
          },
          "output_type": "display_data"
        },
        {
          "data": {
            "text/plain": [
              "<Figure size 432x288 with 0 Axes>"
            ]
          },
          "metadata": {},
          "output_type": "display_data"
        },
        {
          "data": {
            "image/png": "[encoded data removed]",
            "text/plain": [
              "<Figure size 432x216 with 2 Axes>"
            ]
          },
          "metadata": {
            "needs_background": "light"
          },
          "output_type": "display_data"
        },
        {
          "data": {
            "text/plain": [
              "<Figure size 432x288 with 0 Axes>"
            ]
          },
          "metadata": {},
          "output_type": "display_data"
        },
        {
          "data": {
            "image/png": "[encoded data removed]",
            "text/plain": [
              "<Figure size 432x216 with 2 Axes>"
            ]
          },
          "metadata": {
            "needs_background": "light"
          },
          "output_type": "display_data"
        },
        {
          "data": {
            "text/plain": [
              "<Figure size 432x288 with 0 Axes>"
            ]
          },
          "metadata": {},
          "output_type": "display_data"
        },
        {
          "data": {
            "image/png": "[encoded data removed]",
            "text/plain": [
              "<Figure size 432x216 with 2 Axes>"
            ]
          },
          "metadata": {
            "needs_background": "light"
          },
          "output_type": "display_data"
        },
        {
          "data": {
            "text/plain": [
              "<Figure size 432x288 with 0 Axes>"
            ]
          },
          "metadata": {},
          "output_type": "display_data"
        },
        {
          "data": {
            "image/png": "[encoded data removed]",
            "text/plain": [
              "<Figure size 432x216 with 2 Axes>"
            ]
          },
          "metadata": {
            "needs_background": "light"
          },
          "output_type": "display_data"
        },
        {
          "data": {
            "text/plain": [
              "<Figure size 432x288 with 0 Axes>"
            ]
          },
          "metadata": {},
          "output_type": "display_data"
        }
      ],
      "source": [
        "for i in range(0,13):\n",
        "  plt.figure(figsize=(6,3))\n",
        "  plt.subplot(1,2,1)\n",
        "  plot_image(i, predictions[i], test_labels, test_images.reshape(10000,28,28))\n",
        "  plt.subplot(1,2,2)\n",
        "  plot_value_array(i, predictions[i],  test_labels)\n",
        "  plt.show()\n",
        "  plt.clf()"
      ]
    }
  ],
  "metadata": {
    "accelerator": "GPU",
    "colab": {
      "collapsed_sections": [
        "kEtTwyTVhOlS"
      ],
      "provenance": []
    },
    "gpuClass": "standard",
    "kernelspec": {
      "display_name": "Python 3",
      "name": "python3"
    },
    "language_info": {
      "name": "python"
    }
  },
  "nbformat": 4,
  "nbformat_minor": 0
}