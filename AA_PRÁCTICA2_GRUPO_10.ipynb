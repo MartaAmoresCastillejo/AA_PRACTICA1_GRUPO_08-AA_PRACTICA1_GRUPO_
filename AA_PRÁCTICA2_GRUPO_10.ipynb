{
  "cells": [
    {
      "cell_type": "markdown",
      "metadata": {
        "id": "kEtTwyTVhOlS"
      },
      "source": [
        "**Marta Amores**\n",
        "\n",
        "#Práctica 2#\n",
        "\n",
        "\n",
        "Debemos crear un modelo de Red de Neuronas Convolucionales, estas capas nos ayudarán al mejor reconocimiento de imágenes, para que nuestro modelo sea capaz de reconocer y clasificar imágenes. \n",
        "Este modelo será definido, configurado, entrenado, evaluado y mejorado para posteriormente usarlo para hacer predicciones.  \n",
        "\n",
        "\n",
        "Para entender mejor que son las redes convolucionales, sabemos que soy muy similares a las densamente conectadas (Dense), estas tienen pesos y sesgos y son capaces de aprender. \n",
        "La diferencia es que las redes convolucionales suponen que las entradas son imágenes, esto hace que podamos identificar diferentes propiedades de las imágenes, más allá de las Dense. \n",
        "Lo que realmente hacen las capas convolucionales es, antes de saber que es una boca o un ojo, saber identificar las líneas, texturas o formas, que sean similares a ellas. Después aprender la disposición de estos, es decir, una boca siempre va a estar debajo de la nariz, finalmente ya aprenderá lo que es una boca o un ojo. \n",
        "\n"
      ]
    },
    {
      "cell_type": "code",
      "execution_count": 11,
      "metadata": {
        "colab": {
          "base_uri": "https://localhost:8080/"
        },
        "id": "S3kTjRHOknSe",
        "outputId": "56c1a264-ac3f-485d-e4c3-7923f6ecf698"
      },
      "outputs": [
        {
          "output_type": "stream",
          "name": "stdout",
          "text": [
            "Colab only includes TensorFlow 2.x; %tensorflow_version has no effect.\n",
            "2.9.2\n"
          ]
        }
      ],
      "source": [
        "%tensorflow_version 2.x\n",
        "import tensorflow as tf\n",
        "from tensorflow import keras\n",
        "\n",
        "import numpy as np\n",
        "import matplotlib.pyplot as plt\n",
        "\n",
        "print(tf.__version__)"
      ]
    },
    {
      "cell_type": "markdown",
      "metadata": {
        "id": "-f-i5x9okxXx"
      },
      "source": [
        "Comprobamos que nuestra versión es posterior a 2.0.0"
      ]
    },
    {
      "cell_type": "markdown",
      "metadata": {
        "id": "YsSLj8mFoQcO"
      },
      "source": [
        "Crgamos todas las librerías necesarías para poder entrenar nuestro modelo.\n",
        "Nos aseguramos que tenemos los datos en la forma que necesitamos. "
      ]
    },
    {
      "cell_type": "code",
      "execution_count": 12,
      "metadata": {
        "id": "U7ttH1LXniwm"
      },
      "outputs": [],
      "source": [
        "from tensorflow.keras import Sequential\n",
        "from tensorflow.keras.layers import Conv2D\n",
        "from tensorflow.keras.layers import MaxPooling2D\n",
        "from tensorflow.keras.layers import Dense\n",
        "from tensorflow.keras.layers import Flatten\n",
        "from tensorflow.keras.layers import Dropout, BatchNormalization\n",
        "\n",
        "(train_images, train_labels), (test_images, test_labels) = tf.keras.datasets.fashion_mnist.load_data()\n",
        "\n",
        "assert train_images.shape==(60000,28,28)\n",
        "assert test_images.shape==(10000,28,28)\n",
        "assert train_labels.shape==(60000,)\n",
        "assert test_labels.shape==(10000,)\n",
        "\n",
        "train_images = train_images.reshape((60000, 28, 28, 1))\n",
        "train_images = train_images.astype('float32') / 255\n",
        "test_images = test_images.reshape((10000, 28, 28, 1))\n",
        "test_images = test_images.astype('float32') / 255\n",
        "test_labels=test_labels.reshape((10000,1))\n",
        "train_labels=train_labels.reshape((60000,1))\n",
        "\n"
      ]
    },
    {
      "cell_type": "markdown",
      "metadata": {
        "id": "JcBke72WorAP"
      },
      "source": [
        "Comprobamos que los datos tienen la forma esperada.\n"
      ]
    },
    {
      "cell_type": "markdown",
      "metadata": {
        "id": "4U5BhbyxpV3d"
      },
      "source": [
        "#Definición de los modelos"
      ]
    },
    {
      "cell_type": "markdown",
      "metadata": {
        "id": "tWB7mV6LqELe"
      },
      "source": [
        "##Caso 1##"
      ]
    },
    {
      "cell_type": "code",
      "execution_count": 39,
      "metadata": {
        "colab": {
          "base_uri": "https://localhost:8080/"
        },
        "id": "v4KasE4jquta",
        "outputId": "2c3ea766-175c-494d-b279-e1912c2ff202"
      },
      "outputs": [
        {
          "output_type": "stream",
          "name": "stdout",
          "text": [
            "CASO 1 \n",
            "\n",
            "--------------------------------- \n",
            "\n",
            "NÚMERO DE FILTROS EN LA PRIMERA CAPA CONVOLUCIONAL: 32 \n",
            " \n",
            "TAMAÑO DE LA VENTANA EN LA PRIMERA CAPA CONVOLUCIONAL: 5x5 \n",
            "\n",
            "NÚMERO DE FILTROS EN LA SEGUNDA CAPA CONVOLUCIONAL: 64 \n",
            " \n",
            "TAMAÑO DE LA VENTANA EN LA SEGUNDA CAPA CONVOLUCIONAL: 5x5 \n",
            "\n",
            "TAMAÑO DE LA CAPA POOLING: 2x2 \n",
            "\n",
            "FUNCIÓN ACTIVACIÓN EN AMBAS CAPAS: relu \n",
            "  \n",
            "FUNCIÓN ACTIVACIÓN ULTIMA CAPA: softmax \n",
            " \n",
            "OPTIMIZADOR: sgd \n",
            " \n",
            "FUNCIÓN PÉRDIDA: sparse_categorical_crossentropy \n",
            "\n",
            "MÉTRICA: accuracy \n",
            "--------------------------------- \n",
            "\n",
            "Model: \"sequential_5\"\n",
            "_________________________________________________________________\n",
            " Layer (type)                Output Shape              Param #   \n",
            "=================================================================\n",
            " conv2d_10 (Conv2D)          (None, 24, 24, 32)        832       \n",
            "                                                                 \n",
            " max_pooling2d_10 (MaxPoolin  (None, 12, 12, 32)       0         \n",
            " g2D)                                                            \n",
            "                                                                 \n",
            " conv2d_11 (Conv2D)          (None, 8, 8, 64)          51264     \n",
            "                                                                 \n",
            " max_pooling2d_11 (MaxPoolin  (None, 4, 4, 64)         0         \n",
            " g2D)                                                            \n",
            "                                                                 \n",
            " flatten_5 (Flatten)         (None, 1024)              0         \n",
            "                                                                 \n",
            " dense_7 (Dense)             (None, 10)                10250     \n",
            "                                                                 \n",
            "=================================================================\n",
            "Total params: 62,346\n",
            "Trainable params: 62,346\n",
            "Non-trainable params: 0\n",
            "_________________________________________________________________\n"
          ]
        }
      ],
      "source": [
        "model1 = Sequential()\n",
        "model1.add(Conv2D(32, (5, 5), activation='relu', input_shape=(28, 28, 1)))\n",
        "model1.add(MaxPooling2D((2, 2)))\n",
        "model1.add(Conv2D(64,(5,5), activation='relu'))\n",
        "model1.add(MaxPooling2D((2, 2)))\n",
        "model1.add(Flatten())\n",
        "model1.add(Dense(10,'softmax'))\n",
        "\n",
        "print(\"CASO 1 \\n\")\n",
        "print(\"--------------------------------- \\n\")\n",
        "print(\"NÚMERO DE FILTROS EN LA PRIMERA CAPA CONVOLUCIONAL: 32 \\n \")\n",
        "print('TAMAÑO DE LA VENTANA EN LA PRIMERA CAPA CONVOLUCIONAL: 5x5 \\n')\n",
        "print(\"NÚMERO DE FILTROS EN LA SEGUNDA CAPA CONVOLUCIONAL: 64 \\n \")\n",
        "print('TAMAÑO DE LA VENTANA EN LA SEGUNDA CAPA CONVOLUCIONAL: 5x5 \\n')\n",
        "print('TAMAÑO DE LA CAPA POOLING: 2x2 \\n')\n",
        "print(\"FUNCIÓN ACTIVACIÓN EN AMBAS CAPAS: relu \\n  \",)\n",
        "print(\"FUNCIÓN ACTIVACIÓN ULTIMA CAPA: softmax \\n \")\n",
        "print(\"OPTIMIZADOR: sgd \\n \")\n",
        "print(\"FUNCIÓN PÉRDIDA: sparse_categorical_crossentropy \\n\")\n",
        "print(\"MÉTRICA: accuracy \")\n",
        "print('--------------------------------- \\n')\n",
        "\n",
        "model1.summary()\n",
        "\n"
      ]
    },
    {
      "cell_type": "markdown",
      "metadata": {
        "id": "JXeQa1LIxvkM"
      },
      "source": [
        "Nuestra función **summary** de nuestro CASO 1 nos indica:\n",
        "El input shape es (28x28) por la altura y la anchura, 1 porque la imágen es monocromática.\n",
        "*   La primera capa convolucional es, ((5x5)+1)x32=832 parámetros.\n",
        "*   La primera capa pooling no suma parámetros porque no aprende, 24/2=12\n",
        "*   La segunda capa convolucional es, (((5x5)x32)+1)x64=51264 parámetros.\n",
        "*   La segunda capa pooling no suma parámetros porque no aprende, 8/2=4\n",
        "*   La capa flatten tampoco suma parámetros porque no aprende, solo nos aplana los datos para pasárselos a la capa Dense.\n",
        "*   La última capa dense es, (((1024)x10))+10)=10250 parámetros.\n",
        "\n",
        "En total de los parámetros que hemos encontrado es:  62.346"
      ]
    },
    {
      "cell_type": "code",
      "execution_count": 40,
      "metadata": {
        "id": "92MRJ86vyUYZ"
      },
      "outputs": [],
      "source": [
        "model1.compile(loss = 'sparse_categorical_crossentropy',\n",
        "              optimizer = 'sgd',\n",
        "              metrics='accuracy')"
      ]
    },
    {
      "cell_type": "markdown",
      "metadata": {
        "id": "8hb0Jxgly6Y4"
      },
      "source": [
        "Entrenamos nuestro modelo con 5 épocas."
      ]
    },
    {
      "cell_type": "code",
      "execution_count": 41,
      "metadata": {
        "colab": {
          "base_uri": "https://localhost:8080/"
        },
        "id": "f08yoGadbxm4",
        "outputId": "b7964b3e-bcd7-4890-a3d2-0891ebbd1652"
      },
      "outputs": [
        {
          "output_type": "stream",
          "name": "stdout",
          "text": [
            "Epoch 1/5\n",
            "480/480 [==============================] - 63s 130ms/step - loss: 1.2709 - accuracy: 0.5869 - val_loss: 0.8485 - val_accuracy: 0.6846\n",
            "Epoch 2/5\n",
            "480/480 [==============================] - 52s 108ms/step - loss: 0.7088 - accuracy: 0.7412 - val_loss: 0.6791 - val_accuracy: 0.7472\n",
            "Epoch 3/5\n",
            "480/480 [==============================] - 53s 110ms/step - loss: 0.6182 - accuracy: 0.7741 - val_loss: 0.5826 - val_accuracy: 0.7831\n",
            "Epoch 4/5\n",
            "480/480 [==============================] - 52s 109ms/step - loss: 0.5671 - accuracy: 0.7955 - val_loss: 0.5322 - val_accuracy: 0.8053\n",
            "Epoch 5/5\n",
            "480/480 [==============================] - 52s 109ms/step - loss: 0.5306 - accuracy: 0.8108 - val_loss: 0.5343 - val_accuracy: 0.8088\n"
          ]
        }
      ],
      "source": [
        " historia1=model1.fit(train_images, train_labels,\n",
        "          batch_size=100,\n",
        "          epochs=5,\n",
        "          verbose=1,\n",
        "          validation_split=0.2)"
      ]
    },
    {
      "cell_type": "code",
      "execution_count": 42,
      "metadata": {
        "id": "XqMGEsSkA4rc"
      },
      "outputs": [],
      "source": [
        "def pinta_precision_entrenamiento_validacion(historia):\n",
        "  history_dict = historia.history\n",
        "  acc = historia.history['accuracy']\n",
        "  val_acc = historia.history['val_accuracy']\n",
        "  loss = historia.history['loss']\n",
        "  val_loss = historia.history['val_loss']\n",
        "  plt.clf()   # Limpia la figura\n",
        "  acc_values = history_dict['accuracy']\n",
        "  val_acc_values = history_dict['val_accuracy']\n",
        "  epochs = range(1, len(acc) + 1)\n",
        "  plt.plot(epochs, acc, 'bo', label='Precisión de Entrenamiento')\n",
        "  plt.plot(epochs, val_acc, 'b', label='Precisión de Validación')\n",
        "  plt.title('Precisión de Entrenamiento y Valización')\n",
        "  plt.xlabel('Epochs')\n",
        "  plt.ylabel('Loss')\n",
        "  plt.legend()\n",
        "  plt.show()"
      ]
    },
    {
      "cell_type": "code",
      "execution_count": 43,
      "metadata": {
        "id": "qSDpa-wcA9D6"
      },
      "outputs": [],
      "source": [
        "def pinta_perdida_entrenamiento_validacion(historia):\n",
        "  history_dict = historia.history\n",
        "  acc = historia.history['accuracy']\n",
        "  val_acc = historia.history['val_accuracy']\n",
        "  loss = historia.history['loss']\n",
        "  val_loss = historia.history['val_loss']\n",
        "  epochs = range(1, len(acc) + 1)\n",
        "  # \"bo\" es para \"punto azun\"\n",
        "  plt.plot(epochs, loss, 'bo', label='Pérdida de Entrenamiento')\n",
        "  # \"b\" es para \"linea continua azul\"\n",
        "  plt.plot(epochs, val_loss, 'b', label='Pérdida de Validación')\n",
        "  plt.title('Pérdida de Entrenamiento y Validación')\n",
        "  plt.xlabel('Epochs')\n",
        "  plt.ylabel('Loss')\n",
        "  plt.legend()\n",
        "  plt.show()"
      ]
    },
    {
      "cell_type": "code",
      "execution_count": 44,
      "metadata": {
        "colab": {
          "base_uri": "https://localhost:8080/",
          "height": 571
        },
        "id": "pPg7SacJA-D8",
        "outputId": "2d5f84e2-7488-41a2-d611-179132d193a0"
      },
      "outputs": [
        {
          "output_type": "display_data",
          "data": {
            "text/plain": [
              "<Figure size 432x288 with 1 Axes>"
            ],
            "image/png": "[encoded data removed]"
          },
          "metadata": {
            "needs_background": "light"
          }
        },
        {
          "output_type": "display_data",
          "data": {
            "text/plain": [
              "<Figure size 432x288 with 1 Axes>"
            ],
            "image/png": "[encoded data removed]"
          },
          "metadata": {
            "needs_background": "light"
          }
        }
      ],
      "source": [
        "pinta_perdida_entrenamiento_validacion(historia1)\n",
        "pinta_precision_entrenamiento_validacion(historia1)"
      ]
    },
    {
      "cell_type": "markdown",
      "metadata": {
        "id": "FFTXZlN2YMrZ"
      },
      "source": [
        "\n",
        "#Caso 2"
      ]
    },
    {
      "cell_type": "code",
      "execution_count": 19,
      "metadata": {
        "colab": {
          "base_uri": "https://localhost:8080/"
        },
        "id": "ZoveKcg1cj_B",
        "outputId": "d53be82b-e42b-41ca-869c-a3e3682f3d3f"
      },
      "outputs": [
        {
          "output_type": "stream",
          "name": "stdout",
          "text": [
            "CASO 2 \n",
            "\n",
            "--------------------------------- \n",
            "\n",
            "NÚMERO DE FILTROS EN LA PRIMERA CAPA CONVOLUCIONAL: 64 \n",
            " \n",
            "TAMAÑO DE LA VENTANA EN LA PRIMERA CAPA CONVOLUCIONAL: 7x7 \n",
            "\n",
            "NÚMERO DE FILTROS EN LA SEGUNDA CAPA CONVOLUCIONAL: 128 \n",
            " \n",
            "TAMAÑO DE LA VENTANA EN LA SEGUNDA CAPA CONVOLUCIONAL: 3x3 \n",
            "\n",
            "TAMAÑO DE LA CAPA POOLING: 2x2 \n",
            "\n",
            "CAPA PADDING: same \n",
            "\n",
            "TAMAÑO ÚLTIMA CAPA DENSE: 65 \n",
            "\n",
            "FUNCIÓN ACTIVACIÓN EN LAS TRES CAPAS: relu \n",
            "  \n",
            "FUNCIÓN ACTIVACIÓN ULTIMA CAPA: softmax \n",
            " \n",
            "OPTIMIZADOR: sgd \n",
            " \n",
            "FUNCIÓN PÉRDIDA: sparse_categorical_crossentropy \n",
            "\n",
            "MÉTRICA: accuracy \n",
            "--------------------------------- \n",
            "\n",
            "Model: \"sequential_2\"\n",
            "_________________________________________________________________\n",
            " Layer (type)                Output Shape              Param #   \n",
            "=================================================================\n",
            " conv2d_4 (Conv2D)           (None, 28, 28, 64)        3200      \n",
            "                                                                 \n",
            " max_pooling2d_4 (MaxPooling  (None, 14, 14, 64)       0         \n",
            " 2D)                                                             \n",
            "                                                                 \n",
            " conv2d_5 (Conv2D)           (None, 14, 14, 128)       73856     \n",
            "                                                                 \n",
            " max_pooling2d_5 (MaxPooling  (None, 7, 7, 128)        0         \n",
            " 2D)                                                             \n",
            "                                                                 \n",
            " flatten_2 (Flatten)         (None, 6272)              0         \n",
            "                                                                 \n",
            " dense_2 (Dense)             (None, 65)                407745    \n",
            "                                                                 \n",
            " dense_3 (Dense)             (None, 10)                660       \n",
            "                                                                 \n",
            "=================================================================\n",
            "Total params: 485,461\n",
            "Trainable params: 485,461\n",
            "Non-trainable params: 0\n",
            "_________________________________________________________________\n"
          ]
        }
      ],
      "source": [
        "model2 = Sequential()\n",
        "model2.add(Conv2D(64, (7, 7), padding = 'same', activation='relu', input_shape=(28, 28, 1)))\n",
        "model2.add(MaxPooling2D((2, 2)))\n",
        "model2.add(Conv2D(128,(3,3), padding = 'same', activation='relu'))\n",
        "model2.add(MaxPooling2D((2, 2)))\n",
        "model2.add(Flatten())\n",
        "model2.add(Dense(65, activation='relu'))\n",
        "model2.add(Dense(10,'softmax'))\n",
        "\n",
        "print(\"CASO 2 \\n\")\n",
        "print(\"--------------------------------- \\n\")\n",
        "print(\"NÚMERO DE FILTROS EN LA PRIMERA CAPA CONVOLUCIONAL: 64 \\n \")\n",
        "print('TAMAÑO DE LA VENTANA EN LA PRIMERA CAPA CONVOLUCIONAL: 7x7 \\n')\n",
        "print(\"NÚMERO DE FILTROS EN LA SEGUNDA CAPA CONVOLUCIONAL: 128 \\n \")\n",
        "print('TAMAÑO DE LA VENTANA EN LA SEGUNDA CAPA CONVOLUCIONAL: 3x3 \\n')\n",
        "print('TAMAÑO DE LA CAPA POOLING: 2x2 \\n')\n",
        "print('CAPA PADDING: same \\n')\n",
        "print('TAMAÑO ÚLTIMA CAPA DENSE: 65 \\n')\n",
        "print(\"FUNCIÓN ACTIVACIÓN EN LAS TRES CAPAS: relu \\n  \",)\n",
        "print(\"FUNCIÓN ACTIVACIÓN ULTIMA CAPA: softmax \\n \")\n",
        "print(\"OPTIMIZADOR: sgd \\n \")\n",
        "print(\"FUNCIÓN PÉRDIDA: sparse_categorical_crossentropy \\n\")\n",
        "print(\"MÉTRICA: accuracy \")\n",
        "print('--------------------------------- \\n')\n",
        "\n",
        "model2.summary()"
      ]
    },
    {
      "cell_type": "markdown",
      "source": [
        "Nuestra función **summary** de nuestro CASO 2 nos indica:\n",
        "El input shape es (28x28) por la altura y la anchura, 1 porque la imágen es monocromática.\n",
        "*   La primera capa convolucional es, ((7x7)+1)x64=3200 parámetros.\n",
        "*   La primera capa pooling no suma parámetros porque no aprende, 28/2=14\n",
        "*   La segunda capa convolucional es, (((3x3)x64)+1)x128=73856 parámetros.\n",
        "*   La segunda capa pooling no suma parámetros porque no aprende, 14/2=7\n",
        "*   La capa flatten tampoco suma parámetros porque no aprende, solo nos aplana los datos para pasárselos a la capa Dense.\n",
        "*   La penúltima capa dense es, (((6272)x65))+65)=407745 parámetros.\n",
        "*   La última capa dense es, (65x10)+10=660\n",
        "\n",
        "En total de los parámetros que hemos encontrado es:  485.461"
      ],
      "metadata": {
        "id": "CiRuos5vPrcf"
      }
    },
    {
      "cell_type": "code",
      "execution_count": 20,
      "metadata": {
        "id": "r2PZTY8C7UnG"
      },
      "outputs": [],
      "source": [
        "model2.compile(loss = 'sparse_categorical_crossentropy',\n",
        "              optimizer = 'sgd',\n",
        "              metrics='accuracy')"
      ]
    },
    {
      "cell_type": "code",
      "execution_count": 21,
      "metadata": {
        "colab": {
          "base_uri": "https://localhost:8080/"
        },
        "id": "AY2WMh3ykqQu",
        "outputId": "f07a0410-8fbd-4043-98b4-220562d2d0fc"
      },
      "outputs": [
        {
          "output_type": "stream",
          "name": "stdout",
          "text": [
            "Epoch 1/5\n",
            "480/480 [==============================] - 177s 368ms/step - loss: 1.1151 - accuracy: 0.6151 - val_loss: 0.7076 - val_accuracy: 0.7402\n",
            "Epoch 2/5\n",
            "480/480 [==============================] - 184s 384ms/step - loss: 0.6839 - accuracy: 0.7451 - val_loss: 0.6267 - val_accuracy: 0.7662\n",
            "Epoch 3/5\n",
            "480/480 [==============================] - 178s 370ms/step - loss: 0.6115 - accuracy: 0.7743 - val_loss: 0.5936 - val_accuracy: 0.7714\n",
            "Epoch 4/5\n",
            "480/480 [==============================] - 178s 371ms/step - loss: 0.5643 - accuracy: 0.7934 - val_loss: 0.5893 - val_accuracy: 0.7727\n",
            "Epoch 5/5\n",
            "480/480 [==============================] - 180s 374ms/step - loss: 0.5296 - accuracy: 0.8073 - val_loss: 0.5118 - val_accuracy: 0.8121\n"
          ]
        }
      ],
      "source": [
        " historia2=model2.fit(train_images, train_labels,\n",
        "          batch_size=100,\n",
        "          epochs=5,\n",
        "          verbose=1,\n",
        "          validation_split=0.2)"
      ]
    },
    {
      "cell_type": "code",
      "execution_count": 22,
      "metadata": {
        "id": "DSUR2OkKBtWu",
        "outputId": "b1f3bdfa-7b40-47c8-c943-6cb88ce2d5ec",
        "colab": {
          "base_uri": "https://localhost:8080/",
          "height": 571
        }
      },
      "outputs": [
        {
          "output_type": "display_data",
          "data": {
            "text/plain": [
              "<Figure size 432x288 with 1 Axes>"
            ],
            "image/png": "[encoded data removed]"
          },
          "metadata": {
            "needs_background": "light"
          }
        },
        {
          "output_type": "display_data",
          "data": {
            "text/plain": [
              "<Figure size 432x288 with 1 Axes>"
            ],
            "image/png": "[encoded data removed]"
          },
          "metadata": {
            "needs_background": "light"
          }
        }
      ],
      "source": [
        "pinta_perdida_entrenamiento_validacion(historia2)\n",
        "pinta_precision_entrenamiento_validacion(historia2)"
      ]
    },
    {
      "cell_type": "markdown",
      "metadata": {
        "id": "Pl8CM0yKne--"
      },
      "source": [
        "#Caso 3"
      ]
    },
    {
      "cell_type": "code",
      "execution_count": 23,
      "metadata": {
        "colab": {
          "base_uri": "https://localhost:8080/"
        },
        "id": "am9PXc0Engwv",
        "outputId": "1984cd74-4aa5-4966-f3f5-5b6af816897b"
      },
      "outputs": [
        {
          "output_type": "stream",
          "name": "stdout",
          "text": [
            "CASO 3 \n",
            "\n",
            "--------------------------------- \n",
            "\n",
            "NÚMERO DE FILTROS EN LA PRIMERA CAPA CONVOLUCIONAL: 64 \n",
            " \n",
            "TAMAÑO DE LA VENTANA EN LA PRIMERA CAPA CONVOLUCIONAL: 7x7 \n",
            "\n",
            "NÚMERO DE FILTROS EN LA SEGUNDA CAPA CONVOLUCIONAL: 128 \n",
            " \n",
            "TAMAÑO DE LA VENTANA EN LA SEGUNDA CAPA CONVOLUCIONAL: 3x3 \n",
            "\n",
            "TAMAÑO DE LA CAPA POOLING: 2x2 \n",
            "\n",
            "CAPA PADDING: same \n",
            "\n",
            "TAMAÑO ÚLTIMA CAPA DENSE: 65 \n",
            "\n",
            "FUNCIÓN ACTIVACIÓN EN LAS TRES CAPAS: relu \n",
            "  \n",
            "FUNCIÓN ACTIVACIÓN ULTIMA CAPA: softmax \n",
            " \n",
            "OPTIMIZADOR: adam \n",
            " \n",
            "FUNCIÓN PÉRDIDA: sparse_categorical_crossentropy \n",
            "\n",
            "MÉTRICA: accuracy \n",
            "--------------------------------- \n",
            "\n",
            "Model: \"sequential_3\"\n",
            "_________________________________________________________________\n",
            " Layer (type)                Output Shape              Param #   \n",
            "=================================================================\n",
            " conv2d_6 (Conv2D)           (None, 28, 28, 64)        3200      \n",
            "                                                                 \n",
            " max_pooling2d_6 (MaxPooling  (None, 14, 14, 64)       0         \n",
            " 2D)                                                             \n",
            "                                                                 \n",
            " conv2d_7 (Conv2D)           (None, 14, 14, 128)       73856     \n",
            "                                                                 \n",
            " max_pooling2d_7 (MaxPooling  (None, 7, 7, 128)        0         \n",
            " 2D)                                                             \n",
            "                                                                 \n",
            " flatten_3 (Flatten)         (None, 6272)              0         \n",
            "                                                                 \n",
            " dense_4 (Dense)             (None, 65)                407745    \n",
            "                                                                 \n",
            " dense_5 (Dense)             (None, 10)                660       \n",
            "                                                                 \n",
            "=================================================================\n",
            "Total params: 485,461\n",
            "Trainable params: 485,461\n",
            "Non-trainable params: 0\n",
            "_________________________________________________________________\n"
          ]
        }
      ],
      "source": [
        "model3 = Sequential()\n",
        "model3.add(Conv2D(64, (7, 7), padding = 'same', activation='relu', input_shape=(28, 28, 1)))\n",
        "model3.add(MaxPooling2D((2, 2)))\n",
        "model3.add(Conv2D(128,(3,3), padding = 'same', activation='relu'))\n",
        "model3.add(MaxPooling2D((2, 2)))\n",
        "model3.add(Flatten())\n",
        "model3.add(Dense(65, activation='relu'))\n",
        "model3.add(Dense(10,'softmax'))\n",
        "\n",
        "print(\"CASO 3 \\n\")\n",
        "print(\"--------------------------------- \\n\")\n",
        "print(\"NÚMERO DE FILTROS EN LA PRIMERA CAPA CONVOLUCIONAL: 64 \\n \")\n",
        "print('TAMAÑO DE LA VENTANA EN LA PRIMERA CAPA CONVOLUCIONAL: 7x7 \\n')\n",
        "print(\"NÚMERO DE FILTROS EN LA SEGUNDA CAPA CONVOLUCIONAL: 128 \\n \")\n",
        "print('TAMAÑO DE LA VENTANA EN LA SEGUNDA CAPA CONVOLUCIONAL: 3x3 \\n')\n",
        "print('TAMAÑO DE LA CAPA POOLING: 2x2 \\n')\n",
        "print('CAPA PADDING: same \\n')\n",
        "print('TAMAÑO ÚLTIMA CAPA DENSE: 65 \\n')\n",
        "print(\"FUNCIÓN ACTIVACIÓN EN LAS TRES CAPAS: relu \\n  \",)\n",
        "print(\"FUNCIÓN ACTIVACIÓN ULTIMA CAPA: softmax \\n \")\n",
        "print(\"OPTIMIZADOR: adam \\n \")\n",
        "print(\"FUNCIÓN PÉRDIDA: sparse_categorical_crossentropy \\n\")\n",
        "print(\"MÉTRICA: accuracy \")\n",
        "print('--------------------------------- \\n')\n",
        "\n",
        "model3.summary()"
      ]
    },
    {
      "cell_type": "markdown",
      "source": [
        "Nuestra función **summary** de nuestro CASO 3 nos indica:\n",
        "El input shape es (28x28) por la altura y la anchura, 1 porque la imágen es monocromática.\n",
        "*   La primera capa convolucional es, ((7x7)+1)x64=3200 parámetros.\n",
        "*   La primera capa pooling no suma parámetros porque no aprende, 28/2=14\n",
        "*   La segunda capa convolucional es, (((3x3)x64)+1)x128=73856 parámetros.\n",
        "*   La segunda capa pooling no suma parámetros porque no aprende, 14/2=7\n",
        "*   La capa flatten tampoco suma parámetros porque no aprende, solo nos aplana los datos para pasárselos a la capa Dense.\n",
        "*   La penúltima capa dense es, (((6272)x65))+65)=407745 parámetros.\n",
        "*   La última capa dense es, (65x10)+10=660\n",
        "En total de los parámetros que hemos encontrado es:  485.461"
      ],
      "metadata": {
        "id": "o4XnsKzhT5iY"
      }
    },
    {
      "cell_type": "code",
      "execution_count": 24,
      "metadata": {
        "id": "tcpWzw6En8CE"
      },
      "outputs": [],
      "source": [
        "model3.compile(loss = 'sparse_categorical_crossentropy',\n",
        "              optimizer = 'adam',\n",
        "              metrics='accuracy')"
      ]
    },
    {
      "cell_type": "code",
      "execution_count": 25,
      "metadata": {
        "colab": {
          "base_uri": "https://localhost:8080/"
        },
        "id": "KrUmhPfHoAdu",
        "outputId": "9480136f-7669-47da-ca4c-748b4f8c3659"
      },
      "outputs": [
        {
          "output_type": "stream",
          "name": "stdout",
          "text": [
            "Epoch 1/5\n",
            "480/480 [==============================] - 193s 399ms/step - loss: 0.4912 - accuracy: 0.8255 - val_loss: 0.3580 - val_accuracy: 0.8722\n",
            "Epoch 2/5\n",
            "480/480 [==============================] - 176s 367ms/step - loss: 0.3162 - accuracy: 0.8867 - val_loss: 0.2955 - val_accuracy: 0.8942\n",
            "Epoch 3/5\n",
            "480/480 [==============================] - 176s 367ms/step - loss: 0.2708 - accuracy: 0.9019 - val_loss: 0.2646 - val_accuracy: 0.9062\n",
            "Epoch 4/5\n",
            "480/480 [==============================] - 174s 363ms/step - loss: 0.2380 - accuracy: 0.9134 - val_loss: 0.2550 - val_accuracy: 0.9072\n",
            "Epoch 5/5\n",
            "480/480 [==============================] - 175s 365ms/step - loss: 0.2195 - accuracy: 0.9189 - val_loss: 0.2662 - val_accuracy: 0.9052\n"
          ]
        }
      ],
      "source": [
        " historia3= model3.fit(train_images, train_labels,\n",
        "          batch_size=100,\n",
        "          epochs=5,\n",
        "          verbose=1,\n",
        "          validation_split=0.2)"
      ]
    },
    {
      "cell_type": "code",
      "execution_count": 26,
      "metadata": {
        "colab": {
          "base_uri": "https://localhost:8080/",
          "height": 571
        },
        "id": "CbxP5RSjB3IF",
        "outputId": "2c876ede-75f7-49d2-dc3b-30d7d0088d02"
      },
      "outputs": [
        {
          "output_type": "display_data",
          "data": {
            "text/plain": [
              "<Figure size 432x288 with 1 Axes>"
            ],
            "image/png": "[encoded data removed]"
          },
          "metadata": {
            "needs_background": "light"
          }
        },
        {
          "output_type": "display_data",
          "data": {
            "text/plain": [
              "<Figure size 432x288 with 1 Axes>"
            ],
            "image/png": "[encoded data removed]"
          },
          "metadata": {
            "needs_background": "light"
          }
        }
      ],
      "source": [
        "pinta_perdida_entrenamiento_validacion(historia3)\n",
        "pinta_precision_entrenamiento_validacion(historia3)"
      ]
    },
    {
      "cell_type": "markdown",
      "metadata": {
        "id": "y5ga5xg2ovb6"
      },
      "source": [
        "#Caso 4\n",
        "\n"
      ]
    },
    {
      "cell_type": "markdown",
      "metadata": {
        "id": "IIYx-1Jto3mC"
      },
      "source": [
        "En este caso, utilizaremos el **mismo modelo** que el CASO 1, con la diferencia que lo entrenaremos 25 épocas."
      ]
    },
    {
      "cell_type": "code",
      "execution_count": 46,
      "metadata": {
        "colab": {
          "base_uri": "https://localhost:8080/"
        },
        "id": "U9TavslG7sw7",
        "outputId": "ca117d4e-f598-4d03-d4a9-689da68af791"
      },
      "outputs": [
        {
          "output_type": "stream",
          "name": "stdout",
          "text": [
            "CASO 1 (25 épocas de entrenamiento) \n",
            "\n",
            "--------------------------------- \n",
            "\n",
            "NÚMERO DE FILTROS EN LA PRIMERA CAPA CONVOLUCIONAL: 32 \n",
            " \n",
            "TAMAÑO DE LA VENTANA EN LA PRIMERA CAPA CONVOLUCIONAL: 5x5 \n",
            "\n",
            "NÚMERO DE FILTROS EN LA SEGUNDA CAPA CONVOLUCIONAL: 64 \n",
            " \n",
            "TAMAÑO DE LA VENTANA EN LA SEGUNDA CAPA CONVOLUCIONAL: 5x5 \n",
            "\n",
            "TAMAÑO DE LA CAPA POOLING: 2x2 \n",
            "\n",
            "FUNCIÓN ACTIVACIÓN EN AMBAS CAPAS: relu \n",
            "  \n",
            "FUNCIÓN ACTIVACIÓN ULTIMA CAPA: softmax \n",
            " \n",
            "OPTIMIZADOR: sgd \n",
            " \n",
            "FUNCIÓN PÉRDIDA: sparse_categorical_crossentropy \n",
            "\n",
            "MÉTRICA: accuracy \n",
            "--------------------------------- \n",
            "\n",
            "Model: \"sequential_6\"\n",
            "_________________________________________________________________\n",
            " Layer (type)                Output Shape              Param #   \n",
            "=================================================================\n",
            " conv2d_12 (Conv2D)          (None, 24, 24, 32)        832       \n",
            "                                                                 \n",
            " max_pooling2d_12 (MaxPoolin  (None, 12, 12, 32)       0         \n",
            " g2D)                                                            \n",
            "                                                                 \n",
            " conv2d_13 (Conv2D)          (None, 8, 8, 64)          51264     \n",
            "                                                                 \n",
            " max_pooling2d_13 (MaxPoolin  (None, 4, 4, 64)         0         \n",
            " g2D)                                                            \n",
            "                                                                 \n",
            " flatten_6 (Flatten)         (None, 1024)              0         \n",
            "                                                                 \n",
            " dense_8 (Dense)             (None, 10)                10250     \n",
            "                                                                 \n",
            "=================================================================\n",
            "Total params: 62,346\n",
            "Trainable params: 62,346\n",
            "Non-trainable params: 0\n",
            "_________________________________________________________________\n"
          ]
        }
      ],
      "source": [
        "model_1 = Sequential()\n",
        "model_1.add(Conv2D(32, (5, 5), activation='relu', input_shape=(28, 28, 1)))\n",
        "model_1.add(MaxPooling2D((2, 2)))\n",
        "model_1.add(Conv2D(64,(5,5), activation='relu'))\n",
        "model_1.add(MaxPooling2D((2, 2)))\n",
        "model_1.add(Flatten())\n",
        "model_1.add(Dense(10,'softmax'))\n",
        "\n",
        "\n",
        "print('CASO 1 (25 épocas de entrenamiento) \\n')\n",
        "print(\"--------------------------------- \\n\")\n",
        "print(\"NÚMERO DE FILTROS EN LA PRIMERA CAPA CONVOLUCIONAL: 32 \\n \")\n",
        "print('TAMAÑO DE LA VENTANA EN LA PRIMERA CAPA CONVOLUCIONAL: 5x5 \\n')\n",
        "print(\"NÚMERO DE FILTROS EN LA SEGUNDA CAPA CONVOLUCIONAL: 64 \\n \")\n",
        "print('TAMAÑO DE LA VENTANA EN LA SEGUNDA CAPA CONVOLUCIONAL: 5x5 \\n')\n",
        "print('TAMAÑO DE LA CAPA POOLING: 2x2 \\n')\n",
        "print(\"FUNCIÓN ACTIVACIÓN EN AMBAS CAPAS: relu \\n  \",)\n",
        "print(\"FUNCIÓN ACTIVACIÓN ULTIMA CAPA: softmax \\n \")\n",
        "print(\"OPTIMIZADOR: sgd \\n \")\n",
        "print(\"FUNCIÓN PÉRDIDA: sparse_categorical_crossentropy \\n\")\n",
        "print(\"MÉTRICA: accuracy \")\n",
        "print('--------------------------------- \\n')\n",
        "\n",
        "model_1.summary()\n"
      ]
    },
    {
      "cell_type": "code",
      "execution_count": 47,
      "metadata": {
        "id": "xzi6LEHb7sjc"
      },
      "outputs": [],
      "source": [
        "model_1.compile(loss = 'sparse_categorical_crossentropy',\n",
        "              optimizer = 'sgd',\n",
        "              metrics='accuracy')"
      ]
    },
    {
      "cell_type": "code",
      "execution_count": null,
      "metadata": {
        "colab": {
          "base_uri": "https://localhost:8080/"
        },
        "id": "j3wzWHFhovH5",
        "outputId": "1b0b3203-65cf-4e18-a2db-71ff9412e7d7"
      },
      "outputs": [
        {
          "output_type": "stream",
          "name": "stdout",
          "text": [
            "Epoch 1/25\n",
            "480/480 [==============================] - 53s 109ms/step - loss: 1.2552 - accuracy: 0.6009 - val_loss: 0.7736 - val_accuracy: 0.7185\n",
            "Epoch 2/25\n",
            "480/480 [==============================] - 53s 110ms/step - loss: 0.7076 - accuracy: 0.7399 - val_loss: 0.6750 - val_accuracy: 0.7405\n",
            "Epoch 3/25\n",
            "480/480 [==============================] - 53s 110ms/step - loss: 0.6168 - accuracy: 0.7750 - val_loss: 0.6255 - val_accuracy: 0.7567\n",
            "Epoch 4/25\n",
            "480/480 [==============================] - 52s 108ms/step - loss: 0.5611 - accuracy: 0.7957 - val_loss: 0.5642 - val_accuracy: 0.7958\n",
            "Epoch 5/25\n",
            "480/480 [==============================] - 53s 110ms/step - loss: 0.5246 - accuracy: 0.8117 - val_loss: 0.5116 - val_accuracy: 0.8163\n",
            "Epoch 6/25\n",
            "480/480 [==============================] - 52s 108ms/step - loss: 0.4934 - accuracy: 0.8250 - val_loss: 0.4846 - val_accuracy: 0.8282\n",
            "Epoch 7/25\n",
            "480/480 [==============================] - 55s 114ms/step - loss: 0.4715 - accuracy: 0.8330 - val_loss: 0.4690 - val_accuracy: 0.8366\n",
            "Epoch 8/25\n",
            "480/480 [==============================] - 52s 108ms/step - loss: 0.4538 - accuracy: 0.8401 - val_loss: 0.4573 - val_accuracy: 0.8397\n",
            "Epoch 9/25\n",
            "480/480 [==============================] - 52s 108ms/step - loss: 0.4395 - accuracy: 0.8448 - val_loss: 0.4513 - val_accuracy: 0.8398\n",
            "Epoch 10/25\n",
            "480/480 [==============================] - 53s 110ms/step - loss: 0.4272 - accuracy: 0.8494 - val_loss: 0.4372 - val_accuracy: 0.8489\n",
            "Epoch 11/25\n",
            "480/480 [==============================] - 52s 107ms/step - loss: 0.4170 - accuracy: 0.8536 - val_loss: 0.4304 - val_accuracy: 0.8474\n",
            "Epoch 12/25\n",
            "480/480 [==============================] - 52s 108ms/step - loss: 0.4072 - accuracy: 0.8564 - val_loss: 0.4130 - val_accuracy: 0.8566\n",
            "Epoch 13/25\n",
            "480/480 [==============================] - 51s 107ms/step - loss: 0.3990 - accuracy: 0.8604 - val_loss: 0.4055 - val_accuracy: 0.8573\n",
            "Epoch 14/25\n",
            "480/480 [==============================] - 53s 110ms/step - loss: 0.3923 - accuracy: 0.8617 - val_loss: 0.4111 - val_accuracy: 0.8547\n",
            "Epoch 15/25\n",
            "480/480 [==============================] - 54s 113ms/step - loss: 0.3858 - accuracy: 0.8632 - val_loss: 0.3972 - val_accuracy: 0.8634\n",
            "Epoch 16/25\n",
            "480/480 [==============================] - ETA: 0s - loss: 0.3805 - accuracy: 0.8661"
          ]
        }
      ],
      "source": [
        "historia4=model_1.fit(train_images, train_labels,\n",
        "          batch_size=100,\n",
        "          epochs=25,\n",
        "          verbose=1,\n",
        "          validation_split=0.2)"
      ]
    },
    {
      "cell_type": "code",
      "source": [
        "pinta_perdida_entrenamiento_validacion(historia4)\n",
        "pinta_precision_entrenamiento_validacion(historia4)"
      ],
      "metadata": {
        "id": "gGViB_4igbfO",
        "outputId": "2b34a5c1-da2b-43d2-aadc-90265964549f",
        "colab": {
          "base_uri": "https://localhost:8080/",
          "height": 175
        }
      },
      "execution_count": 45,
      "outputs": [
        {
          "output_type": "error",
          "ename": "NameError",
          "evalue": "ignored",
          "traceback": [
            "\u001b[0;31m---------------------------------------------------------------------------\u001b[0m",
            "\u001b[0;31mNameError\u001b[0m                                 Traceback (most recent call last)",
            "\u001b[0;32m<ipython-input-45-56b184d6eb2e>\u001b[0m in \u001b[0;36m<module>\u001b[0;34m\u001b[0m\n\u001b[0;32m----> 1\u001b[0;31m \u001b[0mpinta_perdida_entrenamiento_validacion\u001b[0m\u001b[0;34m(\u001b[0m\u001b[0mhistoria4\u001b[0m\u001b[0;34m)\u001b[0m\u001b[0;34m\u001b[0m\u001b[0;34m\u001b[0m\u001b[0m\n\u001b[0m\u001b[1;32m      2\u001b[0m \u001b[0mpinta_precision_entrenamiento_validacion\u001b[0m\u001b[0;34m(\u001b[0m\u001b[0mhistoria4\u001b[0m\u001b[0;34m)\u001b[0m\u001b[0;34m\u001b[0m\u001b[0;34m\u001b[0m\u001b[0m\n",
            "\u001b[0;31mNameError\u001b[0m: name 'historia4' is not defined"
          ]
        }
      ]
    },
    {
      "cell_type": "markdown",
      "metadata": {
        "id": "DkNMsdzoyb_p"
      },
      "source": [
        "# Caso 5\n",
        "\n"
      ]
    },
    {
      "cell_type": "code",
      "execution_count": 27,
      "metadata": {
        "colab": {
          "base_uri": "https://localhost:8080/"
        },
        "id": "EgapGY-zzbzh",
        "outputId": "952c482b-1eb5-48b2-95c5-e51e5ea2d5aa"
      },
      "outputs": [
        {
          "output_type": "stream",
          "name": "stdout",
          "text": [
            "CASO 1 (función de activación tanh) \n",
            "\n",
            "--------------------------------- \n",
            "\n",
            "NÚMERO DE FILTROS EN LA PRIMERA CAPA CONVOLUCIONAL: 32 \n",
            " \n",
            "TAMAÑO DE LA VENTANA EN LA PRIMERA CAPA CONVOLUCIONAL: 5x5 \n",
            "\n",
            "NÚMERO DE FILTROS EN LA SEGUNDA CAPA CONVOLUCIONAL: 64 \n",
            " \n",
            "TAMAÑO DE LA VENTANA EN LA SEGUNDA CAPA CONVOLUCIONAL: 5x5 \n",
            "\n",
            "TAMAÑO DE LA CAPA POOLING: 2x2 \n",
            "\n",
            "FUNCIÓN ACTIVACIÓN EN AMBAS CAPAS: tanh  \n",
            "  \n",
            "FUNCIÓN ACTIVACIÓN ULTIMA CAPA: softmax \n",
            " \n",
            "OPTIMIZADOR: sgd \n",
            " \n",
            "FUNCIÓN PÉRDIDA: sparse_categorical_crossentropy \n",
            "\n",
            "MÉTRICA: accuracy \n",
            "--------------------------------- \n",
            "\n",
            "Model: \"sequential_4\"\n",
            "_________________________________________________________________\n",
            " Layer (type)                Output Shape              Param #   \n",
            "=================================================================\n",
            " conv2d_8 (Conv2D)           (None, 24, 24, 32)        832       \n",
            "                                                                 \n",
            " max_pooling2d_8 (MaxPooling  (None, 12, 12, 32)       0         \n",
            " 2D)                                                             \n",
            "                                                                 \n",
            " conv2d_9 (Conv2D)           (None, 8, 8, 64)          51264     \n",
            "                                                                 \n",
            " max_pooling2d_9 (MaxPooling  (None, 4, 4, 64)         0         \n",
            " 2D)                                                             \n",
            "                                                                 \n",
            " flatten_4 (Flatten)         (None, 1024)              0         \n",
            "                                                                 \n",
            " dense_6 (Dense)             (None, 10)                10250     \n",
            "                                                                 \n",
            "=================================================================\n",
            "Total params: 62,346\n",
            "Trainable params: 62,346\n",
            "Non-trainable params: 0\n",
            "_________________________________________________________________\n"
          ]
        }
      ],
      "source": [
        "model__1 = Sequential()\n",
        "model__1.add(Conv2D(32, (5, 5), activation='tanh', input_shape=(28, 28, 1)))\n",
        "model__1.add(MaxPooling2D((2, 2)))\n",
        "model__1.add(Conv2D(64,(5,5), activation='tanh'))\n",
        "model__1.add(MaxPooling2D((2, 2)))\n",
        "model__1.add(Flatten())\n",
        "model__1.add(Dense(10,'softmax'))\n",
        "\n",
        "\n",
        "print('CASO 1 (función de activación tanh) \\n')\n",
        "print(\"--------------------------------- \\n\")\n",
        "print(\"NÚMERO DE FILTROS EN LA PRIMERA CAPA CONVOLUCIONAL: 32 \\n \")\n",
        "print('TAMAÑO DE LA VENTANA EN LA PRIMERA CAPA CONVOLUCIONAL: 5x5 \\n')\n",
        "print(\"NÚMERO DE FILTROS EN LA SEGUNDA CAPA CONVOLUCIONAL: 64 \\n \")\n",
        "print('TAMAÑO DE LA VENTANA EN LA SEGUNDA CAPA CONVOLUCIONAL: 5x5 \\n')\n",
        "print('TAMAÑO DE LA CAPA POOLING: 2x2 \\n')\n",
        "print(\"FUNCIÓN ACTIVACIÓN EN AMBAS CAPAS: tanh  \\n  \",)\n",
        "print(\"FUNCIÓN ACTIVACIÓN ULTIMA CAPA: softmax \\n \")\n",
        "print(\"OPTIMIZADOR: sgd \\n \")\n",
        "print(\"FUNCIÓN PÉRDIDA: sparse_categorical_crossentropy \\n\")\n",
        "print(\"MÉTRICA: accuracy \")\n",
        "print('--------------------------------- \\n')\n",
        "model__1.summary()\n"
      ]
    },
    {
      "cell_type": "code",
      "execution_count": 28,
      "metadata": {
        "id": "Kh9ZFUeMzkG-"
      },
      "outputs": [],
      "source": [
        "model__1.compile(loss = 'sparse_categorical_crossentropy',\n",
        "              optimizer = 'sgd',\n",
        "              metrics='accuracy')"
      ]
    },
    {
      "cell_type": "code",
      "execution_count": 29,
      "metadata": {
        "colab": {
          "base_uri": "https://localhost:8080/"
        },
        "id": "i4RNAV5E0dId",
        "outputId": "9853e624-e12a-4cca-af05-060f689d81dd"
      },
      "outputs": [
        {
          "output_type": "stream",
          "name": "stdout",
          "text": [
            "Epoch 1/5\n",
            "480/480 [==============================] - 54s 112ms/step - loss: 1.2030 - accuracy: 0.6167 - val_loss: 0.7579 - val_accuracy: 0.7291\n",
            "Epoch 2/5\n",
            "480/480 [==============================] - 57s 118ms/step - loss: 0.6990 - accuracy: 0.7468 - val_loss: 0.6393 - val_accuracy: 0.7653\n",
            "Epoch 3/5\n",
            "480/480 [==============================] - 53s 111ms/step - loss: 0.6155 - accuracy: 0.7762 - val_loss: 0.5867 - val_accuracy: 0.7853\n",
            "Epoch 4/5\n",
            "480/480 [==============================] - 53s 110ms/step - loss: 0.5671 - accuracy: 0.7945 - val_loss: 0.5456 - val_accuracy: 0.7970\n",
            "Epoch 5/5\n",
            "480/480 [==============================] - 53s 110ms/step - loss: 0.5322 - accuracy: 0.8078 - val_loss: 0.5224 - val_accuracy: 0.8090\n"
          ]
        }
      ],
      "source": [
        " historia5= model__1.fit(train_images, train_labels,\n",
        "          batch_size=100,\n",
        "          epochs=5,\n",
        "          verbose=1,\n",
        "          validation_split=0.2)"
      ]
    },
    {
      "cell_type": "code",
      "source": [
        "pinta_perdida_entrenamiento_validacion(historia5)\n",
        "pinta_precision_entrenamiento_validacion(historia5)"
      ],
      "metadata": {
        "id": "MKzEWiP4ggJY",
        "outputId": "79310d38-439a-4e38-ad51-15842dac114b",
        "colab": {
          "base_uri": "https://localhost:8080/",
          "height": 571
        }
      },
      "execution_count": 30,
      "outputs": [
        {
          "output_type": "display_data",
          "data": {
            "text/plain": [
              "<Figure size 432x288 with 1 Axes>"
            ],
            "image/png": "[encoded data removed]"
          },
          "metadata": {
            "needs_background": "light"
          }
        },
        {
          "output_type": "display_data",
          "data": {
            "text/plain": [
              "<Figure size 432x288 with 1 Axes>"
            ],
            "image/png": "[encoded data removed]"
          },
          "metadata": {
            "needs_background": "light"
          }
        }
      ]
    },
    {
      "cell_type": "markdown",
      "metadata": {
        "id": "YjKe3LYwDDdw"
      },
      "source": []
    },
    {
      "cell_type": "markdown",
      "metadata": {
        "id": "EXR778N89w_M"
      },
      "source": [
        "# Análisis de los resultados"
      ]
    },
    {
      "cell_type": "code",
      "execution_count": 31,
      "metadata": {
        "id": "JkTBpniG9ujh"
      },
      "outputs": [],
      "source": [
        "def plot_image(i, predictions_array, true_label, img):\n",
        "  predictions_array, true_label, img = predictions_array, true_label[i], img[i]\n",
        "  plt.grid(False)\n",
        "  plt.xticks([])\n",
        "  plt.yticks([])\n",
        "\n",
        "  plt.imshow(img, cmap=plt.cm.binary)    \n",
        "\n",
        "  predicted_label = np.argmax(predictions_array)\n",
        "  if predicted_label.all() == true_label.all():\n",
        "    color = 'blue'\n",
        "  else:\n",
        "    color = 'red'\n",
        "\n",
        "  plt.xlabel(\"{} {:2.0f}% ({})\".format(predicted_label,\n",
        "                                100*np.max(predictions_array),\n",
        "                                true_label),\n",
        "                                color=color)\n",
        "\n",
        "def plot_value_array(i, predictions_array, true_label):\n",
        "  predictions_array, true_label = predictions_array, true_label[i]\n",
        "  plt.grid(False)\n",
        "  plt.xticks(range(10))\n",
        "  plt.yticks([])\n",
        "  thisplot = plt.bar(range(10), predictions_array, color=\"#00FF00\")\n",
        "  plt.ylim([0, 1])\n",
        "  predicted_label = np.argmax(predictions_array)\n",
        "\n",
        "  thisplot[predicted_label].set_color('red')\n",
        "  thisplot[true_label].set_color('black')"
      ]
    },
    {
      "cell_type": "code",
      "execution_count": 35,
      "metadata": {
        "colab": {
          "base_uri": "https://localhost:8080/"
        },
        "id": "yghsd_23-CiF",
        "outputId": "523d4bd2-a4b0-41d0-aafa-36041ca33f03"
      },
      "outputs": [
        {
          "output_type": "stream",
          "name": "stdout",
          "text": [
            "313/313 [==============================] - 3s 11ms/step\n",
            "313/313 [==============================] - 10s 32ms/step\n",
            "313/313 [==============================] - 11s 36ms/step\n"
          ]
        }
      ],
      "source": [
        "predictions = model1.predict(test_images)\n",
        "predictions2 = model2.predict(test_images)\n",
        "predictions3 = model3.predict(test_images)\n",
        "test_labels=test_labels.reshape(10000,)"
      ]
    },
    {
      "cell_type": "code",
      "execution_count": 36,
      "metadata": {
        "colab": {
          "base_uri": "https://localhost:8080/",
          "height": 1000
        },
        "id": "kzPCa3H0-TnH",
        "outputId": "b9a49648-ad43-41ff-f294-178888b09d01"
      },
      "outputs": [
        {
          "output_type": "display_data",
          "data": {
            "text/plain": [
              "<Figure size 432x216 with 2 Axes>"
            ],
            "image/png": "[encoded data removed]"
          },
          "metadata": {
            "needs_background": "light"
          }
        },
        {
          "output_type": "display_data",
          "data": {
            "text/plain": [
              "<Figure size 432x288 with 0 Axes>"
            ]
          },
          "metadata": {}
        },
        {
          "output_type": "display_data",
          "data": {
            "text/plain": [
              "<Figure size 432x216 with 2 Axes>"
            ],
            "image/png": "[encoded data removed]"
          },
          "metadata": {
            "needs_background": "light"
          }
        },
        {
          "output_type": "display_data",
          "data": {
            "text/plain": [
              "<Figure size 432x288 with 0 Axes>"
            ]
          },
          "metadata": {}
        },
        {
          "output_type": "display_data",
          "data": {
            "text/plain": [
              "<Figure size 432x216 with 2 Axes>"
            ],
            "image/png": "[encoded data removed]"
          },
          "metadata": {
            "needs_background": "light"
          }
        },
        {
          "output_type": "display_data",
          "data": {
            "text/plain": [
              "<Figure size 432x288 with 0 Axes>"
            ]
          },
          "metadata": {}
        },
        {
          "output_type": "display_data",
          "data": {
            "text/plain": [
              "<Figure size 432x216 with 2 Axes>"
            ],
            "image/png": "[encoded data removed]"
          },
          "metadata": {
            "needs_background": "light"
          }
        },
        {
          "output_type": "display_data",
          "data": {
            "text/plain": [
              "<Figure size 432x288 with 0 Axes>"
            ]
          },
          "metadata": {}
        },
        {
          "output_type": "display_data",
          "data": {
            "text/plain": [
              "<Figure size 432x216 with 2 Axes>"
            ],
            "image/png": "[encoded data removed]"
          },
          "metadata": {
            "needs_background": "light"
          }
        },
        {
          "output_type": "display_data",
          "data": {
            "text/plain": [
              "<Figure size 432x288 with 0 Axes>"
            ]
          },
          "metadata": {}
        },
        {
          "output_type": "display_data",
          "data": {
            "text/plain": [
              "<Figure size 432x216 with 2 Axes>"
            ],
            "image/png": "[encoded data removed]"
          },
          "metadata": {
            "needs_background": "light"
          }
        },
        {
          "output_type": "display_data",
          "data": {
            "text/plain": [
              "<Figure size 432x288 with 0 Axes>"
            ]
          },
          "metadata": {}
        },
        {
          "output_type": "display_data",
          "data": {
            "text/plain": [
              "<Figure size 432x216 with 2 Axes>"
            ],
            "image/png": "[encoded data removed]"
          },
          "metadata": {
            "needs_background": "light"
          }
        },
        {
          "output_type": "display_data",
          "data": {
            "text/plain": [
              "<Figure size 432x288 with 0 Axes>"
            ]
          },
          "metadata": {}
        },
        {
          "output_type": "display_data",
          "data": {
            "text/plain": [
              "<Figure size 432x216 with 2 Axes>"
            ],
            "image/png": "[encoded data removed]"
          },
          "metadata": {
            "needs_background": "light"
          }
        },
        {
          "output_type": "display_data",
          "data": {
            "text/plain": [
              "<Figure size 432x288 with 0 Axes>"
            ]
          },
          "metadata": {}
        },
        {
          "output_type": "display_data",
          "data": {
            "text/plain": [
              "<Figure size 432x216 with 2 Axes>"
            ],
            "image/png": "[encoded data removed]"
          },
          "metadata": {
            "needs_background": "light"
          }
        },
        {
          "output_type": "display_data",
          "data": {
            "text/plain": [
              "<Figure size 432x288 with 0 Axes>"
            ]
          },
          "metadata": {}
        },
        {
          "output_type": "display_data",
          "data": {
            "text/plain": [
              "<Figure size 432x216 with 2 Axes>"
            ],
            "image/png": "[encoded data removed]"
          },
          "metadata": {
            "needs_background": "light"
          }
        },
        {
          "output_type": "display_data",
          "data": {
            "text/plain": [
              "<Figure size 432x288 with 0 Axes>"
            ]
          },
          "metadata": {}
        },
        {
          "output_type": "display_data",
          "data": {
            "text/plain": [
              "<Figure size 432x216 with 2 Axes>"
            ],
            "image/png": "[encoded data removed]"
          },
          "metadata": {
            "needs_background": "light"
          }
        },
        {
          "output_type": "display_data",
          "data": {
            "text/plain": [
              "<Figure size 432x288 with 0 Axes>"
            ]
          },
          "metadata": {}
        },
        {
          "output_type": "display_data",
          "data": {
            "text/plain": [
              "<Figure size 432x216 with 2 Axes>"
            ],
            "image/png": "[encoded data removed]"
          },
          "metadata": {
            "needs_background": "light"
          }
        },
        {
          "output_type": "display_data",
          "data": {
            "text/plain": [
              "<Figure size 432x288 with 0 Axes>"
            ]
          },
          "metadata": {}
        },
        {
          "output_type": "display_data",
          "data": {
            "text/plain": [
              "<Figure size 432x216 with 2 Axes>"
            ],
            "image/png": "[encoded data removed]"
          },
          "metadata": {
            "needs_background": "light"
          }
        },
        {
          "output_type": "display_data",
          "data": {
            "text/plain": [
              "<Figure size 432x288 with 0 Axes>"
            ]
          },
          "metadata": {}
        }
      ],
      "source": [
        "for i in range(0,13):\n",
        "  plt.figure(figsize=(6,3))\n",
        "  plt.subplot(1,2,1)\n",
        "  plot_image(i, predictions[i], test_labels, test_images.reshape(10000,28,28))\n",
        "  plt.subplot(1,2,2)\n",
        "  plot_value_array(5, predictions[i],  test_labels)\n",
        "  plt.show()\n",
        "  plt.clf()"
      ]
    },
    {
      "cell_type": "code",
      "execution_count": 37,
      "metadata": {
        "colab": {
          "base_uri": "https://localhost:8080/",
          "height": 1000
        },
        "id": "EVvKUa-b-YxR",
        "outputId": "5508cef3-fc87-40a4-a947-6dd4d1979bd0"
      },
      "outputs": [
        {
          "output_type": "display_data",
          "data": {
            "text/plain": [
              "<Figure size 432x216 with 2 Axes>"
            ],
            "image/png": "[encoded data removed]"
          },
          "metadata": {
            "needs_background": "light"
          }
        },
        {
          "output_type": "display_data",
          "data": {
            "text/plain": [
              "<Figure size 432x288 with 0 Axes>"
            ]
          },
          "metadata": {}
        },
        {
          "output_type": "display_data",
          "data": {
            "text/plain": [
              "<Figure size 432x216 with 2 Axes>"
            ],
            "image/png": "[encoded data removed]"
          },
          "metadata": {
            "needs_background": "light"
          }
        },
        {
          "output_type": "display_data",
          "data": {
            "text/plain": [
              "<Figure size 432x288 with 0 Axes>"
            ]
          },
          "metadata": {}
        },
        {
          "output_type": "display_data",
          "data": {
            "text/plain": [
              "<Figure size 432x216 with 2 Axes>"
            ],
            "image/png": "[encoded data removed]"
          },
          "metadata": {
            "needs_background": "light"
          }
        },
        {
          "output_type": "display_data",
          "data": {
            "text/plain": [
              "<Figure size 432x288 with 0 Axes>"
            ]
          },
          "metadata": {}
        },
        {
          "output_type": "display_data",
          "data": {
            "text/plain": [
              "<Figure size 432x216 with 2 Axes>"
            ],
            "image/png": "[encoded data removed]"
          },
          "metadata": {
            "needs_background": "light"
          }
        },
        {
          "output_type": "display_data",
          "data": {
            "text/plain": [
              "<Figure size 432x288 with 0 Axes>"
            ]
          },
          "metadata": {}
        },
        {
          "output_type": "display_data",
          "data": {
            "text/plain": [
              "<Figure size 432x216 with 2 Axes>"
            ],
            "image/png": "[encoded data removed]"
          },
          "metadata": {
            "needs_background": "light"
          }
        },
        {
          "output_type": "display_data",
          "data": {
            "text/plain": [
              "<Figure size 432x288 with 0 Axes>"
            ]
          },
          "metadata": {}
        },
        {
          "output_type": "display_data",
          "data": {
            "text/plain": [
              "<Figure size 432x216 with 2 Axes>"
            ],
            "image/png": "[encoded data removed]"
          },
          "metadata": {
            "needs_background": "light"
          }
        },
        {
          "output_type": "display_data",
          "data": {
            "text/plain": [
              "<Figure size 432x288 with 0 Axes>"
            ]
          },
          "metadata": {}
        },
        {
          "output_type": "display_data",
          "data": {
            "text/plain": [
              "<Figure size 432x216 with 2 Axes>"
            ],
            "image/png": "[encoded data removed]"
          },
          "metadata": {
            "needs_background": "light"
          }
        },
        {
          "output_type": "display_data",
          "data": {
            "text/plain": [
              "<Figure size 432x288 with 0 Axes>"
            ]
          },
          "metadata": {}
        },
        {
          "output_type": "display_data",
          "data": {
            "text/plain": [
              "<Figure size 432x216 with 2 Axes>"
            ],
            "image/png": "[encoded data removed]"
          },
          "metadata": {
            "needs_background": "light"
          }
        },
        {
          "output_type": "display_data",
          "data": {
            "text/plain": [
              "<Figure size 432x288 with 0 Axes>"
            ]
          },
          "metadata": {}
        },
        {
          "output_type": "display_data",
          "data": {
            "text/plain": [
              "<Figure size 432x216 with 2 Axes>"
            ],
            "image/png": "[encoded data removed]"
          },
          "metadata": {
            "needs_background": "light"
          }
        },
        {
          "output_type": "display_data",
          "data": {
            "text/plain": [
              "<Figure size 432x288 with 0 Axes>"
            ]
          },
          "metadata": {}
        },
        {
          "output_type": "display_data",
          "data": {
            "text/plain": [
              "<Figure size 432x216 with 2 Axes>"
            ],
            "image/png": "[encoded data removed]"
          },
          "metadata": {
            "needs_background": "light"
          }
        },
        {
          "output_type": "display_data",
          "data": {
            "text/plain": [
              "<Figure size 432x288 with 0 Axes>"
            ]
          },
          "metadata": {}
        },
        {
          "output_type": "display_data",
          "data": {
            "text/plain": [
              "<Figure size 432x216 with 2 Axes>"
            ],
            "image/png": "[encoded data removed]"
          },
          "metadata": {
            "needs_background": "light"
          }
        },
        {
          "output_type": "display_data",
          "data": {
            "text/plain": [
              "<Figure size 432x288 with 0 Axes>"
            ]
          },
          "metadata": {}
        },
        {
          "output_type": "display_data",
          "data": {
            "text/plain": [
              "<Figure size 432x216 with 2 Axes>"
            ],
            "image/png": "[encoded data removed]"
          },
          "metadata": {
            "needs_background": "light"
          }
        },
        {
          "output_type": "display_data",
          "data": {
            "text/plain": [
              "<Figure size 432x288 with 0 Axes>"
            ]
          },
          "metadata": {}
        },
        {
          "output_type": "display_data",
          "data": {
            "text/plain": [
              "<Figure size 432x216 with 2 Axes>"
            ],
            "image/png": "[encoded data removed]"
          },
          "metadata": {
            "needs_background": "light"
          }
        },
        {
          "output_type": "display_data",
          "data": {
            "text/plain": [
              "<Figure size 432x288 with 0 Axes>"
            ]
          },
          "metadata": {}
        }
      ],
      "source": [
        "for i in range(0,13):\n",
        "  plt.figure(figsize=(6,3))\n",
        "  plt.subplot(1,2,1)\n",
        "  plot_image(i, predictions2[i], test_labels, test_images.reshape(10000,28,28))\n",
        "  plt.subplot(1,2,2)\n",
        "  plot_value_array(i, predictions2[i],  test_labels)\n",
        "  plt.show()\n",
        "  plt.clf()"
      ]
    },
    {
      "cell_type": "code",
      "execution_count": 38,
      "metadata": {
        "colab": {
          "base_uri": "https://localhost:8080/",
          "height": 1000
        },
        "id": "gsnEi4CI-cLA",
        "outputId": "b806194a-91c1-4c83-fa00-6735ebd8722e"
      },
      "outputs": [
        {
          "output_type": "display_data",
          "data": {
            "text/plain": [
              "<Figure size 432x216 with 2 Axes>"
            ],
            "image/png": "[encoded data removed]"
          },
          "metadata": {
            "needs_background": "light"
          }
        },
        {
          "output_type": "display_data",
          "data": {
            "text/plain": [
              "<Figure size 432x288 with 0 Axes>"
            ]
          },
          "metadata": {}
        },
        {
          "output_type": "display_data",
          "data": {
            "text/plain": [
              "<Figure size 432x216 with 2 Axes>"
            ],
            "image/png": "[encoded data removed]"
          },
          "metadata": {
            "needs_background": "light"
          }
        },
        {
          "output_type": "display_data",
          "data": {
            "text/plain": [
              "<Figure size 432x288 with 0 Axes>"
            ]
          },
          "metadata": {}
        },
        {
          "output_type": "display_data",
          "data": {
            "text/plain": [
              "<Figure size 432x216 with 2 Axes>"
            ],
            "image/png": "[encoded data removed]"
          },
          "metadata": {
            "needs_background": "light"
          }
        },
        {
          "output_type": "display_data",
          "data": {
            "text/plain": [
              "<Figure size 432x288 with 0 Axes>"
            ]
          },
          "metadata": {}
        },
        {
          "output_type": "display_data",
          "data": {
            "text/plain": [
              "<Figure size 432x216 with 2 Axes>"
            ],
            "image/png": "[encoded data removed]"
          },
          "metadata": {
            "needs_background": "light"
          }
        },
        {
          "output_type": "display_data",
          "data": {
            "text/plain": [
              "<Figure size 432x288 with 0 Axes>"
            ]
          },
          "metadata": {}
        },
        {
          "output_type": "display_data",
          "data": {
            "text/plain": [
              "<Figure size 432x216 with 2 Axes>"
            ],
            "image/png": "[encoded data removed]"
          },
          "metadata": {
            "needs_background": "light"
          }
        },
        {
          "output_type": "display_data",
          "data": {
            "text/plain": [
              "<Figure size 432x288 with 0 Axes>"
            ]
          },
          "metadata": {}
        },
        {
          "output_type": "display_data",
          "data": {
            "text/plain": [
              "<Figure size 432x216 with 2 Axes>"
            ],
            "image/png": "[encoded data removed]"
          },
          "metadata": {
            "needs_background": "light"
          }
        },
        {
          "output_type": "display_data",
          "data": {
            "text/plain": [
              "<Figure size 432x288 with 0 Axes>"
            ]
          },
          "metadata": {}
        },
        {
          "output_type": "display_data",
          "data": {
            "text/plain": [
              "<Figure size 432x216 with 2 Axes>"
            ],
            "image/png": "[encoded data removed]"
          },
          "metadata": {
            "needs_background": "light"
          }
        },
        {
          "output_type": "display_data",
          "data": {
            "text/plain": [
              "<Figure size 432x288 with 0 Axes>"
            ]
          },
          "metadata": {}
        },
        {
          "output_type": "display_data",
          "data": {
            "text/plain": [
              "<Figure size 432x216 with 2 Axes>"
            ],
            "image/png": "[encoded data removed]"
          },
          "metadata": {
            "needs_background": "light"
          }
        },
        {
          "output_type": "display_data",
          "data": {
            "text/plain": [
              "<Figure size 432x288 with 0 Axes>"
            ]
          },
          "metadata": {}
        },
        {
          "output_type": "display_data",
          "data": {
            "text/plain": [
              "<Figure size 432x216 with 2 Axes>"
            ],
            "image/png": "[encoded data removed]"
          },
          "metadata": {
            "needs_background": "light"
          }
        },
        {
          "output_type": "display_data",
          "data": {
            "text/plain": [
              "<Figure size 432x288 with 0 Axes>"
            ]
          },
          "metadata": {}
        },
        {
          "output_type": "display_data",
          "data": {
            "text/plain": [
              "<Figure size 432x216 with 2 Axes>"
            ],
            "image/png": "[encoded data removed]"
          },
          "metadata": {
            "needs_background": "light"
          }
        },
        {
          "output_type": "display_data",
          "data": {
            "text/plain": [
              "<Figure size 432x288 with 0 Axes>"
            ]
          },
          "metadata": {}
        },
        {
          "output_type": "display_data",
          "data": {
            "text/plain": [
              "<Figure size 432x216 with 2 Axes>"
            ],
            "image/png": "[encoded data removed]"
          },
          "metadata": {
            "needs_background": "light"
          }
        },
        {
          "output_type": "display_data",
          "data": {
            "text/plain": [
              "<Figure size 432x288 with 0 Axes>"
            ]
          },
          "metadata": {}
        },
        {
          "output_type": "display_data",
          "data": {
            "text/plain": [
              "<Figure size 432x216 with 2 Axes>"
            ],
            "image/png": "[encoded data removed]"
          },
          "metadata": {
            "needs_background": "light"
          }
        },
        {
          "output_type": "display_data",
          "data": {
            "text/plain": [
              "<Figure size 432x288 with 0 Axes>"
            ]
          },
          "metadata": {}
        },
        {
          "output_type": "display_data",
          "data": {
            "text/plain": [
              "<Figure size 432x216 with 2 Axes>"
            ],
            "image/png": "[encoded data removed]"
          },
          "metadata": {
            "needs_background": "light"
          }
        },
        {
          "output_type": "display_data",
          "data": {
            "text/plain": [
              "<Figure size 432x288 with 0 Axes>"
            ]
          },
          "metadata": {}
        }
      ],
      "source": [
        "for i in range(0,13):\n",
        "  plt.figure(figsize=(6,3))\n",
        "  plt.subplot(1,2,1)\n",
        "  plot_image(i, predictions3[i], test_labels, test_images.reshape(10000,28,28))\n",
        "  plt.subplot(1,2,2)\n",
        "  plot_value_array(i, predictions3[i],  test_labels)\n",
        "  plt.show()\n",
        "  plt.clf()"
      ]
    },
    {
      "cell_type": "markdown",
      "metadata": {
        "id": "SIV1IdeWEU91"
      },
      "source": [
        "# Modelo con los conceptos batch_normalization y dropout "
      ]
    },
    {
      "cell_type": "code",
      "execution_count": null,
      "metadata": {
        "colab": {
          "base_uri": "https://localhost:8080/"
        },
        "id": "r8u_DvPJEfWa",
        "outputId": "7c556af0-0be5-4a99-ab7e-9a030e2150b8"
      },
      "outputs": [
        {
          "name": "stdout",
          "output_type": "stream",
          "text": [
            "CASO 1 \n",
            "\n",
            "Model: \"sequential_20\"\n",
            "_________________________________________________________________\n",
            " Layer (type)                Output Shape              Param #   \n",
            "=================================================================\n",
            " conv2d_43 (Conv2D)          (None, 24, 24, 32)        832       \n",
            "                                                                 \n",
            " batch_normalization_20 (Bat  (None, 24, 24, 32)       128       \n",
            " chNormalization)                                                \n",
            "                                                                 \n",
            " max_pooling2d_33 (MaxPoolin  (None, 12, 12, 32)       0         \n",
            " g2D)                                                            \n",
            "                                                                 \n",
            " dropout_18 (Dropout)        (None, 12, 12, 32)        0         \n",
            "                                                                 \n",
            " conv2d_44 (Conv2D)          (None, 8, 8, 64)          51264     \n",
            "                                                                 \n",
            " batch_normalization_21 (Bat  (None, 8, 8, 64)         256       \n",
            " chNormalization)                                                \n",
            "                                                                 \n",
            " dropout_19 (Dropout)        (None, 8, 8, 64)          0         \n",
            "                                                                 \n",
            " batch_normalization_22 (Bat  (None, 8, 8, 64)         256       \n",
            " chNormalization)                                                \n",
            "                                                                 \n",
            " flatten_19 (Flatten)        (None, 4096)              0         \n",
            "                                                                 \n",
            " dense_30 (Dense)            (None, 10)                40970     \n",
            "                                                                 \n",
            "=================================================================\n",
            "Total params: 93,706\n",
            "Trainable params: 93,386\n",
            "Non-trainable params: 320\n",
            "_________________________________________________________________\n"
          ]
        }
      ],
      "source": [
        "model = Sequential()\n",
        "model.add(Conv2D(32, (5, 5), activation='relu', input_shape=(28, 28, 1)))\n",
        "model.add(BatchNormalization())\n",
        "model.add(MaxPooling2D((2, 2)))\n",
        "model.add(Dropout(0.5))\n",
        "model.add(Conv2D(64,(5,5), activation='relu'))\n",
        "model.add(BatchNormalization())\n",
        "model.add(Dropout(0.5))\n",
        "model.add(BatchNormalization())\n",
        "model.add(Flatten())\n",
        "model.add(Dense(10,'softmax'))\n",
        "\n",
        "\n",
        "print('CASO 1 \\n')\n",
        "model.summary()"
      ]
    },
    {
      "cell_type": "code",
      "execution_count": null,
      "metadata": {
        "id": "svYqnbYFEyLT"
      },
      "outputs": [],
      "source": [
        "model.compile(optimizer='adam',\n",
        "              loss='sparse_categorical_crossentropy',\n",
        "              metrics=['accuracy'])"
      ]
    },
    {
      "cell_type": "code",
      "execution_count": null,
      "metadata": {
        "colab": {
          "base_uri": "https://localhost:8080/"
        },
        "id": "8yE265BQE7L6",
        "outputId": "2f1496dd-3b6f-477f-e485-afa407810e3f"
      },
      "outputs": [
        {
          "name": "stdout",
          "output_type": "stream",
          "text": [
            "Epoch 1/5\n",
            "1875/1875 [==============================] - 7s 3ms/step - loss: 0.5521 - accuracy: 0.8097\n",
            "Epoch 2/5\n",
            "1875/1875 [==============================] - 6s 3ms/step - loss: 0.3978 - accuracy: 0.8589\n",
            "Epoch 3/5\n",
            "1875/1875 [==============================] - 6s 3ms/step - loss: 0.3451 - accuracy: 0.8742\n",
            "Epoch 4/5\n",
            "1875/1875 [==============================] - 6s 3ms/step - loss: 0.3222 - accuracy: 0.8823\n",
            "Epoch 5/5\n",
            "1875/1875 [==============================] - 6s 3ms/step - loss: 0.3021 - accuracy: 0.8897\n",
            "313/313 [==============================] - 1s 3ms/step - loss: 0.2884 - accuracy: 0.8930\n"
          ]
        }
      ],
      "source": [
        "model.fit(train_images, train_labels, epochs=5)\n",
        "\n",
        "test_loss, test_acc = model.evaluate(test_images,  test_labels)"
      ]
    },
    {
      "cell_type": "code",
      "execution_count": null,
      "metadata": {
        "id": "wUqfLKQDIVRk"
      },
      "outputs": [],
      "source": [
        "def plot_image(i, predictions_array, true_label, img):\n",
        "  predictions_array, true_label, img = predictions_array, true_label[i], img[i]\n",
        "  plt.grid(False)\n",
        "  plt.xticks([])\n",
        "  plt.yticks([])\n",
        "\n",
        "  plt.imshow(img, cmap=plt.cm.binary)    \n",
        "\n",
        "  predicted_label = np.argmax(predictions_array)\n",
        "  if predicted_label.all() == true_label.all():\n",
        "    color = 'blue'\n",
        "  else:\n",
        "    color = 'red'\n",
        "\n",
        "  plt.xlabel(\"{} {:2.0f}% ({})\".format(predicted_label,\n",
        "                                100*np.max(predictions_array),\n",
        "                                true_label),\n",
        "                                color=color)\n",
        "\n",
        "def plot_value_array(i, predictions_array, true_label):\n",
        "  predictions_array, true_label = predictions_array, true_label[i]\n",
        "  plt.grid(False)\n",
        "  plt.xticks(range(10))\n",
        "  plt.yticks([])\n",
        "  thisplot = plt.bar(range(10), predictions_array, color=\"#00FF00\")\n",
        "  plt.ylim([0, 1])\n",
        "  predicted_label = np.argmax(predictions_array)\n",
        "\n",
        "  thisplot[predicted_label].set_color('red')\n",
        "  thisplot[true_label].set_color('black')"
      ]
    },
    {
      "cell_type": "code",
      "execution_count": null,
      "metadata": {
        "colab": {
          "base_uri": "https://localhost:8080/"
        },
        "id": "9j-ypm8RIYGh",
        "outputId": "997161a6-a9ae-40f8-9443-92da8e01e181"
      },
      "outputs": [
        {
          "name": "stdout",
          "output_type": "stream",
          "text": [
            "313/313 [==============================] - 1s 2ms/step\n"
          ]
        }
      ],
      "source": [
        "predictions = model.predict(test_images)\n",
        "\n",
        "test_labels=test_labels.reshape(10000,)"
      ]
    },
    {
      "cell_type": "code",
      "execution_count": null,
      "metadata": {
        "colab": {
          "base_uri": "https://localhost:8080/",
          "height": 1000
        },
        "id": "YVWHob16Ic2q",
        "outputId": "14957c6f-578d-42f6-82d6-278cbffe5163"
      },
      "outputs": [
        {
          "data": {
            "image/png": "[encoded data removed]",
            "text/plain": [
              "<Figure size 432x216 with 2 Axes>"
            ]
          },
          "metadata": {
            "needs_background": "light"
          },
          "output_type": "display_data"
        },
        {
          "data": {
            "text/plain": [
              "<Figure size 432x288 with 0 Axes>"
            ]
          },
          "metadata": {},
          "output_type": "display_data"
        },
        {
          "data": {
            "image/png": "[encoded data removed]",
            "text/plain": [
              "<Figure size 432x216 with 2 Axes>"
            ]
          },
          "metadata": {
            "needs_background": "light"
          },
          "output_type": "display_data"
        },
        {
          "data": {
            "text/plain": [
              "<Figure size 432x288 with 0 Axes>"
            ]
          },
          "metadata": {},
          "output_type": "display_data"
        },
        {
          "data": {
            "image/png": "[encoded data removed]",
            "text/plain": [
              "<Figure size 432x216 with 2 Axes>"
            ]
          },
          "metadata": {
            "needs_background": "light"
          },
          "output_type": "display_data"
        },
        {
          "data": {
            "text/plain": [
              "<Figure size 432x288 with 0 Axes>"
            ]
          },
          "metadata": {},
          "output_type": "display_data"
        },
        {
          "data": {
            "image/png": "[encoded data removed]",
            "text/plain": [
              "<Figure size 432x216 with 2 Axes>"
            ]
          },
          "metadata": {
            "needs_background": "light"
          },
          "output_type": "display_data"
        },
        {
          "data": {
            "text/plain": [
              "<Figure size 432x288 with 0 Axes>"
            ]
          },
          "metadata": {},
          "output_type": "display_data"
        },
        {
          "data": {
            "image/png": "[encoded data removed]",
            "text/plain": [
              "<Figure size 432x216 with 2 Axes>"
            ]
          },
          "metadata": {
            "needs_background": "light"
          },
          "output_type": "display_data"
        },
        {
          "data": {
            "text/plain": [
              "<Figure size 432x288 with 0 Axes>"
            ]
          },
          "metadata": {},
          "output_type": "display_data"
        },
        {
          "data": {
            "image/png": "[encoded data removed]",
            "text/plain": [
              "<Figure size 432x216 with 2 Axes>"
            ]
          },
          "metadata": {
            "needs_background": "light"
          },
          "output_type": "display_data"
        },
        {
          "data": {
            "text/plain": [
              "<Figure size 432x288 with 0 Axes>"
            ]
          },
          "metadata": {},
          "output_type": "display_data"
        },
        {
          "data": {
            "image/png": "[encoded data removed]",
            "text/plain": [
              "<Figure size 432x216 with 2 Axes>"
            ]
          },
          "metadata": {
            "needs_background": "light"
          },
          "output_type": "display_data"
        },
        {
          "data": {
            "text/plain": [
              "<Figure size 432x288 with 0 Axes>"
            ]
          },
          "metadata": {},
          "output_type": "display_data"
        },
        {
          "data": {
            "image/png": "[encoded data removed]",
            "text/plain": [
              "<Figure size 432x216 with 2 Axes>"
            ]
          },
          "metadata": {
            "needs_background": "light"
          },
          "output_type": "display_data"
        },
        {
          "data": {
            "text/plain": [
              "<Figure size 432x288 with 0 Axes>"
            ]
          },
          "metadata": {},
          "output_type": "display_data"
        },
        {
          "data": {
            "image/png": "[encoded data removed]",
            "text/plain": [
              "<Figure size 432x216 with 2 Axes>"
            ]
          },
          "metadata": {
            "needs_background": "light"
          },
          "output_type": "display_data"
        },
        {
          "data": {
            "text/plain": [
              "<Figure size 432x288 with 0 Axes>"
            ]
          },
          "metadata": {},
          "output_type": "display_data"
        },
        {
          "data": {
            "image/png": "[encoded data removed]",
            "text/plain": [
              "<Figure size 432x216 with 2 Axes>"
            ]
          },
          "metadata": {
            "needs_background": "light"
          },
          "output_type": "display_data"
        },
        {
          "data": {
            "text/plain": [
              "<Figure size 432x288 with 0 Axes>"
            ]
          },
          "metadata": {},
          "output_type": "display_data"
        },
        {
          "data": {
            "image/png": "[encoded data removed]",
            "text/plain": [
              "<Figure size 432x216 with 2 Axes>"
            ]
          },
          "metadata": {
            "needs_background": "light"
          },
          "output_type": "display_data"
        },
        {
          "data": {
            "text/plain": [
              "<Figure size 432x288 with 0 Axes>"
            ]
          },
          "metadata": {},
          "output_type": "display_data"
        },
        {
          "data": {
            "image/png": "[encoded data removed]",
            "text/plain": [
              "<Figure size 432x216 with 2 Axes>"
            ]
          },
          "metadata": {
            "needs_background": "light"
          },
          "output_type": "display_data"
        },
        {
          "data": {
            "text/plain": [
              "<Figure size 432x288 with 0 Axes>"
            ]
          },
          "metadata": {},
          "output_type": "display_data"
        },
        {
          "data": {
            "image/png": "[encoded data removed]",
            "text/plain": [
              "<Figure size 432x216 with 2 Axes>"
            ]
          },
          "metadata": {
            "needs_background": "light"
          },
          "output_type": "display_data"
        },
        {
          "data": {
            "text/plain": [
              "<Figure size 432x288 with 0 Axes>"
            ]
          },
          "metadata": {},
          "output_type": "display_data"
        }
      ],
      "source": [
        "for i in range(0,13):\n",
        "  plt.figure(figsize=(6,3))\n",
        "  plt.subplot(1,2,1)\n",
        "  plot_image(i, predictions[i], test_labels, test_images.reshape(10000,28,28))\n",
        "  plt.subplot(1,2,2)\n",
        "  plot_value_array(i, predictions[i],  test_labels)\n",
        "  plt.show()\n",
        "  plt.clf()"
      ]
    }
  ],
  "metadata": {
    "accelerator": "GPU",
    "colab": {
      "collapsed_sections": [
        "kEtTwyTVhOlS"
      ],
      "provenance": []
    },
    "gpuClass": "standard",
    "kernelspec": {
      "display_name": "Python 3",
      "name": "python3"
    },
    "language_info": {
      "name": "python"
    }
  },
  "nbformat": 4,
  "nbformat_minor": 0
}