{
  "cells": [
    {
      "cell_type": "markdown",
      "metadata": {
        "id": "kEtTwyTVhOlS"
      },
      "source": [
        "**Marta Amores**\n",
        "\n",
        "#Práctica 2#\n",
        "\n",
        "\n",
        "Debemos crear un modelo de Red de Neuronas Convolucionales, estas capas nos ayudarán al mejor reconocimiento de imágenes, para que nuestro modelo sea capaz de reconocer y clasificar imágenes. \n",
        "Este modelo será definido, configurado, entrenado, evaluado y mejorado para posteriormente usarlo para hacer predicciones.  \n",
        "\n",
        "\n",
        "Para entender mejor que son las redes convolucionales, sabemos que soy muy similares a las densamente conectadas (Dense), estas tienen pesos y sesgos y son capaces de aprender. \n",
        "La diferencia es que las redes convolucionales suponen que las entradas son imágenes, esto hace que podamos identificar diferentes propiedades de las imágenes, más allá de las Dense. \n",
        "Lo que realmente hacen las capas convolucionales es, antes de saber que es una boca o un ojo, saber identificar las líneas, texturas o formas, que sean similares a ellas. Después aprender la disposición de estos, es decir, una boca siempre va a estar debajo de la nariz, finalmente ya aprenderá lo que es una boca o un ojo. \n",
        "\n"
      ]
    },
    {
      "cell_type": "code",
      "execution_count": 7,
      "metadata": {
        "colab": {
          "base_uri": "https://localhost:8080/"
        },
        "id": "S3kTjRHOknSe",
        "outputId": "f9fecbbe-3e13-4eb8-b661-fd7c8deab289"
      },
      "outputs": [
        {
          "output_type": "stream",
          "name": "stdout",
          "text": [
            "Colab only includes TensorFlow 2.x; %tensorflow_version has no effect.\n",
            "2.9.2\n"
          ]
        }
      ],
      "source": [
        "%tensorflow_version 2.x\n",
        "import tensorflow as tf\n",
        "from tensorflow import keras\n",
        "\n",
        "import numpy as np\n",
        "import matplotlib.pyplot as plt\n",
        "\n",
        "print(tf.__version__)"
      ]
    },
    {
      "cell_type": "markdown",
      "metadata": {
        "id": "-f-i5x9okxXx"
      },
      "source": [
        "Comprobamos que nuestra versión es posterior a 2.0.0"
      ]
    },
    {
      "cell_type": "markdown",
      "metadata": {
        "id": "YsSLj8mFoQcO"
      },
      "source": [
        "Crgamos todas las librerías necesarías para poder entrenar nuestro modelo.\n",
        "Nos aseguramos que tenemos los datos en la forma que necesitamos. "
      ]
    },
    {
      "cell_type": "code",
      "execution_count": 8,
      "metadata": {
        "id": "U7ttH1LXniwm",
        "colab": {
          "base_uri": "https://localhost:8080/"
        },
        "outputId": "bc79f3c4-7f13-4b7d-e14d-a5931cd7f584"
      },
      "outputs": [
        {
          "output_type": "stream",
          "name": "stdout",
          "text": [
            "Downloading data from https://storage.googleapis.com/tensorflow/tf-keras-datasets/train-labels-idx1-ubyte.gz\n",
            "29515/29515 [==============================] - 0s 0us/step\n",
            "Downloading data from https://storage.googleapis.com/tensorflow/tf-keras-datasets/train-images-idx3-ubyte.gz\n",
            "26421880/26421880 [==============================] - 1s 0us/step\n",
            "Downloading data from https://storage.googleapis.com/tensorflow/tf-keras-datasets/t10k-labels-idx1-ubyte.gz\n",
            "5148/5148 [==============================] - 0s 0us/step\n",
            "Downloading data from https://storage.googleapis.com/tensorflow/tf-keras-datasets/t10k-images-idx3-ubyte.gz\n",
            "4422102/4422102 [==============================] - 0s 0us/step\n"
          ]
        }
      ],
      "source": [
        "from tensorflow.keras import Sequential\n",
        "from tensorflow.keras.layers import Conv2D\n",
        "from tensorflow.keras.layers import MaxPooling2D\n",
        "from tensorflow.keras.layers import Dense\n",
        "from tensorflow.keras.layers import Flatten\n",
        "from tensorflow.keras.layers import Dropout, BatchNormalization\n",
        "\n",
        "(train_images, train_labels), (test_images, test_labels) = tf.keras.datasets.fashion_mnist.load_data()\n",
        "\n",
        "assert train_images.shape==(60000,28,28)\n",
        "assert test_images.shape==(10000,28,28)\n",
        "assert train_labels.shape==(60000,)\n",
        "assert test_labels.shape==(10000,)\n",
        "\n",
        "train_images = train_images.reshape((60000, 28, 28, 1))\n",
        "train_images = train_images.astype('float32') / 255\n",
        "test_images = test_images.reshape((10000, 28, 28, 1))\n",
        "test_images = test_images.astype('float32') / 255\n",
        "test_labels=test_labels.reshape((10000,1))\n",
        "train_labels=train_labels.reshape((60000,1))\n",
        "\n"
      ]
    },
    {
      "cell_type": "markdown",
      "metadata": {
        "id": "JcBke72WorAP"
      },
      "source": [
        "Comprobamos que los datos tienen la forma esperada.\n"
      ]
    },
    {
      "cell_type": "markdown",
      "metadata": {
        "id": "4U5BhbyxpV3d"
      },
      "source": [
        "#Definición de los modelos"
      ]
    },
    {
      "cell_type": "markdown",
      "source": [
        "En todos los casos vamos a utilizar capas convolucionales, como hemos comentado en la introducción, estas capas se definen como **clasificadoras de imágenes**, optimizan el reconocimiento de las imágenes. \n",
        "Las capas de las CNNs, son neuronas especializadas en la operación de convolución, esta capa aprende patrones a niveles **locales**, y luego de una manera más **global**, a diferencia con las capas Dense que estas aprendían patrones globales. \n",
        "\n",
        "La convolución, puede explicarse como: primero, aprenden líneas, aristas, etc. Una vez aprendido esto, puede reconocer un punto de la imágen en cualquier parte, es decir, la dispersión, y patrones de elementos básicos, hasta llegar a unos patrones más complejos. \n",
        "\n",
        "Otra operación de las capas CNNs, es la operación de pooling, esta simplifica el resultado de la capa convolucional y crea una versión condensada, se suelen aplicar después de las capas convolucionales."
      ],
      "metadata": {
        "id": "7DJp5v3yAsO1"
      }
    },
    {
      "cell_type": "markdown",
      "metadata": {
        "id": "tWB7mV6LqELe"
      },
      "source": [
        "##Caso 1##"
      ]
    },
    {
      "cell_type": "markdown",
      "source": [
        "El primer caso va a utilizar dos capas convolucionales, una de 32 filtros y otra de 64, el tamaño de la ventana en ambas es de 5x5, y las dos capas utilizan una función de activación 'relu'. Seguidamente de dos capas pooling, de tamaño 2x2. \n",
        "\n",
        "Finalmente una capa Flatten para aplanar y poder pasarla a la última capa Dense, con 10 neuronas y una función de activación 'softmax'."
      ],
      "metadata": {
        "id": "WS8eMVpR-lwf"
      }
    },
    {
      "cell_type": "code",
      "execution_count": 22,
      "metadata": {
        "colab": {
          "base_uri": "https://localhost:8080/"
        },
        "id": "v4KasE4jquta",
        "outputId": "ec494586-1bca-4b74-dcff-60392475a0ca"
      },
      "outputs": [
        {
          "output_type": "stream",
          "name": "stdout",
          "text": [
            "CASO 1 \n",
            "\n",
            "--------------------------------- \n",
            "\n",
            "NÚMERO DE FILTROS EN LA PRIMERA CAPA CONVOLUCIONAL: 32 \n",
            " \n",
            "TAMAÑO DE LA VENTANA EN LA PRIMERA CAPA CONVOLUCIONAL: 5x5 \n",
            "\n",
            "NÚMERO DE FILTROS EN LA SEGUNDA CAPA CONVOLUCIONAL: 64 \n",
            " \n",
            "TAMAÑO DE LA VENTANA EN LA SEGUNDA CAPA CONVOLUCIONAL: 5x5 \n",
            "\n",
            "TAMAÑO DE LA CAPA POOLING: 2x2 \n",
            "\n",
            "FUNCIÓN ACTIVACIÓN EN AMBAS CAPAS: relu \n",
            "  \n",
            "FUNCIÓN ACTIVACIÓN ULTIMA CAPA: softmax \n",
            " \n",
            "OPTIMIZADOR: sgd \n",
            " \n",
            "FUNCIÓN PÉRDIDA: sparse_categorical_crossentropy \n",
            "\n",
            "MÉTRICA: accuracy \n",
            "--------------------------------- \n",
            "\n",
            "Model: \"sequential_1\"\n",
            "_________________________________________________________________\n",
            " Layer (type)                Output Shape              Param #   \n",
            "=================================================================\n",
            " conv2d_2 (Conv2D)           (None, 24, 24, 32)        832       \n",
            "                                                                 \n",
            " max_pooling2d_2 (MaxPooling  (None, 12, 12, 32)       0         \n",
            " 2D)                                                             \n",
            "                                                                 \n",
            " conv2d_3 (Conv2D)           (None, 8, 8, 64)          51264     \n",
            "                                                                 \n",
            " max_pooling2d_3 (MaxPooling  (None, 4, 4, 64)         0         \n",
            " 2D)                                                             \n",
            "                                                                 \n",
            " flatten_1 (Flatten)         (None, 1024)              0         \n",
            "                                                                 \n",
            " dense_2 (Dense)             (None, 10)                10250     \n",
            "                                                                 \n",
            "=================================================================\n",
            "Total params: 62,346\n",
            "Trainable params: 62,346\n",
            "Non-trainable params: 0\n",
            "_________________________________________________________________\n"
          ]
        }
      ],
      "source": [
        "model1 = Sequential()\n",
        "model1.add(Conv2D(32, (5, 5), activation='relu', input_shape=(28, 28, 1)))\n",
        "model1.add(MaxPooling2D((2, 2)))\n",
        "model1.add(Conv2D(64,(5,5), activation='relu'))\n",
        "model1.add(MaxPooling2D((2, 2)))\n",
        "model1.add(Flatten())\n",
        "model1.add(Dense(10, activation='softmax'))\n",
        "\n",
        "print(\"CASO 1 \\n\")\n",
        "print(\"--------------------------------- \\n\")\n",
        "print(\"NÚMERO DE FILTROS EN LA PRIMERA CAPA CONVOLUCIONAL: 32 \\n \")\n",
        "print('TAMAÑO DE LA VENTANA EN LA PRIMERA CAPA CONVOLUCIONAL: 5x5 \\n')\n",
        "print(\"NÚMERO DE FILTROS EN LA SEGUNDA CAPA CONVOLUCIONAL: 64 \\n \")\n",
        "print('TAMAÑO DE LA VENTANA EN LA SEGUNDA CAPA CONVOLUCIONAL: 5x5 \\n')\n",
        "print('TAMAÑO DE LA CAPA POOLING: 2x2 \\n')\n",
        "print(\"FUNCIÓN ACTIVACIÓN EN AMBAS CAPAS: relu \\n  \",)\n",
        "print(\"FUNCIÓN ACTIVACIÓN ULTIMA CAPA: softmax \\n \")\n",
        "print(\"OPTIMIZADOR: sgd \\n \")\n",
        "print(\"FUNCIÓN PÉRDIDA: sparse_categorical_crossentropy \\n\")\n",
        "print(\"MÉTRICA: accuracy \")\n",
        "print('--------------------------------- \\n')\n",
        "\n",
        "model1.summary()\n",
        "\n"
      ]
    },
    {
      "cell_type": "markdown",
      "metadata": {
        "id": "JXeQa1LIxvkM"
      },
      "source": [
        "Nuestra función **summary** de nuestro CASO 1 nos indica:\n",
        "El input shape es (28x28) por la altura y la anchura, 1 porque la imágen es monocromática.\n",
        "*   La primera capa convolucional es, ((5x5)+1)x32=832 parámetros.\n",
        "*   La primera capa pooling no suma parámetros porque no aprende, 24/2=12\n",
        "*   La segunda capa convolucional es, (((5x5)x32)+1)x64=51264 parámetros.\n",
        "*   La segunda capa pooling no suma parámetros porque no aprende, 8/2=4\n",
        "*   La capa flatten tampoco suma parámetros porque no aprende, solo nos aplana los datos para pasárselos a la capa Dense.\n",
        "*   La última capa dense es, (((1024)x10))+10)=10250 parámetros.\n",
        "\n",
        "En total de los parámetros que hemos encontrado es:  62.346"
      ]
    },
    {
      "cell_type": "code",
      "execution_count": 23,
      "metadata": {
        "id": "92MRJ86vyUYZ"
      },
      "outputs": [],
      "source": [
        "model1.compile(loss = 'sparse_categorical_crossentropy',\n",
        "              optimizer = 'sgd',\n",
        "              metrics='accuracy')"
      ]
    },
    {
      "cell_type": "markdown",
      "metadata": {
        "id": "8hb0Jxgly6Y4"
      },
      "source": [
        "Entrenamos nuestro modelo con 5 épocas."
      ]
    },
    {
      "cell_type": "code",
      "execution_count": 24,
      "metadata": {
        "colab": {
          "base_uri": "https://localhost:8080/"
        },
        "id": "f08yoGadbxm4",
        "outputId": "09d6e07c-e7bc-4182-ebe5-1d843c5676d5"
      },
      "outputs": [
        {
          "output_type": "stream",
          "name": "stdout",
          "text": [
            "Epoch 1/5\n",
            "480/480 [==============================] - 2s 4ms/step - loss: 1.3342 - accuracy: 0.5634 - val_loss: 0.7718 - val_accuracy: 0.7316\n",
            "Epoch 2/5\n",
            "480/480 [==============================] - 2s 4ms/step - loss: 0.7294 - accuracy: 0.7338 - val_loss: 0.6489 - val_accuracy: 0.7641\n",
            "Epoch 3/5\n",
            "480/480 [==============================] - 2s 4ms/step - loss: 0.6255 - accuracy: 0.7728 - val_loss: 0.5789 - val_accuracy: 0.7932\n",
            "Epoch 4/5\n",
            "480/480 [==============================] - 2s 4ms/step - loss: 0.5689 - accuracy: 0.7952 - val_loss: 0.5448 - val_accuracy: 0.8000\n",
            "Epoch 5/5\n",
            "480/480 [==============================] - 2s 4ms/step - loss: 0.5300 - accuracy: 0.8083 - val_loss: 0.5178 - val_accuracy: 0.8098\n"
          ]
        }
      ],
      "source": [
        " historia1=model1.fit(train_images, train_labels,\n",
        "          batch_size=100,\n",
        "          epochs=5,\n",
        "          verbose=1,\n",
        "          validation_split=0.2)"
      ]
    },
    {
      "cell_type": "code",
      "execution_count": 25,
      "metadata": {
        "id": "XqMGEsSkA4rc"
      },
      "outputs": [],
      "source": [
        "def pinta_precision_entrenamiento_validacion(historia):\n",
        "  history_dict = historia.history\n",
        "  acc = historia.history['accuracy']\n",
        "  val_acc = historia.history['val_accuracy']\n",
        "  loss = historia.history['loss']\n",
        "  val_loss = historia.history['val_loss']\n",
        "  plt.clf()   # Limpia la figura\n",
        "  acc_values = history_dict['accuracy']\n",
        "  val_acc_values = history_dict['val_accuracy']\n",
        "  epochs = range(1, len(acc) + 1)\n",
        "  plt.plot(epochs, acc, 'bo', label='Precisión de Entrenamiento')\n",
        "  plt.plot(epochs, val_acc, 'b', label='Precisión de Validación')\n",
        "  plt.title('Precisión de Entrenamiento y Valización')\n",
        "  plt.xlabel('Epochs')\n",
        "  plt.ylabel('Loss')\n",
        "  plt.legend()\n",
        "  plt.show()"
      ]
    },
    {
      "cell_type": "code",
      "execution_count": 26,
      "metadata": {
        "id": "qSDpa-wcA9D6"
      },
      "outputs": [],
      "source": [
        "def pinta_perdida_entrenamiento_validacion(historia):\n",
        "  history_dict = historia.history\n",
        "  acc = historia.history['accuracy']\n",
        "  val_acc = historia.history['val_accuracy']\n",
        "  loss = historia.history['loss']\n",
        "  val_loss = historia.history['val_loss']\n",
        "  epochs = range(1, len(acc) + 1)\n",
        "  # \"bo\" es para \"punto azun\"\n",
        "  plt.plot(epochs, loss, 'bo', label='Pérdida de Entrenamiento')\n",
        "  # \"b\" es para \"linea continua azul\"\n",
        "  plt.plot(epochs, val_loss, 'b', label='Pérdida de Validación')\n",
        "  plt.title('Pérdida de Entrenamiento y Validación')\n",
        "  plt.xlabel('Epochs')\n",
        "  plt.ylabel('Loss')\n",
        "  plt.legend()\n",
        "  plt.show()"
      ]
    },
    {
      "cell_type": "code",
      "execution_count": 27,
      "metadata": {
        "colab": {
          "base_uri": "https://localhost:8080/",
          "height": 69
        },
        "id": "pPg7SacJA-D8",
        "outputId": "eaeb42aa-8883-46bc-aef2-7553dbc7911e"
      },
      "outputs": [
        {
          "output_type": "display_data",
          "data": {
            "text/plain": [
              "<Figure size 432x288 with 1 Axes>"
            ],
            "image/png": "[encoded data removed]"
          },
          "metadata": {
            "needs_background": "light"
          }
        },
        {
          "output_type": "display_data",
          "data": {
            "text/plain": [
              "<Figure size 432x288 with 1 Axes>"
            ],
            "image/png": "[encoded data removed]"
          },
          "metadata": {
            "needs_background": "light"
          }
        }
      ],
      "source": [
        "pinta_perdida_entrenamiento_validacion(historia1)\n",
        "pinta_precision_entrenamiento_validacion(historia1)"
      ]
    },
    {
      "cell_type": "markdown",
      "metadata": {
        "id": "FFTXZlN2YMrZ"
      },
      "source": [
        "\n",
        "#Caso 2"
      ]
    },
    {
      "cell_type": "markdown",
      "source": [
        "En el segundo caso va a utilizar dos capas convolucionales, una de 64 filtros y otra de 128, el tamaño de la ventana de la primera capa es de 7x7, y el de la segunda de 3x3, y las dos capas utilizan una función de activación 'relu'. Seguidamente de dos capas pooling, de tamaño 2x2.\n",
        "\n",
        "Finalmente una capa Flatten para aplanar y poder pasarla a la penúltima capa Dense, con 65 neuronas y una función de activación 'relu', y por último la última capa que también es Dense, con 10 neuronas y una función de activación 'softmax'."
      ],
      "metadata": {
        "id": "ebHnfqvwC0hR"
      }
    },
    {
      "cell_type": "code",
      "execution_count": 28,
      "metadata": {
        "colab": {
          "base_uri": "https://localhost:8080/"
        },
        "id": "ZoveKcg1cj_B",
        "outputId": "3bc39aa9-a0f2-4184-eeb7-f6a47354d0c7"
      },
      "outputs": [
        {
          "output_type": "stream",
          "name": "stdout",
          "text": [
            "CASO 2 \n",
            "\n",
            "--------------------------------- \n",
            "\n",
            "NÚMERO DE FILTROS EN LA PRIMERA CAPA CONVOLUCIONAL: 64 \n",
            " \n",
            "TAMAÑO DE LA VENTANA EN LA PRIMERA CAPA CONVOLUCIONAL: 7x7 \n",
            "\n",
            "NÚMERO DE FILTROS EN LA SEGUNDA CAPA CONVOLUCIONAL: 128 \n",
            " \n",
            "TAMAÑO DE LA VENTANA EN LA SEGUNDA CAPA CONVOLUCIONAL: 3x3 \n",
            "\n",
            "TAMAÑO DE LA CAPA POOLING: 2x2 \n",
            "\n",
            "CAPA PADDING: same \n",
            "\n",
            "TAMAÑO ÚLTIMA CAPA DENSE: 65 \n",
            "\n",
            "FUNCIÓN ACTIVACIÓN EN LAS TRES CAPAS: relu \n",
            "  \n",
            "FUNCIÓN ACTIVACIÓN ULTIMA CAPA: softmax \n",
            " \n",
            "OPTIMIZADOR: sgd \n",
            " \n",
            "FUNCIÓN PÉRDIDA: sparse_categorical_crossentropy \n",
            "\n",
            "MÉTRICA: accuracy \n",
            "--------------------------------- \n",
            "\n",
            "Model: \"sequential_2\"\n",
            "_________________________________________________________________\n",
            " Layer (type)                Output Shape              Param #   \n",
            "=================================================================\n",
            " conv2d_4 (Conv2D)           (None, 28, 28, 64)        3200      \n",
            "                                                                 \n",
            " max_pooling2d_4 (MaxPooling  (None, 14, 14, 64)       0         \n",
            " 2D)                                                             \n",
            "                                                                 \n",
            " conv2d_5 (Conv2D)           (None, 14, 14, 128)       73856     \n",
            "                                                                 \n",
            " max_pooling2d_5 (MaxPooling  (None, 7, 7, 128)        0         \n",
            " 2D)                                                             \n",
            "                                                                 \n",
            " flatten_2 (Flatten)         (None, 6272)              0         \n",
            "                                                                 \n",
            " dense_3 (Dense)             (None, 65)                407745    \n",
            "                                                                 \n",
            " dense_4 (Dense)             (None, 10)                660       \n",
            "                                                                 \n",
            "=================================================================\n",
            "Total params: 485,461\n",
            "Trainable params: 485,461\n",
            "Non-trainable params: 0\n",
            "_________________________________________________________________\n"
          ]
        }
      ],
      "source": [
        "model2 = Sequential()\n",
        "model2.add(Conv2D(64, (7, 7), padding = 'same', activation='relu', input_shape=(28, 28, 1)))\n",
        "model2.add(MaxPooling2D((2, 2)))\n",
        "model2.add(Conv2D(128,(3,3), padding = 'same', activation='relu'))\n",
        "model2.add(MaxPooling2D((2, 2)))\n",
        "model2.add(Flatten())\n",
        "model2.add(Dense(65, activation='relu'))\n",
        "model2.add(Dense(10, activation='softmax'))\n",
        "\n",
        "print(\"CASO 2 \\n\")\n",
        "print(\"--------------------------------- \\n\")\n",
        "print(\"NÚMERO DE FILTROS EN LA PRIMERA CAPA CONVOLUCIONAL: 64 \\n \")\n",
        "print('TAMAÑO DE LA VENTANA EN LA PRIMERA CAPA CONVOLUCIONAL: 7x7 \\n')\n",
        "print(\"NÚMERO DE FILTROS EN LA SEGUNDA CAPA CONVOLUCIONAL: 128 \\n \")\n",
        "print('TAMAÑO DE LA VENTANA EN LA SEGUNDA CAPA CONVOLUCIONAL: 3x3 \\n')\n",
        "print('TAMAÑO DE LA CAPA POOLING: 2x2 \\n')\n",
        "print('CAPA PADDING: same \\n')\n",
        "print('TAMAÑO ÚLTIMA CAPA DENSE: 65 \\n')\n",
        "print(\"FUNCIÓN ACTIVACIÓN EN LAS TRES CAPAS: relu \\n  \",)\n",
        "print(\"FUNCIÓN ACTIVACIÓN ULTIMA CAPA: softmax \\n \")\n",
        "print(\"OPTIMIZADOR: sgd \\n \")\n",
        "print(\"FUNCIÓN PÉRDIDA: sparse_categorical_crossentropy \\n\")\n",
        "print(\"MÉTRICA: accuracy \")\n",
        "print('--------------------------------- \\n')\n",
        "\n",
        "model2.summary()"
      ]
    },
    {
      "cell_type": "markdown",
      "source": [
        "Nuestra función **summary** de nuestro CASO 2 nos indica:\n",
        "El input shape es (28x28) por la altura y la anchura, 1 porque la imágen es monocromática.\n",
        "*   La primera capa convolucional es, ((7x7)+1)x64=3200 parámetros.\n",
        "*   La primera capa pooling no suma parámetros porque no aprende, 28/2=14\n",
        "*   La segunda capa convolucional es, (((3x3)x64)+1)x128=73856 parámetros.\n",
        "*   La segunda capa pooling no suma parámetros porque no aprende, 14/2=7\n",
        "*   La capa flatten tampoco suma parámetros porque no aprende, solo nos aplana los datos para pasárselos a la capa Dense.\n",
        "*   La penúltima capa dense es, (((6272)x65))+65)=407745 parámetros.\n",
        "*   La última capa dense es, (65x10)+10=660\n",
        "\n",
        "En total de los parámetros que hemos encontrado es:  485.461"
      ],
      "metadata": {
        "id": "CiRuos5vPrcf"
      }
    },
    {
      "cell_type": "code",
      "execution_count": 29,
      "metadata": {
        "id": "r2PZTY8C7UnG"
      },
      "outputs": [],
      "source": [
        "model2.compile(loss = 'sparse_categorical_crossentropy',\n",
        "              optimizer = 'sgd',\n",
        "              metrics='accuracy')"
      ]
    },
    {
      "cell_type": "code",
      "execution_count": 30,
      "metadata": {
        "colab": {
          "base_uri": "https://localhost:8080/"
        },
        "id": "AY2WMh3ykqQu",
        "outputId": "26bf3390-3c77-4878-807c-7359addb0112"
      },
      "outputs": [
        {
          "output_type": "stream",
          "name": "stdout",
          "text": [
            "Epoch 1/5\n",
            "480/480 [==============================] - 4s 7ms/step - loss: 1.1964 - accuracy: 0.6118 - val_loss: 0.7287 - val_accuracy: 0.7400\n",
            "Epoch 2/5\n",
            "480/480 [==============================] - 5s 11ms/step - loss: 0.6940 - accuracy: 0.7500 - val_loss: 0.6091 - val_accuracy: 0.7762\n",
            "Epoch 3/5\n",
            "480/480 [==============================] - 3s 7ms/step - loss: 0.6076 - accuracy: 0.7779 - val_loss: 0.5567 - val_accuracy: 0.7956\n",
            "Epoch 4/5\n",
            "480/480 [==============================] - 4s 8ms/step - loss: 0.5543 - accuracy: 0.7987 - val_loss: 0.5437 - val_accuracy: 0.7940\n",
            "Epoch 5/5\n",
            "480/480 [==============================] - 3s 7ms/step - loss: 0.5144 - accuracy: 0.8130 - val_loss: 0.5036 - val_accuracy: 0.8164\n"
          ]
        }
      ],
      "source": [
        " historia2=model2.fit(train_images, train_labels,\n",
        "          batch_size=100,\n",
        "          epochs=5,\n",
        "          verbose=1,\n",
        "          validation_split=0.2)"
      ]
    },
    {
      "cell_type": "code",
      "execution_count": 31,
      "metadata": {
        "id": "DSUR2OkKBtWu",
        "outputId": "1d67cb5b-40ac-433a-9187-72dd85e68ea6",
        "colab": {
          "base_uri": "https://localhost:8080/",
          "height": 69
        }
      },
      "outputs": [
        {
          "output_type": "display_data",
          "data": {
            "text/plain": [
              "<Figure size 432x288 with 1 Axes>"
            ],
            "image/png": "[encoded data removed]"
          },
          "metadata": {
            "needs_background": "light"
          }
        },
        {
          "output_type": "display_data",
          "data": {
            "text/plain": [
              "<Figure size 432x288 with 1 Axes>"
            ],
            "image/png": "[encoded data removed]"
          },
          "metadata": {
            "needs_background": "light"
          }
        }
      ],
      "source": [
        "pinta_perdida_entrenamiento_validacion(historia2)\n",
        "pinta_precision_entrenamiento_validacion(historia2)"
      ]
    },
    {
      "cell_type": "markdown",
      "metadata": {
        "id": "Pl8CM0yKne--"
      },
      "source": [
        "#Caso 3"
      ]
    },
    {
      "cell_type": "markdown",
      "source": [
        "En el tercer caso va a utilizar dos capas convolucionales, una de 64 filtros y otra de 128, el tamaño de la ventana de la primera capa es de 7x7, y el de la segunda de 3x3, y las dos capas utilizan una función de activación 'relu'. Seguidamente de dos capas pooling, de tamaño 2x2.\n",
        "Finalmente una capa Flatten para aplanar y poder pasarla a la penúltima capa Dense, con 65 neuronas y una función de activación 'relu', y por último la última capa que también es Dense, con 10 neuronas y una función de activación 'softmax'.\n",
        "\n",
        "La diferencia ante el segundo caso, en este caso vamos a utilizar un optimizador diferente al que estábamos utilizando, en este caso el optimizador 'Adam'. Como ya vimos en la última práctica, a veces, hace que el proceso de optimización converja mejor. "
      ],
      "metadata": {
        "id": "PoiAwJtnEMv2"
      }
    },
    {
      "cell_type": "code",
      "execution_count": 32,
      "metadata": {
        "colab": {
          "base_uri": "https://localhost:8080/"
        },
        "id": "am9PXc0Engwv",
        "outputId": "a9c72967-4840-4efd-fc74-97271afbbfd4"
      },
      "outputs": [
        {
          "output_type": "stream",
          "name": "stdout",
          "text": [
            "CASO 3 \n",
            "\n",
            "--------------------------------- \n",
            "\n",
            "NÚMERO DE FILTROS EN LA PRIMERA CAPA CONVOLUCIONAL: 64 \n",
            " \n",
            "TAMAÑO DE LA VENTANA EN LA PRIMERA CAPA CONVOLUCIONAL: 7x7 \n",
            "\n",
            "NÚMERO DE FILTROS EN LA SEGUNDA CAPA CONVOLUCIONAL: 128 \n",
            " \n",
            "TAMAÑO DE LA VENTANA EN LA SEGUNDA CAPA CONVOLUCIONAL: 3x3 \n",
            "\n",
            "TAMAÑO DE LA CAPA POOLING: 2x2 \n",
            "\n",
            "CAPA PADDING: same \n",
            "\n",
            "TAMAÑO ÚLTIMA CAPA DENSE: 65 \n",
            "\n",
            "FUNCIÓN ACTIVACIÓN EN LAS TRES CAPAS: relu \n",
            "  \n",
            "FUNCIÓN ACTIVACIÓN ULTIMA CAPA: softmax \n",
            " \n",
            "OPTIMIZADOR: adam \n",
            " \n",
            "FUNCIÓN PÉRDIDA: sparse_categorical_crossentropy \n",
            "\n",
            "MÉTRICA: accuracy \n",
            "--------------------------------- \n",
            "\n",
            "Model: \"sequential_3\"\n",
            "_________________________________________________________________\n",
            " Layer (type)                Output Shape              Param #   \n",
            "=================================================================\n",
            " conv2d_6 (Conv2D)           (None, 28, 28, 64)        3200      \n",
            "                                                                 \n",
            " max_pooling2d_6 (MaxPooling  (None, 14, 14, 64)       0         \n",
            " 2D)                                                             \n",
            "                                                                 \n",
            " conv2d_7 (Conv2D)           (None, 14, 14, 128)       73856     \n",
            "                                                                 \n",
            " max_pooling2d_7 (MaxPooling  (None, 7, 7, 128)        0         \n",
            " 2D)                                                             \n",
            "                                                                 \n",
            " flatten_3 (Flatten)         (None, 6272)              0         \n",
            "                                                                 \n",
            " dense_5 (Dense)             (None, 65)                407745    \n",
            "                                                                 \n",
            " dense_6 (Dense)             (None, 10)                660       \n",
            "                                                                 \n",
            "=================================================================\n",
            "Total params: 485,461\n",
            "Trainable params: 485,461\n",
            "Non-trainable params: 0\n",
            "_________________________________________________________________\n"
          ]
        }
      ],
      "source": [
        "model3 = Sequential()\n",
        "model3.add(Conv2D(64, (7, 7), padding = 'same', activation='relu', input_shape=(28, 28, 1)))\n",
        "model3.add(MaxPooling2D((2, 2)))\n",
        "model3.add(Conv2D(128,(3,3), padding = 'same', activation='relu'))\n",
        "model3.add(MaxPooling2D((2, 2)))\n",
        "model3.add(Flatten())\n",
        "model3.add(Dense(65, activation='relu'))\n",
        "model3.add(Dense(10, activation='softmax'))\n",
        "\n",
        "print(\"CASO 3 \\n\")\n",
        "print(\"--------------------------------- \\n\")\n",
        "print(\"NÚMERO DE FILTROS EN LA PRIMERA CAPA CONVOLUCIONAL: 64 \\n \")\n",
        "print('TAMAÑO DE LA VENTANA EN LA PRIMERA CAPA CONVOLUCIONAL: 7x7 \\n')\n",
        "print(\"NÚMERO DE FILTROS EN LA SEGUNDA CAPA CONVOLUCIONAL: 128 \\n \")\n",
        "print('TAMAÑO DE LA VENTANA EN LA SEGUNDA CAPA CONVOLUCIONAL: 3x3 \\n')\n",
        "print('TAMAÑO DE LA CAPA POOLING: 2x2 \\n')\n",
        "print('CAPA PADDING: same \\n')\n",
        "print('TAMAÑO ÚLTIMA CAPA DENSE: 65 \\n')\n",
        "print(\"FUNCIÓN ACTIVACIÓN EN LAS TRES CAPAS: relu \\n  \",)\n",
        "print(\"FUNCIÓN ACTIVACIÓN ULTIMA CAPA: softmax \\n \")\n",
        "print(\"OPTIMIZADOR: adam \\n \")\n",
        "print(\"FUNCIÓN PÉRDIDA: sparse_categorical_crossentropy \\n\")\n",
        "print(\"MÉTRICA: accuracy \")\n",
        "print('--------------------------------- \\n')\n",
        "\n",
        "model3.summary()"
      ]
    },
    {
      "cell_type": "markdown",
      "source": [
        "Nuestra función **summary** de nuestro CASO 3 nos indica:\n",
        "El input shape es (28x28) por la altura y la anchura, 1 porque la imágen es monocromática.\n",
        "*   La primera capa convolucional es, ((7x7)+1)x64=3200 parámetros.\n",
        "*   La primera capa pooling no suma parámetros porque no aprende, 28/2=14\n",
        "*   La segunda capa convolucional es, (((3x3)x64)+1)x128=73856 parámetros.\n",
        "*   La segunda capa pooling no suma parámetros porque no aprende, 14/2=7\n",
        "*   La capa flatten tampoco suma parámetros porque no aprende, solo nos aplana los datos para pasárselos a la capa Dense.\n",
        "*   La penúltima capa dense es, (((6272)x65))+65)=407745 parámetros.\n",
        "*   La última capa dense es, (65x10)+10=660\n",
        "En total de los parámetros que hemos encontrado es:  485.461"
      ],
      "metadata": {
        "id": "o4XnsKzhT5iY"
      }
    },
    {
      "cell_type": "code",
      "execution_count": 33,
      "metadata": {
        "id": "tcpWzw6En8CE"
      },
      "outputs": [],
      "source": [
        "model3.compile(loss = 'sparse_categorical_crossentropy',\n",
        "              optimizer = 'adam',\n",
        "              metrics='accuracy')"
      ]
    },
    {
      "cell_type": "code",
      "execution_count": 34,
      "metadata": {
        "colab": {
          "base_uri": "https://localhost:8080/"
        },
        "id": "KrUmhPfHoAdu",
        "outputId": "53e779ef-167d-4c1d-a78e-b06580892892"
      },
      "outputs": [
        {
          "output_type": "stream",
          "name": "stdout",
          "text": [
            "Epoch 1/5\n",
            "480/480 [==============================] - 4s 8ms/step - loss: 0.5034 - accuracy: 0.8208 - val_loss: 0.3656 - val_accuracy: 0.8684\n",
            "Epoch 2/5\n",
            "480/480 [==============================] - 3s 7ms/step - loss: 0.3174 - accuracy: 0.8862 - val_loss: 0.2906 - val_accuracy: 0.8940\n",
            "Epoch 3/5\n",
            "480/480 [==============================] - 3s 7ms/step - loss: 0.2724 - accuracy: 0.9003 - val_loss: 0.2692 - val_accuracy: 0.9027\n",
            "Epoch 4/5\n",
            "480/480 [==============================] - 3s 7ms/step - loss: 0.2455 - accuracy: 0.9107 - val_loss: 0.2630 - val_accuracy: 0.9062\n",
            "Epoch 5/5\n",
            "480/480 [==============================] - 4s 8ms/step - loss: 0.2194 - accuracy: 0.9192 - val_loss: 0.2515 - val_accuracy: 0.9080\n"
          ]
        }
      ],
      "source": [
        " historia3= model3.fit(train_images, train_labels,\n",
        "          batch_size=100,\n",
        "          epochs=5,\n",
        "          verbose=1,\n",
        "          validation_split=0.2)"
      ]
    },
    {
      "cell_type": "code",
      "execution_count": 35,
      "metadata": {
        "colab": {
          "base_uri": "https://localhost:8080/",
          "height": 69
        },
        "id": "CbxP5RSjB3IF",
        "outputId": "a8fb0ebd-0a53-46ed-9418-1f53c3381c11"
      },
      "outputs": [
        {
          "output_type": "display_data",
          "data": {
            "text/plain": [
              "<Figure size 432x288 with 1 Axes>"
            ],
            "image/png": "[encoded data removed]"
          },
          "metadata": {
            "needs_background": "light"
          }
        },
        {
          "output_type": "display_data",
          "data": {
            "text/plain": [
              "<Figure size 432x288 with 1 Axes>"
            ],
            "image/png": "[encoded data removed]"
          },
          "metadata": {
            "needs_background": "light"
          }
        }
      ],
      "source": [
        "pinta_perdida_entrenamiento_validacion(historia3)\n",
        "pinta_precision_entrenamiento_validacion(historia3)"
      ]
    },
    {
      "cell_type": "markdown",
      "metadata": {
        "id": "y5ga5xg2ovb6"
      },
      "source": [
        "#Caso 4\n",
        "\n"
      ]
    },
    {
      "cell_type": "markdown",
      "metadata": {
        "id": "IIYx-1Jto3mC"
      },
      "source": [
        "En este caso, utilizaremos el **mismo modelo** que el CASO 1, con la diferencia que lo entrenaremos 25 épocas.\n",
        "\n",
        "Entonces vamos a utilizar dos capas convolucionales, una de 32 filtros y otra de 64, el tamaño de la ventana en ambas es de 5x5, y las dos capas utilizan una función de activación 'relu'. Seguidamente de dos capas pooling, de tamaño 2x2. \n",
        "\n",
        "Finalmente una capa Flatten para aplanar y poder pasarla a la última capa Dense, con 10 neuronas y una función de activación 'softmax'."
      ]
    },
    {
      "cell_type": "code",
      "execution_count": 36,
      "metadata": {
        "colab": {
          "base_uri": "https://localhost:8080/"
        },
        "id": "U9TavslG7sw7",
        "outputId": "96ce1d9a-69c2-451b-c312-9cc16475d4d0"
      },
      "outputs": [
        {
          "output_type": "stream",
          "name": "stdout",
          "text": [
            "CASO 1 (25 épocas de entrenamiento) \n",
            "\n",
            "--------------------------------- \n",
            "\n",
            "NÚMERO DE FILTROS EN LA PRIMERA CAPA CONVOLUCIONAL: 32 \n",
            " \n",
            "TAMAÑO DE LA VENTANA EN LA PRIMERA CAPA CONVOLUCIONAL: 5x5 \n",
            "\n",
            "NÚMERO DE FILTROS EN LA SEGUNDA CAPA CONVOLUCIONAL: 64 \n",
            " \n",
            "TAMAÑO DE LA VENTANA EN LA SEGUNDA CAPA CONVOLUCIONAL: 5x5 \n",
            "\n",
            "TAMAÑO DE LA CAPA POOLING: 2x2 \n",
            "\n",
            "FUNCIÓN ACTIVACIÓN EN AMBAS CAPAS: relu \n",
            "  \n",
            "FUNCIÓN ACTIVACIÓN ULTIMA CAPA: softmax \n",
            " \n",
            "OPTIMIZADOR: sgd \n",
            " \n",
            "FUNCIÓN PÉRDIDA: sparse_categorical_crossentropy \n",
            "\n",
            "MÉTRICA: accuracy \n",
            "--------------------------------- \n",
            "\n",
            "Model: \"sequential_4\"\n",
            "_________________________________________________________________\n",
            " Layer (type)                Output Shape              Param #   \n",
            "=================================================================\n",
            " conv2d_8 (Conv2D)           (None, 24, 24, 32)        832       \n",
            "                                                                 \n",
            " max_pooling2d_8 (MaxPooling  (None, 12, 12, 32)       0         \n",
            " 2D)                                                             \n",
            "                                                                 \n",
            " conv2d_9 (Conv2D)           (None, 8, 8, 64)          51264     \n",
            "                                                                 \n",
            " max_pooling2d_9 (MaxPooling  (None, 4, 4, 64)         0         \n",
            " 2D)                                                             \n",
            "                                                                 \n",
            " flatten_4 (Flatten)         (None, 1024)              0         \n",
            "                                                                 \n",
            " dense_7 (Dense)             (None, 10)                10250     \n",
            "                                                                 \n",
            "=================================================================\n",
            "Total params: 62,346\n",
            "Trainable params: 62,346\n",
            "Non-trainable params: 0\n",
            "_________________________________________________________________\n"
          ]
        }
      ],
      "source": [
        "model_1 = Sequential()\n",
        "model_1.add(Conv2D(32, (5, 5), activation='relu', input_shape=(28, 28, 1)))\n",
        "model_1.add(MaxPooling2D((2, 2)))\n",
        "model_1.add(Conv2D(64,(5,5), activation='relu'))\n",
        "model_1.add(MaxPooling2D((2, 2)))\n",
        "model_1.add(Flatten())\n",
        "model_1.add(Dense(10, activation= 'softmax'))\n",
        "\n",
        "\n",
        "print('CASO 1 (25 épocas de entrenamiento) \\n')\n",
        "print(\"--------------------------------- \\n\")\n",
        "print(\"NÚMERO DE FILTROS EN LA PRIMERA CAPA CONVOLUCIONAL: 32 \\n \")\n",
        "print('TAMAÑO DE LA VENTANA EN LA PRIMERA CAPA CONVOLUCIONAL: 5x5 \\n')\n",
        "print(\"NÚMERO DE FILTROS EN LA SEGUNDA CAPA CONVOLUCIONAL: 64 \\n \")\n",
        "print('TAMAÑO DE LA VENTANA EN LA SEGUNDA CAPA CONVOLUCIONAL: 5x5 \\n')\n",
        "print('TAMAÑO DE LA CAPA POOLING: 2x2 \\n')\n",
        "print(\"FUNCIÓN ACTIVACIÓN EN AMBAS CAPAS: relu \\n  \",)\n",
        "print(\"FUNCIÓN ACTIVACIÓN ULTIMA CAPA: softmax \\n \")\n",
        "print(\"OPTIMIZADOR: sgd \\n \")\n",
        "print(\"FUNCIÓN PÉRDIDA: sparse_categorical_crossentropy \\n\")\n",
        "print(\"MÉTRICA: accuracy \")\n",
        "print('--------------------------------- \\n')\n",
        "\n",
        "model_1.summary()\n"
      ]
    },
    {
      "cell_type": "markdown",
      "source": [
        "Nuestra función summary de nuestro CASO 1 nos indica: El input shape es (28x28) por la altura y la anchura, 1 porque la imágen es monocromática.\n",
        "La primera capa convolucional es, ((5x5)+1)x32=832 parámetros.\n",
        "La primera capa pooling no suma parámetros porque no aprende, 24/2=12\n",
        "La segunda capa convolucional es, (((5x5)x32)+1)x64=51264 parámetros.\n",
        "La segunda capa pooling no suma parámetros porque no aprende, 8/2=4\n",
        "La capa flatten tampoco suma parámetros porque no aprende, solo nos aplana los datos para pasárselos a la capa Dense.\n",
        "La última capa dense es, (((1024)x10))+10)=10250 parámetros.\n",
        "\n",
        "En total de los parámetros que hemos encontrado es: 62.346"
      ],
      "metadata": {
        "id": "shs7n1oPFq6q"
      }
    },
    {
      "cell_type": "code",
      "execution_count": 37,
      "metadata": {
        "id": "xzi6LEHb7sjc"
      },
      "outputs": [],
      "source": [
        "model_1.compile(loss = 'sparse_categorical_crossentropy',\n",
        "              optimizer = 'sgd',\n",
        "              metrics='accuracy')"
      ]
    },
    {
      "cell_type": "code",
      "execution_count": 38,
      "metadata": {
        "colab": {
          "base_uri": "https://localhost:8080/"
        },
        "id": "j3wzWHFhovH5",
        "outputId": "fd081984-76f4-46cc-e941-c80c395435b4"
      },
      "outputs": [
        {
          "output_type": "stream",
          "name": "stdout",
          "text": [
            "Epoch 1/25\n",
            "480/480 [==============================] - 2s 4ms/step - loss: 1.3337 - accuracy: 0.5748 - val_loss: 0.7614 - val_accuracy: 0.7318\n",
            "Epoch 2/25\n",
            "480/480 [==============================] - 2s 4ms/step - loss: 0.7127 - accuracy: 0.7415 - val_loss: 0.6481 - val_accuracy: 0.7599\n",
            "Epoch 3/25\n",
            "480/480 [==============================] - 2s 4ms/step - loss: 0.6226 - accuracy: 0.7733 - val_loss: 0.5854 - val_accuracy: 0.7872\n",
            "Epoch 4/25\n",
            "480/480 [==============================] - 2s 4ms/step - loss: 0.5691 - accuracy: 0.7925 - val_loss: 0.5418 - val_accuracy: 0.8043\n",
            "Epoch 5/25\n",
            "480/480 [==============================] - 2s 4ms/step - loss: 0.5313 - accuracy: 0.8091 - val_loss: 0.5102 - val_accuracy: 0.8195\n",
            "Epoch 6/25\n",
            "480/480 [==============================] - 2s 4ms/step - loss: 0.5001 - accuracy: 0.8211 - val_loss: 0.4884 - val_accuracy: 0.8265\n",
            "Epoch 7/25\n",
            "480/480 [==============================] - 2s 4ms/step - loss: 0.4761 - accuracy: 0.8298 - val_loss: 0.4760 - val_accuracy: 0.8288\n",
            "Epoch 8/25\n",
            "480/480 [==============================] - 2s 4ms/step - loss: 0.4586 - accuracy: 0.8376 - val_loss: 0.4576 - val_accuracy: 0.8388\n",
            "Epoch 9/25\n",
            "480/480 [==============================] - 2s 4ms/step - loss: 0.4404 - accuracy: 0.8439 - val_loss: 0.4383 - val_accuracy: 0.8448\n",
            "Epoch 10/25\n",
            "480/480 [==============================] - 2s 4ms/step - loss: 0.4269 - accuracy: 0.8496 - val_loss: 0.4371 - val_accuracy: 0.8438\n",
            "Epoch 11/25\n",
            "480/480 [==============================] - 2s 4ms/step - loss: 0.4162 - accuracy: 0.8547 - val_loss: 0.4221 - val_accuracy: 0.8513\n",
            "Epoch 12/25\n",
            "480/480 [==============================] - 2s 4ms/step - loss: 0.4072 - accuracy: 0.8562 - val_loss: 0.4321 - val_accuracy: 0.8422\n",
            "Epoch 13/25\n",
            "480/480 [==============================] - 2s 4ms/step - loss: 0.3993 - accuracy: 0.8592 - val_loss: 0.4307 - val_accuracy: 0.8426\n",
            "Epoch 14/25\n",
            "480/480 [==============================] - 2s 4ms/step - loss: 0.3912 - accuracy: 0.8610 - val_loss: 0.3992 - val_accuracy: 0.8593\n",
            "Epoch 15/25\n",
            "480/480 [==============================] - 2s 4ms/step - loss: 0.3847 - accuracy: 0.8629 - val_loss: 0.3915 - val_accuracy: 0.8628\n",
            "Epoch 16/25\n",
            "480/480 [==============================] - 2s 4ms/step - loss: 0.3792 - accuracy: 0.8659 - val_loss: 0.3927 - val_accuracy: 0.8615\n",
            "Epoch 17/25\n",
            "480/480 [==============================] - 2s 4ms/step - loss: 0.3709 - accuracy: 0.8700 - val_loss: 0.3909 - val_accuracy: 0.8586\n",
            "Epoch 18/25\n",
            "480/480 [==============================] - 2s 4ms/step - loss: 0.3679 - accuracy: 0.8688 - val_loss: 0.3762 - val_accuracy: 0.8675\n",
            "Epoch 19/25\n",
            "480/480 [==============================] - 2s 4ms/step - loss: 0.3622 - accuracy: 0.8714 - val_loss: 0.3768 - val_accuracy: 0.8674\n",
            "Epoch 20/25\n",
            "480/480 [==============================] - 2s 4ms/step - loss: 0.3575 - accuracy: 0.8733 - val_loss: 0.3911 - val_accuracy: 0.8591\n",
            "Epoch 21/25\n",
            "480/480 [==============================] - 2s 4ms/step - loss: 0.3542 - accuracy: 0.8748 - val_loss: 0.3783 - val_accuracy: 0.8667\n",
            "Epoch 22/25\n",
            "480/480 [==============================] - 2s 4ms/step - loss: 0.3500 - accuracy: 0.8755 - val_loss: 0.3624 - val_accuracy: 0.8721\n",
            "Epoch 23/25\n",
            "480/480 [==============================] - 2s 4ms/step - loss: 0.3444 - accuracy: 0.8784 - val_loss: 0.3662 - val_accuracy: 0.8698\n",
            "Epoch 24/25\n",
            "480/480 [==============================] - 2s 4ms/step - loss: 0.3420 - accuracy: 0.8774 - val_loss: 0.3598 - val_accuracy: 0.8727\n",
            "Epoch 25/25\n",
            "480/480 [==============================] - 2s 4ms/step - loss: 0.3376 - accuracy: 0.8799 - val_loss: 0.3530 - val_accuracy: 0.8742\n"
          ]
        }
      ],
      "source": [
        "historia4=model_1.fit(train_images, train_labels,\n",
        "          batch_size=100,\n",
        "          epochs=25,\n",
        "          verbose=1,\n",
        "          validation_split=0.2)"
      ]
    },
    {
      "cell_type": "code",
      "source": [
        "pinta_perdida_entrenamiento_validacion(historia4)\n",
        "pinta_precision_entrenamiento_validacion(historia4)"
      ],
      "metadata": {
        "id": "gGViB_4igbfO",
        "outputId": "16178fd7-6b23-4c97-a6f6-7f2b7d5710b2",
        "colab": {
          "base_uri": "https://localhost:8080/",
          "height": 69
        }
      },
      "execution_count": 39,
      "outputs": [
        {
          "output_type": "display_data",
          "data": {
            "text/plain": [
              "<Figure size 432x288 with 1 Axes>"
            ],
            "image/png": "[encoded data removed]"
          },
          "metadata": {
            "needs_background": "light"
          }
        },
        {
          "output_type": "display_data",
          "data": {
            "text/plain": [
              "<Figure size 432x288 with 1 Axes>"
            ],
            "image/png": "[encoded data removed]"
          },
          "metadata": {
            "needs_background": "light"
          }
        }
      ]
    },
    {
      "cell_type": "markdown",
      "metadata": {
        "id": "DkNMsdzoyb_p"
      },
      "source": [
        "# Caso 5\n",
        "\n"
      ]
    },
    {
      "cell_type": "markdown",
      "source": [
        "En este caso, utilizaremos un modelo parecido al CASO 1, con la diferencia de cambiar la función de activación de las capas convolucionales. \n",
        "\n",
        "Entonces vamos a utilizar dos capas convolucionales, una de 32 filtros y otra de 64, el tamaño de la ventana en ambas es de 5x5, y las dos capas utilizan una función de activación **'tanh'**. Seguidamente de dos capas pooling, de tamaño 2x2. \n",
        "\n",
        "Finalmente una capa Flatten para aplanar y poder pasarla a la última capa Dense, con 10 neuronas y una función de activación 'softmax'."
      ],
      "metadata": {
        "id": "tkDxSnFJFylz"
      }
    },
    {
      "cell_type": "code",
      "execution_count": 40,
      "metadata": {
        "colab": {
          "base_uri": "https://localhost:8080/"
        },
        "id": "EgapGY-zzbzh",
        "outputId": "c5c69982-c1ad-4575-ac1f-20d35f801760"
      },
      "outputs": [
        {
          "output_type": "stream",
          "name": "stdout",
          "text": [
            "CASO 1 (función de activación tanh) \n",
            "\n",
            "--------------------------------- \n",
            "\n",
            "NÚMERO DE FILTROS EN LA PRIMERA CAPA CONVOLUCIONAL: 32 \n",
            " \n",
            "TAMAÑO DE LA VENTANA EN LA PRIMERA CAPA CONVOLUCIONAL: 5x5 \n",
            "\n",
            "NÚMERO DE FILTROS EN LA SEGUNDA CAPA CONVOLUCIONAL: 64 \n",
            " \n",
            "TAMAÑO DE LA VENTANA EN LA SEGUNDA CAPA CONVOLUCIONAL: 5x5 \n",
            "\n",
            "TAMAÑO DE LA CAPA POOLING: 2x2 \n",
            "\n",
            "FUNCIÓN ACTIVACIÓN EN AMBAS CAPAS: tanh  \n",
            "  \n",
            "FUNCIÓN ACTIVACIÓN ULTIMA CAPA: softmax \n",
            " \n",
            "OPTIMIZADOR: sgd \n",
            " \n",
            "FUNCIÓN PÉRDIDA: sparse_categorical_crossentropy \n",
            "\n",
            "MÉTRICA: accuracy \n",
            "--------------------------------- \n",
            "\n",
            "Model: \"sequential_5\"\n",
            "_________________________________________________________________\n",
            " Layer (type)                Output Shape              Param #   \n",
            "=================================================================\n",
            " conv2d_10 (Conv2D)          (None, 24, 24, 32)        832       \n",
            "                                                                 \n",
            " max_pooling2d_10 (MaxPoolin  (None, 12, 12, 32)       0         \n",
            " g2D)                                                            \n",
            "                                                                 \n",
            " conv2d_11 (Conv2D)          (None, 8, 8, 64)          51264     \n",
            "                                                                 \n",
            " max_pooling2d_11 (MaxPoolin  (None, 4, 4, 64)         0         \n",
            " g2D)                                                            \n",
            "                                                                 \n",
            " flatten_5 (Flatten)         (None, 1024)              0         \n",
            "                                                                 \n",
            " dense_8 (Dense)             (None, 10)                10250     \n",
            "                                                                 \n",
            "=================================================================\n",
            "Total params: 62,346\n",
            "Trainable params: 62,346\n",
            "Non-trainable params: 0\n",
            "_________________________________________________________________\n"
          ]
        }
      ],
      "source": [
        "model__1 = Sequential()\n",
        "model__1.add(Conv2D(32, (5, 5), activation='tanh', input_shape=(28, 28, 1)))\n",
        "model__1.add(MaxPooling2D((2, 2)))\n",
        "model__1.add(Conv2D(64,(5,5), activation='tanh'))\n",
        "model__1.add(MaxPooling2D((2, 2)))\n",
        "model__1.add(Flatten())\n",
        "model__1.add(Dense(10,activation='softmax'))\n",
        "\n",
        "\n",
        "print('CASO 1 (función de activación tanh) \\n')\n",
        "print(\"--------------------------------- \\n\")\n",
        "print(\"NÚMERO DE FILTROS EN LA PRIMERA CAPA CONVOLUCIONAL: 32 \\n \")\n",
        "print('TAMAÑO DE LA VENTANA EN LA PRIMERA CAPA CONVOLUCIONAL: 5x5 \\n')\n",
        "print(\"NÚMERO DE FILTROS EN LA SEGUNDA CAPA CONVOLUCIONAL: 64 \\n \")\n",
        "print('TAMAÑO DE LA VENTANA EN LA SEGUNDA CAPA CONVOLUCIONAL: 5x5 \\n')\n",
        "print('TAMAÑO DE LA CAPA POOLING: 2x2 \\n')\n",
        "print(\"FUNCIÓN ACTIVACIÓN EN AMBAS CAPAS: tanh  \\n  \",)\n",
        "print(\"FUNCIÓN ACTIVACIÓN ULTIMA CAPA: softmax \\n \")\n",
        "print(\"OPTIMIZADOR: sgd \\n \")\n",
        "print(\"FUNCIÓN PÉRDIDA: sparse_categorical_crossentropy \\n\")\n",
        "print(\"MÉTRICA: accuracy \")\n",
        "print('--------------------------------- \\n')\n",
        "model__1.summary()\n"
      ]
    },
    {
      "cell_type": "code",
      "execution_count": 41,
      "metadata": {
        "id": "Kh9ZFUeMzkG-"
      },
      "outputs": [],
      "source": [
        "model__1.compile(loss = 'sparse_categorical_crossentropy',\n",
        "              optimizer = 'sgd',\n",
        "              metrics='accuracy')"
      ]
    },
    {
      "cell_type": "code",
      "execution_count": 42,
      "metadata": {
        "colab": {
          "base_uri": "https://localhost:8080/"
        },
        "id": "i4RNAV5E0dId",
        "outputId": "121a2381-a93f-4cc6-fe1b-b98cf6895680"
      },
      "outputs": [
        {
          "output_type": "stream",
          "name": "stdout",
          "text": [
            "Epoch 1/5\n",
            "480/480 [==============================] - 2s 4ms/step - loss: 1.2377 - accuracy: 0.6093 - val_loss: 0.7828 - val_accuracy: 0.7322\n",
            "Epoch 2/5\n",
            "480/480 [==============================] - 2s 4ms/step - loss: 0.7183 - accuracy: 0.7414 - val_loss: 0.6511 - val_accuracy: 0.7630\n",
            "Epoch 3/5\n",
            "480/480 [==============================] - 2s 4ms/step - loss: 0.6268 - accuracy: 0.7705 - val_loss: 0.5932 - val_accuracy: 0.7813\n",
            "Epoch 4/5\n",
            "480/480 [==============================] - 2s 4ms/step - loss: 0.5734 - accuracy: 0.7924 - val_loss: 0.5460 - val_accuracy: 0.7997\n",
            "Epoch 5/5\n",
            "480/480 [==============================] - 2s 4ms/step - loss: 0.5352 - accuracy: 0.8068 - val_loss: 0.5221 - val_accuracy: 0.8072\n"
          ]
        }
      ],
      "source": [
        " historia5= model__1.fit(train_images, train_labels,\n",
        "          batch_size=100,\n",
        "          epochs=5,\n",
        "          verbose=1,\n",
        "          validation_split=0.2)"
      ]
    },
    {
      "cell_type": "code",
      "source": [
        "pinta_perdida_entrenamiento_validacion(historia5)\n",
        "pinta_precision_entrenamiento_validacion(historia5)"
      ],
      "metadata": {
        "id": "MKzEWiP4ggJY",
        "outputId": "1bb240b8-36fe-4173-bfa1-97247be6a24f",
        "colab": {
          "base_uri": "https://localhost:8080/",
          "height": 69
        }
      },
      "execution_count": 43,
      "outputs": [
        {
          "output_type": "display_data",
          "data": {
            "text/plain": [
              "<Figure size 432x288 with 1 Axes>"
            ],
            "image/png": "[encoded data removed]"
          },
          "metadata": {
            "needs_background": "light"
          }
        },
        {
          "output_type": "display_data",
          "data": {
            "text/plain": [
              "<Figure size 432x288 with 1 Axes>"
            ],
            "image/png": "[encoded data removed]"
          },
          "metadata": {
            "needs_background": "light"
          }
        }
      ]
    },
    {
      "cell_type": "markdown",
      "metadata": {
        "id": "YjKe3LYwDDdw"
      },
      "source": []
    },
    {
      "cell_type": "markdown",
      "metadata": {
        "id": "EXR778N89w_M"
      },
      "source": [
        "# Análisis de los resultados"
      ]
    },
    {
      "cell_type": "markdown",
      "source": [
        "Antes de realizar las predicciones, podemos sacar conclusiones de los 5 primeros casos. \n",
        "\n",
        "\n",
        "El caso 1, llega a una precisión del 80%, aunque la pérdida no es muy baja, podemos decir que no es un mal modelo, porque al compararlo con el caso 4, que es el mismo modelo pero entrenándolo con 25 épocas, vemos como el valor de la perdida baja y permite llegar a la precisión al 87%. A diferencia con el caso 5, que también es igual que el caso 1, la única variación es la función de activación, son bastante parecidos ya que la pérdida no alcanza valores muy bajos y la precisión ronda en 80%.\n",
        "\n",
        "Del caso 1 al caso 2, no notamos diferencias.\n",
        "\n",
        "Entonces, podemos adelantar en un primer momento que el caso que mejor se comporta es el **caso 3**, y podemos indicar que lo hace gracias al optimizador 'adam'. Este caso baja la pérdida, (es el caso con la pérdida más baja), y con una precisión del 91%, es decir, la más alta. \n",
        "\n"
      ],
      "metadata": {
        "id": "1MuwGOLlGTiu"
      }
    },
    {
      "cell_type": "markdown",
      "source": [
        "## ¿Como de bien se comportan?"
      ],
      "metadata": {
        "id": "7EBf0rVjJnb2"
      }
    },
    {
      "cell_type": "code",
      "execution_count": 44,
      "metadata": {
        "id": "JkTBpniG9ujh"
      },
      "outputs": [],
      "source": [
        "def plot_image(i, predictions_array, true_label, img):\n",
        "  predictions_array, true_label, img = predictions_array, true_label[i], img[i]\n",
        "  plt.grid(False)\n",
        "  plt.xticks([])\n",
        "  plt.yticks([])\n",
        "\n",
        "  plt.imshow(img, cmap=plt.cm.binary)    \n",
        "\n",
        "  predicted_label = np.argmax(predictions_array)\n",
        "  if predicted_label.all() == true_label.all():\n",
        "    color = 'blue'\n",
        "  else:\n",
        "    color = 'red'\n",
        "\n",
        "  plt.xlabel(\"{} {:2.0f}% ({})\".format(predicted_label,\n",
        "                                100*np.max(predictions_array),\n",
        "                                true_label),\n",
        "                                color=color)\n",
        "\n",
        "def plot_value_array(i, predictions_array, true_label):\n",
        "  predictions_array, true_label = predictions_array, true_label[i]\n",
        "  plt.grid(False)\n",
        "  plt.xticks(range(10))\n",
        "  plt.yticks([])\n",
        "  thisplot = plt.bar(range(10), predictions_array, color=\"#00FF00\")\n",
        "  plt.ylim([0, 1])\n",
        "  predicted_label = np.argmax(predictions_array)\n",
        "\n",
        "  thisplot[predicted_label].set_color('red')\n",
        "  thisplot[true_label].set_color('black')"
      ]
    },
    {
      "cell_type": "code",
      "execution_count": 45,
      "metadata": {
        "colab": {
          "base_uri": "https://localhost:8080/"
        },
        "id": "yghsd_23-CiF",
        "outputId": "172cb964-1ef6-4c5f-bc07-664e622fcc9d"
      },
      "outputs": [
        {
          "output_type": "stream",
          "name": "stdout",
          "text": [
            "313/313 [==============================] - 1s 2ms/step\n",
            "313/313 [==============================] - 1s 2ms/step\n",
            "313/313 [==============================] - 1s 2ms/step\n",
            "313/313 [==============================] - 1s 2ms/step\n",
            "313/313 [==============================] - 1s 2ms/step\n"
          ]
        }
      ],
      "source": [
        "predictions = model1.predict(test_images)\n",
        "predictions2 = model2.predict(test_images)\n",
        "predictions3 = model3.predict(test_images)\n",
        "predictions4=model_1.predict(test_images)\n",
        "predictions5=model__1.predict(test_images)\n",
        "test_labels=test_labels.reshape(10000,)"
      ]
    },
    {
      "cell_type": "code",
      "execution_count": 46,
      "metadata": {
        "colab": {
          "base_uri": "https://localhost:8080/",
          "height": 1000
        },
        "id": "kzPCa3H0-TnH",
        "outputId": "c7020754-2dcf-4b4f-e7ee-ef039a5a0055"
      },
      "outputs": [
        {
          "output_type": "display_data",
          "data": {
            "text/plain": [
              "<Figure size 432x216 with 2 Axes>"
            ],
            "image/png": "[encoded data removed]"
          },
          "metadata": {
            "needs_background": "light"
          }
        },
        {
          "output_type": "display_data",
          "data": {
            "text/plain": [
              "<Figure size 432x288 with 0 Axes>"
            ]
          },
          "metadata": {}
        },
        {
          "output_type": "display_data",
          "data": {
            "text/plain": [
              "<Figure size 432x216 with 2 Axes>"
            ],
            "image/png": "[encoded data removed]"
          },
          "metadata": {
            "needs_background": "light"
          }
        },
        {
          "output_type": "display_data",
          "data": {
            "text/plain": [
              "<Figure size 432x288 with 0 Axes>"
            ]
          },
          "metadata": {}
        },
        {
          "output_type": "display_data",
          "data": {
            "text/plain": [
              "<Figure size 432x216 with 2 Axes>"
            ],
            "image/png": "[encoded data removed]"
          },
          "metadata": {
            "needs_background": "light"
          }
        },
        {
          "output_type": "display_data",
          "data": {
            "text/plain": [
              "<Figure size 432x288 with 0 Axes>"
            ]
          },
          "metadata": {}
        },
        {
          "output_type": "display_data",
          "data": {
            "text/plain": [
              "<Figure size 432x216 with 2 Axes>"
            ],
            "image/png": "[encoded data removed]"
          },
          "metadata": {
            "needs_background": "light"
          }
        },
        {
          "output_type": "display_data",
          "data": {
            "text/plain": [
              "<Figure size 432x288 with 0 Axes>"
            ]
          },
          "metadata": {}
        },
        {
          "output_type": "display_data",
          "data": {
            "text/plain": [
              "<Figure size 432x216 with 2 Axes>"
            ],
            "image/png": "[encoded data removed]"
          },
          "metadata": {
            "needs_background": "light"
          }
        },
        {
          "output_type": "display_data",
          "data": {
            "text/plain": [
              "<Figure size 432x288 with 0 Axes>"
            ]
          },
          "metadata": {}
        },
        {
          "output_type": "display_data",
          "data": {
            "text/plain": [
              "<Figure size 432x216 with 2 Axes>"
            ],
            "image/png": "[encoded data removed]"
          },
          "metadata": {
            "needs_background": "light"
          }
        },
        {
          "output_type": "display_data",
          "data": {
            "text/plain": [
              "<Figure size 432x288 with 0 Axes>"
            ]
          },
          "metadata": {}
        },
        {
          "output_type": "display_data",
          "data": {
            "text/plain": [
              "<Figure size 432x216 with 2 Axes>"
            ],
            "image/png": "[encoded data removed]"
          },
          "metadata": {
            "needs_background": "light"
          }
        },
        {
          "output_type": "display_data",
          "data": {
            "text/plain": [
              "<Figure size 432x288 with 0 Axes>"
            ]
          },
          "metadata": {}
        },
        {
          "output_type": "display_data",
          "data": {
            "text/plain": [
              "<Figure size 432x216 with 2 Axes>"
            ],
            "image/png": "[encoded data removed]"
          },
          "metadata": {
            "needs_background": "light"
          }
        },
        {
          "output_type": "display_data",
          "data": {
            "text/plain": [
              "<Figure size 432x288 with 0 Axes>"
            ]
          },
          "metadata": {}
        },
        {
          "output_type": "display_data",
          "data": {
            "text/plain": [
              "<Figure size 432x216 with 2 Axes>"
            ],
            "image/png": "[encoded data removed]"
          },
          "metadata": {
            "needs_background": "light"
          }
        },
        {
          "output_type": "display_data",
          "data": {
            "text/plain": [
              "<Figure size 432x288 with 0 Axes>"
            ]
          },
          "metadata": {}
        },
        {
          "output_type": "display_data",
          "data": {
            "text/plain": [
              "<Figure size 432x216 with 2 Axes>"
            ],
            "image/png": "[encoded data removed]"
          },
          "metadata": {
            "needs_background": "light"
          }
        },
        {
          "output_type": "display_data",
          "data": {
            "text/plain": [
              "<Figure size 432x288 with 0 Axes>"
            ]
          },
          "metadata": {}
        },
        {
          "output_type": "display_data",
          "data": {
            "text/plain": [
              "<Figure size 432x216 with 2 Axes>"
            ],
            "image/png": "[encoded data removed]"
          },
          "metadata": {
            "needs_background": "light"
          }
        },
        {
          "output_type": "display_data",
          "data": {
            "text/plain": [
              "<Figure size 432x288 with 0 Axes>"
            ]
          },
          "metadata": {}
        },
        {
          "output_type": "display_data",
          "data": {
            "text/plain": [
              "<Figure size 432x216 with 2 Axes>"
            ],
            "image/png": "[encoded data removed]"
          },
          "metadata": {
            "needs_background": "light"
          }
        },
        {
          "output_type": "display_data",
          "data": {
            "text/plain": [
              "<Figure size 432x288 with 0 Axes>"
            ]
          },
          "metadata": {}
        },
        {
          "output_type": "display_data",
          "data": {
            "text/plain": [
              "<Figure size 432x216 with 2 Axes>"
            ],
            "image/png": "[encoded data removed]"
          },
          "metadata": {
            "needs_background": "light"
          }
        },
        {
          "output_type": "display_data",
          "data": {
            "text/plain": [
              "<Figure size 432x288 with 0 Axes>"
            ]
          },
          "metadata": {}
        }
      ],
      "source": [
        "for i in range(0,13):\n",
        "  plt.figure(figsize=(6,3))\n",
        "  plt.subplot(1,2,1)\n",
        "  plot_image(i, predictions[i], test_labels, test_images.reshape(10000,28,28))\n",
        "  plt.subplot(1,2,2)\n",
        "  plot_value_array(5, predictions[i],  test_labels)\n",
        "  plt.show()\n",
        "  plt.clf()"
      ]
    },
    {
      "cell_type": "code",
      "execution_count": 47,
      "metadata": {
        "colab": {
          "base_uri": "https://localhost:8080/",
          "height": 1000
        },
        "id": "EVvKUa-b-YxR",
        "outputId": "7ba619e0-73aa-4811-e071-04fbd2a64df0"
      },
      "outputs": [
        {
          "output_type": "display_data",
          "data": {
            "text/plain": [
              "<Figure size 432x216 with 2 Axes>"
            ],
            "image/png": "[encoded data removed]"
          },
          "metadata": {
            "needs_background": "light"
          }
        },
        {
          "output_type": "display_data",
          "data": {
            "text/plain": [
              "<Figure size 432x288 with 0 Axes>"
            ]
          },
          "metadata": {}
        },
        {
          "output_type": "display_data",
          "data": {
            "text/plain": [
              "<Figure size 432x216 with 2 Axes>"
            ],
            "image/png": "[encoded data removed]"
          },
          "metadata": {
            "needs_background": "light"
          }
        },
        {
          "output_type": "display_data",
          "data": {
            "text/plain": [
              "<Figure size 432x288 with 0 Axes>"
            ]
          },
          "metadata": {}
        },
        {
          "output_type": "display_data",
          "data": {
            "text/plain": [
              "<Figure size 432x216 with 2 Axes>"
            ],
            "image/png": "[encoded data removed]"
          },
          "metadata": {
            "needs_background": "light"
          }
        },
        {
          "output_type": "display_data",
          "data": {
            "text/plain": [
              "<Figure size 432x288 with 0 Axes>"
            ]
          },
          "metadata": {}
        },
        {
          "output_type": "display_data",
          "data": {
            "text/plain": [
              "<Figure size 432x216 with 2 Axes>"
            ],
            "image/png": "[encoded data removed]"
          },
          "metadata": {
            "needs_background": "light"
          }
        },
        {
          "output_type": "display_data",
          "data": {
            "text/plain": [
              "<Figure size 432x288 with 0 Axes>"
            ]
          },
          "metadata": {}
        },
        {
          "output_type": "display_data",
          "data": {
            "text/plain": [
              "<Figure size 432x216 with 2 Axes>"
            ],
            "image/png": "[encoded data removed]"
          },
          "metadata": {
            "needs_background": "light"
          }
        },
        {
          "output_type": "display_data",
          "data": {
            "text/plain": [
              "<Figure size 432x288 with 0 Axes>"
            ]
          },
          "metadata": {}
        },
        {
          "output_type": "display_data",
          "data": {
            "text/plain": [
              "<Figure size 432x216 with 2 Axes>"
            ],
            "image/png": "[encoded data removed]"
          },
          "metadata": {
            "needs_background": "light"
          }
        },
        {
          "output_type": "display_data",
          "data": {
            "text/plain": [
              "<Figure size 432x288 with 0 Axes>"
            ]
          },
          "metadata": {}
        },
        {
          "output_type": "display_data",
          "data": {
            "text/plain": [
              "<Figure size 432x216 with 2 Axes>"
            ],
            "image/png": "[encoded data removed]"
          },
          "metadata": {
            "needs_background": "light"
          }
        },
        {
          "output_type": "display_data",
          "data": {
            "text/plain": [
              "<Figure size 432x288 with 0 Axes>"
            ]
          },
          "metadata": {}
        },
        {
          "output_type": "display_data",
          "data": {
            "text/plain": [
              "<Figure size 432x216 with 2 Axes>"
            ],
            "image/png": "[encoded data removed]"
          },
          "metadata": {
            "needs_background": "light"
          }
        },
        {
          "output_type": "display_data",
          "data": {
            "text/plain": [
              "<Figure size 432x288 with 0 Axes>"
            ]
          },
          "metadata": {}
        },
        {
          "output_type": "display_data",
          "data": {
            "text/plain": [
              "<Figure size 432x216 with 2 Axes>"
            ],
            "image/png": "[encoded data removed]"
          },
          "metadata": {
            "needs_background": "light"
          }
        },
        {
          "output_type": "display_data",
          "data": {
            "text/plain": [
              "<Figure size 432x288 with 0 Axes>"
            ]
          },
          "metadata": {}
        },
        {
          "output_type": "display_data",
          "data": {
            "text/plain": [
              "<Figure size 432x216 with 2 Axes>"
            ],
            "image/png": "[encoded data removed]"
          },
          "metadata": {
            "needs_background": "light"
          }
        },
        {
          "output_type": "display_data",
          "data": {
            "text/plain": [
              "<Figure size 432x288 with 0 Axes>"
            ]
          },
          "metadata": {}
        },
        {
          "output_type": "display_data",
          "data": {
            "text/plain": [
              "<Figure size 432x216 with 2 Axes>"
            ],
            "image/png": "[encoded data removed]"
          },
          "metadata": {
            "needs_background": "light"
          }
        },
        {
          "output_type": "display_data",
          "data": {
            "text/plain": [
              "<Figure size 432x288 with 0 Axes>"
            ]
          },
          "metadata": {}
        },
        {
          "output_type": "display_data",
          "data": {
            "text/plain": [
              "<Figure size 432x216 with 2 Axes>"
            ],
            "image/png": "[encoded data removed]"
          },
          "metadata": {
            "needs_background": "light"
          }
        },
        {
          "output_type": "display_data",
          "data": {
            "text/plain": [
              "<Figure size 432x288 with 0 Axes>"
            ]
          },
          "metadata": {}
        },
        {
          "output_type": "display_data",
          "data": {
            "text/plain": [
              "<Figure size 432x216 with 2 Axes>"
            ],
            "image/png": "[encoded data removed]"
          },
          "metadata": {
            "needs_background": "light"
          }
        },
        {
          "output_type": "display_data",
          "data": {
            "text/plain": [
              "<Figure size 432x288 with 0 Axes>"
            ]
          },
          "metadata": {}
        }
      ],
      "source": [
        "for i in range(0,13):\n",
        "  plt.figure(figsize=(6,3))\n",
        "  plt.subplot(1,2,1)\n",
        "  plot_image(i, predictions2[i], test_labels, test_images.reshape(10000,28,28))\n",
        "  plt.subplot(1,2,2)\n",
        "  plot_value_array(i, predictions2[i],  test_labels)\n",
        "  plt.show()\n",
        "  plt.clf()"
      ]
    },
    {
      "cell_type": "code",
      "execution_count": 48,
      "metadata": {
        "colab": {
          "base_uri": "https://localhost:8080/",
          "height": 1000
        },
        "id": "gsnEi4CI-cLA",
        "outputId": "28d877df-b161-4612-bdf6-ba8c84b2bf25"
      },
      "outputs": [
        {
          "output_type": "display_data",
          "data": {
            "text/plain": [
              "<Figure size 432x216 with 2 Axes>"
            ],
            "image/png": "[encoded data removed]"
          },
          "metadata": {
            "needs_background": "light"
          }
        },
        {
          "output_type": "display_data",
          "data": {
            "text/plain": [
              "<Figure size 432x288 with 0 Axes>"
            ]
          },
          "metadata": {}
        },
        {
          "output_type": "display_data",
          "data": {
            "text/plain": [
              "<Figure size 432x216 with 2 Axes>"
            ],
            "image/png": "[encoded data removed]"
          },
          "metadata": {
            "needs_background": "light"
          }
        },
        {
          "output_type": "display_data",
          "data": {
            "text/plain": [
              "<Figure size 432x288 with 0 Axes>"
            ]
          },
          "metadata": {}
        },
        {
          "output_type": "display_data",
          "data": {
            "text/plain": [
              "<Figure size 432x216 with 2 Axes>"
            ],
            "image/png": "[encoded data removed]"
          },
          "metadata": {
            "needs_background": "light"
          }
        },
        {
          "output_type": "display_data",
          "data": {
            "text/plain": [
              "<Figure size 432x288 with 0 Axes>"
            ]
          },
          "metadata": {}
        },
        {
          "output_type": "display_data",
          "data": {
            "text/plain": [
              "<Figure size 432x216 with 2 Axes>"
            ],
            "image/png": "[encoded data removed]"
          },
          "metadata": {
            "needs_background": "light"
          }
        },
        {
          "output_type": "display_data",
          "data": {
            "text/plain": [
              "<Figure size 432x288 with 0 Axes>"
            ]
          },
          "metadata": {}
        },
        {
          "output_type": "display_data",
          "data": {
            "text/plain": [
              "<Figure size 432x216 with 2 Axes>"
            ],
            "image/png": "[encoded data removed]"
          },
          "metadata": {
            "needs_background": "light"
          }
        },
        {
          "output_type": "display_data",
          "data": {
            "text/plain": [
              "<Figure size 432x288 with 0 Axes>"
            ]
          },
          "metadata": {}
        },
        {
          "output_type": "display_data",
          "data": {
            "text/plain": [
              "<Figure size 432x216 with 2 Axes>"
            ],
            "image/png": "[encoded data removed]"
          },
          "metadata": {
            "needs_background": "light"
          }
        },
        {
          "output_type": "display_data",
          "data": {
            "text/plain": [
              "<Figure size 432x288 with 0 Axes>"
            ]
          },
          "metadata": {}
        },
        {
          "output_type": "display_data",
          "data": {
            "text/plain": [
              "<Figure size 432x216 with 2 Axes>"
            ],
            "image/png": "[encoded data removed]"
          },
          "metadata": {
            "needs_background": "light"
          }
        },
        {
          "output_type": "display_data",
          "data": {
            "text/plain": [
              "<Figure size 432x288 with 0 Axes>"
            ]
          },
          "metadata": {}
        },
        {
          "output_type": "display_data",
          "data": {
            "text/plain": [
              "<Figure size 432x216 with 2 Axes>"
            ],
            "image/png": "[encoded data removed]"
          },
          "metadata": {
            "needs_background": "light"
          }
        },
        {
          "output_type": "display_data",
          "data": {
            "text/plain": [
              "<Figure size 432x288 with 0 Axes>"
            ]
          },
          "metadata": {}
        },
        {
          "output_type": "display_data",
          "data": {
            "text/plain": [
              "<Figure size 432x216 with 2 Axes>"
            ],
            "image/png": "[encoded data removed]"
          },
          "metadata": {
            "needs_background": "light"
          }
        },
        {
          "output_type": "display_data",
          "data": {
            "text/plain": [
              "<Figure size 432x288 with 0 Axes>"
            ]
          },
          "metadata": {}
        },
        {
          "output_type": "display_data",
          "data": {
            "text/plain": [
              "<Figure size 432x216 with 2 Axes>"
            ],
            "image/png": "[encoded data removed]"
          },
          "metadata": {
            "needs_background": "light"
          }
        },
        {
          "output_type": "display_data",
          "data": {
            "text/plain": [
              "<Figure size 432x288 with 0 Axes>"
            ]
          },
          "metadata": {}
        },
        {
          "output_type": "display_data",
          "data": {
            "text/plain": [
              "<Figure size 432x216 with 2 Axes>"
            ],
            "image/png": "[encoded data removed]"
          },
          "metadata": {
            "needs_background": "light"
          }
        },
        {
          "output_type": "display_data",
          "data": {
            "text/plain": [
              "<Figure size 432x288 with 0 Axes>"
            ]
          },
          "metadata": {}
        },
        {
          "output_type": "display_data",
          "data": {
            "text/plain": [
              "<Figure size 432x216 with 2 Axes>"
            ],
            "image/png": "[encoded data removed]"
          },
          "metadata": {
            "needs_background": "light"
          }
        },
        {
          "output_type": "display_data",
          "data": {
            "text/plain": [
              "<Figure size 432x288 with 0 Axes>"
            ]
          },
          "metadata": {}
        },
        {
          "output_type": "display_data",
          "data": {
            "text/plain": [
              "<Figure size 432x216 with 2 Axes>"
            ],
            "image/png": "[encoded data removed]"
          },
          "metadata": {
            "needs_background": "light"
          }
        },
        {
          "output_type": "display_data",
          "data": {
            "text/plain": [
              "<Figure size 432x288 with 0 Axes>"
            ]
          },
          "metadata": {}
        }
      ],
      "source": [
        "for i in range(0,13):\n",
        "  plt.figure(figsize=(6,3))\n",
        "  plt.subplot(1,2,1)\n",
        "  plot_image(i, predictions3[i], test_labels, test_images.reshape(10000,28,28))\n",
        "  plt.subplot(1,2,2)\n",
        "  plot_value_array(i, predictions3[i],  test_labels)\n",
        "  plt.show()\n",
        "  plt.clf()"
      ]
    },
    {
      "cell_type": "code",
      "source": [
        "for i in range(0,13):\n",
        "  plt.figure(figsize=(6,3))\n",
        "  plt.subplot(1,2,1)\n",
        "  plot_image(i, predictions4[i], test_labels, test_images.reshape(10000,28,28))\n",
        "  plt.subplot(1,2,2)\n",
        "  plot_value_array(5, predictions4[i],  test_labels)\n",
        "  plt.show()\n",
        "  plt.clf()"
      ],
      "metadata": {
        "colab": {
          "base_uri": "https://localhost:8080/",
          "height": 1000
        },
        "id": "MLfjy0c8IOCn",
        "outputId": "b53fa6a9-cb19-4fbd-e278-d8503ab6b969"
      },
      "execution_count": 49,
      "outputs": [
        {
          "output_type": "display_data",
          "data": {
            "text/plain": [
              "<Figure size 432x216 with 2 Axes>"
            ],
            "image/png": "[encoded data removed]"
          },
          "metadata": {
            "needs_background": "light"
          }
        },
        {
          "output_type": "display_data",
          "data": {
            "text/plain": [
              "<Figure size 432x288 with 0 Axes>"
            ]
          },
          "metadata": {}
        },
        {
          "output_type": "display_data",
          "data": {
            "text/plain": [
              "<Figure size 432x216 with 2 Axes>"
            ],
            "image/png": "[encoded data removed]"
          },
          "metadata": {
            "needs_background": "light"
          }
        },
        {
          "output_type": "display_data",
          "data": {
            "text/plain": [
              "<Figure size 432x288 with 0 Axes>"
            ]
          },
          "metadata": {}
        },
        {
          "output_type": "display_data",
          "data": {
            "text/plain": [
              "<Figure size 432x216 with 2 Axes>"
            ],
            "image/png": "[encoded data removed]"
          },
          "metadata": {
            "needs_background": "light"
          }
        },
        {
          "output_type": "display_data",
          "data": {
            "text/plain": [
              "<Figure size 432x288 with 0 Axes>"
            ]
          },
          "metadata": {}
        },
        {
          "output_type": "display_data",
          "data": {
            "text/plain": [
              "<Figure size 432x216 with 2 Axes>"
            ],
            "image/png": "[encoded data removed]"
          },
          "metadata": {
            "needs_background": "light"
          }
        },
        {
          "output_type": "display_data",
          "data": {
            "text/plain": [
              "<Figure size 432x288 with 0 Axes>"
            ]
          },
          "metadata": {}
        },
        {
          "output_type": "display_data",
          "data": {
            "text/plain": [
              "<Figure size 432x216 with 2 Axes>"
            ],
            "image/png": "[encoded data removed]"
          },
          "metadata": {
            "needs_background": "light"
          }
        },
        {
          "output_type": "display_data",
          "data": {
            "text/plain": [
              "<Figure size 432x288 with 0 Axes>"
            ]
          },
          "metadata": {}
        },
        {
          "output_type": "display_data",
          "data": {
            "text/plain": [
              "<Figure size 432x216 with 2 Axes>"
            ],
            "image/png": "[encoded data removed]"
          },
          "metadata": {
            "needs_background": "light"
          }
        },
        {
          "output_type": "display_data",
          "data": {
            "text/plain": [
              "<Figure size 432x288 with 0 Axes>"
            ]
          },
          "metadata": {}
        },
        {
          "output_type": "display_data",
          "data": {
            "text/plain": [
              "<Figure size 432x216 with 2 Axes>"
            ],
            "image/png": "[encoded data removed]"
          },
          "metadata": {
            "needs_background": "light"
          }
        },
        {
          "output_type": "display_data",
          "data": {
            "text/plain": [
              "<Figure size 432x288 with 0 Axes>"
            ]
          },
          "metadata": {}
        },
        {
          "output_type": "display_data",
          "data": {
            "text/plain": [
              "<Figure size 432x216 with 2 Axes>"
            ],
            "image/png": "[encoded data removed]"
          },
          "metadata": {
            "needs_background": "light"
          }
        },
        {
          "output_type": "display_data",
          "data": {
            "text/plain": [
              "<Figure size 432x288 with 0 Axes>"
            ]
          },
          "metadata": {}
        },
        {
          "output_type": "display_data",
          "data": {
            "text/plain": [
              "<Figure size 432x216 with 2 Axes>"
            ],
            "image/png": "[encoded data removed]"
          },
          "metadata": {
            "needs_background": "light"
          }
        },
        {
          "output_type": "display_data",
          "data": {
            "text/plain": [
              "<Figure size 432x288 with 0 Axes>"
            ]
          },
          "metadata": {}
        },
        {
          "output_type": "display_data",
          "data": {
            "text/plain": [
              "<Figure size 432x216 with 2 Axes>"
            ],
            "image/png": "[encoded data removed]"
          },
          "metadata": {
            "needs_background": "light"
          }
        },
        {
          "output_type": "display_data",
          "data": {
            "text/plain": [
              "<Figure size 432x288 with 0 Axes>"
            ]
          },
          "metadata": {}
        },
        {
          "output_type": "display_data",
          "data": {
            "text/plain": [
              "<Figure size 432x216 with 2 Axes>"
            ],
            "image/png": "[encoded data removed]"
          },
          "metadata": {
            "needs_background": "light"
          }
        },
        {
          "output_type": "display_data",
          "data": {
            "text/plain": [
              "<Figure size 432x288 with 0 Axes>"
            ]
          },
          "metadata": {}
        },
        {
          "output_type": "display_data",
          "data": {
            "text/plain": [
              "<Figure size 432x216 with 2 Axes>"
            ],
            "image/png": "[encoded data removed]"
          },
          "metadata": {
            "needs_background": "light"
          }
        },
        {
          "output_type": "display_data",
          "data": {
            "text/plain": [
              "<Figure size 432x288 with 0 Axes>"
            ]
          },
          "metadata": {}
        },
        {
          "output_type": "display_data",
          "data": {
            "text/plain": [
              "<Figure size 432x216 with 2 Axes>"
            ],
            "image/png": "[encoded data removed]"
          },
          "metadata": {
            "needs_background": "light"
          }
        },
        {
          "output_type": "display_data",
          "data": {
            "text/plain": [
              "<Figure size 432x288 with 0 Axes>"
            ]
          },
          "metadata": {}
        }
      ]
    },
    {
      "cell_type": "code",
      "source": [
        "for i in range(0,13):\n",
        "  plt.figure(figsize=(6,3))\n",
        "  plt.subplot(1,2,1)\n",
        "  plot_image(i, predictions5[i], test_labels, test_images.reshape(10000,28,28))\n",
        "  plt.subplot(1,2,2)\n",
        "  plot_value_array(5, predictions5[i],  test_labels)\n",
        "  plt.show()\n",
        "  plt.clf()"
      ],
      "metadata": {
        "colab": {
          "base_uri": "https://localhost:8080/",
          "height": 1000
        },
        "id": "iIorIp4aIPPX",
        "outputId": "73948a69-d85d-4794-bec6-11201c0fa4c6"
      },
      "execution_count": 50,
      "outputs": [
        {
          "output_type": "display_data",
          "data": {
            "text/plain": [
              "<Figure size 432x216 with 2 Axes>"
            ],
            "image/png": "[encoded data removed]"
          },
          "metadata": {
            "needs_background": "light"
          }
        },
        {
          "output_type": "display_data",
          "data": {
            "text/plain": [
              "<Figure size 432x288 with 0 Axes>"
            ]
          },
          "metadata": {}
        },
        {
          "output_type": "display_data",
          "data": {
            "text/plain": [
              "<Figure size 432x216 with 2 Axes>"
            ],
            "image/png": "[encoded data removed]"
          },
          "metadata": {
            "needs_background": "light"
          }
        },
        {
          "output_type": "display_data",
          "data": {
            "text/plain": [
              "<Figure size 432x288 with 0 Axes>"
            ]
          },
          "metadata": {}
        },
        {
          "output_type": "display_data",
          "data": {
            "text/plain": [
              "<Figure size 432x216 with 2 Axes>"
            ],
            "image/png": "[encoded data removed]"
          },
          "metadata": {
            "needs_background": "light"
          }
        },
        {
          "output_type": "display_data",
          "data": {
            "text/plain": [
              "<Figure size 432x288 with 0 Axes>"
            ]
          },
          "metadata": {}
        },
        {
          "output_type": "display_data",
          "data": {
            "text/plain": [
              "<Figure size 432x216 with 2 Axes>"
            ],
            "image/png": "[encoded data removed]"
          },
          "metadata": {
            "needs_background": "light"
          }
        },
        {
          "output_type": "display_data",
          "data": {
            "text/plain": [
              "<Figure size 432x288 with 0 Axes>"
            ]
          },
          "metadata": {}
        },
        {
          "output_type": "display_data",
          "data": {
            "text/plain": [
              "<Figure size 432x216 with 2 Axes>"
            ],
            "image/png": "[encoded data removed]"
          },
          "metadata": {
            "needs_background": "light"
          }
        },
        {
          "output_type": "display_data",
          "data": {
            "text/plain": [
              "<Figure size 432x288 with 0 Axes>"
            ]
          },
          "metadata": {}
        },
        {
          "output_type": "display_data",
          "data": {
            "text/plain": [
              "<Figure size 432x216 with 2 Axes>"
            ],
            "image/png": "[encoded data removed]"
          },
          "metadata": {
            "needs_background": "light"
          }
        },
        {
          "output_type": "display_data",
          "data": {
            "text/plain": [
              "<Figure size 432x288 with 0 Axes>"
            ]
          },
          "metadata": {}
        },
        {
          "output_type": "display_data",
          "data": {
            "text/plain": [
              "<Figure size 432x216 with 2 Axes>"
            ],
            "image/png": "[encoded data removed]"
          },
          "metadata": {
            "needs_background": "light"
          }
        },
        {
          "output_type": "display_data",
          "data": {
            "text/plain": [
              "<Figure size 432x288 with 0 Axes>"
            ]
          },
          "metadata": {}
        },
        {
          "output_type": "display_data",
          "data": {
            "text/plain": [
              "<Figure size 432x216 with 2 Axes>"
            ],
            "image/png": "[encoded data removed]"
          },
          "metadata": {
            "needs_background": "light"
          }
        },
        {
          "output_type": "display_data",
          "data": {
            "text/plain": [
              "<Figure size 432x288 with 0 Axes>"
            ]
          },
          "metadata": {}
        },
        {
          "output_type": "display_data",
          "data": {
            "text/plain": [
              "<Figure size 432x216 with 2 Axes>"
            ],
            "image/png": "[encoded data removed]"
          },
          "metadata": {
            "needs_background": "light"
          }
        },
        {
          "output_type": "display_data",
          "data": {
            "text/plain": [
              "<Figure size 432x288 with 0 Axes>"
            ]
          },
          "metadata": {}
        },
        {
          "output_type": "display_data",
          "data": {
            "text/plain": [
              "<Figure size 432x216 with 2 Axes>"
            ],
            "image/png": "[encoded data removed]"
          },
          "metadata": {
            "needs_background": "light"
          }
        },
        {
          "output_type": "display_data",
          "data": {
            "text/plain": [
              "<Figure size 432x288 with 0 Axes>"
            ]
          },
          "metadata": {}
        },
        {
          "output_type": "display_data",
          "data": {
            "text/plain": [
              "<Figure size 432x216 with 2 Axes>"
            ],
            "image/png": "[encoded data removed]"
          },
          "metadata": {
            "needs_background": "light"
          }
        },
        {
          "output_type": "display_data",
          "data": {
            "text/plain": [
              "<Figure size 432x288 with 0 Axes>"
            ]
          },
          "metadata": {}
        },
        {
          "output_type": "display_data",
          "data": {
            "text/plain": [
              "<Figure size 432x216 with 2 Axes>"
            ],
            "image/png": "[encoded data removed]"
          },
          "metadata": {
            "needs_background": "light"
          }
        },
        {
          "output_type": "display_data",
          "data": {
            "text/plain": [
              "<Figure size 432x288 with 0 Axes>"
            ]
          },
          "metadata": {}
        },
        {
          "output_type": "display_data",
          "data": {
            "text/plain": [
              "<Figure size 432x216 with 2 Axes>"
            ],
            "image/png": "[encoded data removed]"
          },
          "metadata": {
            "needs_background": "light"
          }
        },
        {
          "output_type": "display_data",
          "data": {
            "text/plain": [
              "<Figure size 432x288 with 0 Axes>"
            ]
          },
          "metadata": {}
        }
      ]
    },
    {
      "cell_type": "markdown",
      "source": [
        "Después de ver las predicciones, podemos decir, evidentemente que el tercer caso es el caso más eficaz de los anteriores, seguidamente por el caso uno entrenado con 25 épocas. \n",
        "\n",
        "Vemos también que en el tercer caso la imágen de la zapatilla no acaba de predecirla del todo bien , pero si comparamos con los otros casos estos tampoco llegan hacerlo, en el resto de las imágenes el tercer caso predice de una manera exacta, o casi exacta. \n",
        "\n",
        "Si hacemos la comparativa con las predicciones que obtuvimos en la **práctica 1**, cuando utilizábamos capas Dense, llegamos a la conclusión de que las capas convolucionales para este modelos funcionan mejor que las otras dos (las Dense), en ninguno de los casos hemos sobreentrenado a nuestro modelo, y se comporta de mejor manera frente a las otras. Lo que si que podemos decir es lo bien que funciona en este tipo de casos el optimizador 'adam', ya pudimos deducirlo en la práctica pasada y en el caso de esta el caso que mejor funciona es el que utiliza este optimizador. "
      ],
      "metadata": {
        "id": "kfq88rQQHz32"
      }
    },
    {
      "cell_type": "markdown",
      "source": [
        "## Predicciones con la imágen 6\n"
      ],
      "metadata": {
        "id": "0c8JDTljJ2pi"
      }
    },
    {
      "cell_type": "code",
      "source": [
        "for i in range(1):\n",
        "  plt.figure(figsize=(6,3))\n",
        "  plt.subplot(1,2,1)\n",
        "  plot_image(5, predictions[5], test_labels, test_images.reshape(10000,28,28))\n",
        "  plt.subplot(1,2,2)\n",
        "  plot_value_array(5, predictions[5],  test_labels)\n",
        "  plt.show()\n",
        "  plt.clf()"
      ],
      "metadata": {
        "colab": {
          "base_uri": "https://localhost:8080/",
          "height": 227
        },
        "id": "gM2VJSpeJ4yi",
        "outputId": "4629d925-f061-4c76-9a87-f2d1f52d3ca2"
      },
      "execution_count": 51,
      "outputs": [
        {
          "output_type": "display_data",
          "data": {
            "text/plain": [
              "<Figure size 432x216 with 2 Axes>"
            ],
            "image/png": "[encoded data removed]"
          },
          "metadata": {
            "needs_background": "light"
          }
        },
        {
          "output_type": "display_data",
          "data": {
            "text/plain": [
              "<Figure size 432x288 with 0 Axes>"
            ]
          },
          "metadata": {}
        }
      ]
    },
    {
      "cell_type": "code",
      "source": [
        "for i in range(1):\n",
        "  plt.figure(figsize=(6,3))\n",
        "  plt.subplot(1,2,1)\n",
        "  plot_image(5, predictions2[5], test_labels, test_images.reshape(10000,28,28))\n",
        "  plt.subplot(1,2,2)\n",
        "  plot_value_array(5, predictions2[5],  test_labels)\n",
        "  plt.show()\n",
        "  plt.clf()"
      ],
      "metadata": {
        "colab": {
          "base_uri": "https://localhost:8080/",
          "height": 227
        },
        "id": "35dlOL2hJ8Gy",
        "outputId": "cabcf7f9-606e-405d-8b4e-71d1e5c9c603"
      },
      "execution_count": 52,
      "outputs": [
        {
          "output_type": "display_data",
          "data": {
            "text/plain": [
              "<Figure size 432x216 with 2 Axes>"
            ],
            "image/png": "[encoded data removed]"
          },
          "metadata": {
            "needs_background": "light"
          }
        },
        {
          "output_type": "display_data",
          "data": {
            "text/plain": [
              "<Figure size 432x288 with 0 Axes>"
            ]
          },
          "metadata": {}
        }
      ]
    },
    {
      "cell_type": "code",
      "source": [
        "for i in range(1):\n",
        "  plt.figure(figsize=(6,3))\n",
        "  plt.subplot(1,2,1)\n",
        "  plot_image(5, predictions3[5], test_labels, test_images.reshape(10000,28,28))\n",
        "  plt.subplot(1,2,2)\n",
        "  plot_value_array(5, predictions3[5],  test_labels)\n",
        "  plt.show()\n",
        "  plt.clf()"
      ],
      "metadata": {
        "colab": {
          "base_uri": "https://localhost:8080/",
          "height": 227
        },
        "id": "JYMs3bL9KZSu",
        "outputId": "88cd2b43-17d7-40e3-d999-73d8234865a8"
      },
      "execution_count": 53,
      "outputs": [
        {
          "output_type": "display_data",
          "data": {
            "text/plain": [
              "<Figure size 432x216 with 2 Axes>"
            ],
            "image/png": "[encoded data removed]"
          },
          "metadata": {
            "needs_background": "light"
          }
        },
        {
          "output_type": "display_data",
          "data": {
            "text/plain": [
              "<Figure size 432x288 with 0 Axes>"
            ]
          },
          "metadata": {}
        }
      ]
    },
    {
      "cell_type": "code",
      "source": [
        "for i in range(1):\n",
        "  plt.figure(figsize=(6,3))\n",
        "  plt.subplot(1,2,1)\n",
        "  plot_image(5, predictions4[5], test_labels, test_images.reshape(10000,28,28))\n",
        "  plt.subplot(1,2,2)\n",
        "  plot_value_array(5, predictions4[5],  test_labels)\n",
        "  plt.show()\n",
        "  plt.clf()"
      ],
      "metadata": {
        "colab": {
          "base_uri": "https://localhost:8080/",
          "height": 227
        },
        "id": "nsValym9KZ3c",
        "outputId": "66c26b4e-4c42-41de-85f1-d9ecf4533b39"
      },
      "execution_count": 54,
      "outputs": [
        {
          "output_type": "display_data",
          "data": {
            "text/plain": [
              "<Figure size 432x216 with 2 Axes>"
            ],
            "image/png": "[encoded data removed]"
          },
          "metadata": {
            "needs_background": "light"
          }
        },
        {
          "output_type": "display_data",
          "data": {
            "text/plain": [
              "<Figure size 432x288 with 0 Axes>"
            ]
          },
          "metadata": {}
        }
      ]
    },
    {
      "cell_type": "code",
      "source": [
        "for i in range(1):\n",
        "  plt.figure(figsize=(6,3))\n",
        "  plt.subplot(1,2,1)\n",
        "  plot_image(5, predictions5[5], test_labels, test_images.reshape(10000,28,28))\n",
        "  plt.subplot(1,2,2)\n",
        "  plot_value_array(5, predictions5[5],  test_labels)\n",
        "  plt.show()\n",
        "  plt.clf()"
      ],
      "metadata": {
        "colab": {
          "base_uri": "https://localhost:8080/",
          "height": 227
        },
        "id": "FC9SHGrRKaT0",
        "outputId": "208ff52e-5e03-4667-d614-3268864b03f2"
      },
      "execution_count": 55,
      "outputs": [
        {
          "output_type": "display_data",
          "data": {
            "text/plain": [
              "<Figure size 432x216 with 2 Axes>"
            ],
            "image/png": "[encoded data removed]"
          },
          "metadata": {
            "needs_background": "light"
          }
        },
        {
          "output_type": "display_data",
          "data": {
            "text/plain": [
              "<Figure size 432x288 with 0 Axes>"
            ]
          },
          "metadata": {}
        }
      ]
    },
    {
      "cell_type": "markdown",
      "source": [
        "\n",
        "Los 5 casos predicen muy bien esta imágen, tres de ellos la predicen al 100% y dos al 99%."
      ],
      "metadata": {
        "id": "DMKX_hAJKod0"
      }
    },
    {
      "cell_type": "markdown",
      "metadata": {
        "id": "SIV1IdeWEU91"
      },
      "source": [
        "# Modelo con los conceptos batch_normalization y dropout "
      ]
    },
    {
      "cell_type": "markdown",
      "source": [
        "El drop out consiste en poner a 0, **aleatoriamente** una serie de parámetros de la salida, durante el entrenamiento. Esto se hace para ganar generalidad.\n",
        "Cuando se haga la validación, se debe de equilibrar los valores, es decir si hemos hecho un drop out de 0.5, reduciremos los valores un 50%, ya que esta técnica no se utiliza en la validación. \n",
        "El batch_normalization, es un método de normalización de los datos, para poder resolver un problema interno de covarianza (interno refiere a las capas ocultas).\n"
      ],
      "metadata": {
        "id": "ja-fJrEgNa2a"
      }
    },
    {
      "cell_type": "markdown",
      "source": [
        "Utilizaremos en primer caso para ver como funciona el modelo con estos casos."
      ],
      "metadata": {
        "id": "P3_KnzjWO2Zr"
      }
    },
    {
      "cell_type": "code",
      "execution_count": 56,
      "metadata": {
        "colab": {
          "base_uri": "https://localhost:8080/"
        },
        "id": "r8u_DvPJEfWa",
        "outputId": "f112169a-fb59-4e96-c76f-fc54a24f8791"
      },
      "outputs": [
        {
          "output_type": "stream",
          "name": "stdout",
          "text": [
            "MODELO 6 \n",
            "\n",
            "Model: \"sequential_6\"\n",
            "_________________________________________________________________\n",
            " Layer (type)                Output Shape              Param #   \n",
            "=================================================================\n",
            " conv2d_12 (Conv2D)          (None, 24, 24, 32)        832       \n",
            "                                                                 \n",
            " batch_normalization (BatchN  (None, 24, 24, 32)       128       \n",
            " ormalization)                                                   \n",
            "                                                                 \n",
            " activation (Activation)     (None, 24, 24, 32)        0         \n",
            "                                                                 \n",
            " dropout (Dropout)           (None, 24, 24, 32)        0         \n",
            "                                                                 \n",
            " batch_normalization_1 (Batc  (None, 24, 24, 32)       128       \n",
            " hNormalization)                                                 \n",
            "                                                                 \n",
            " max_pooling2d_12 (MaxPoolin  (None, 12, 12, 32)       0         \n",
            " g2D)                                                            \n",
            "                                                                 \n",
            " conv2d_13 (Conv2D)          (None, 8, 8, 64)          51264     \n",
            "                                                                 \n",
            " batch_normalization_2 (Batc  (None, 8, 8, 64)         256       \n",
            " hNormalization)                                                 \n",
            "                                                                 \n",
            " activation_1 (Activation)   (None, 8, 8, 64)          0         \n",
            "                                                                 \n",
            " dropout_1 (Dropout)         (None, 8, 8, 64)          0         \n",
            "                                                                 \n",
            " max_pooling2d_13 (MaxPoolin  (None, 4, 4, 64)         0         \n",
            " g2D)                                                            \n",
            "                                                                 \n",
            " flatten_6 (Flatten)         (None, 1024)              0         \n",
            "                                                                 \n",
            " dense_9 (Dense)             (None, 10)                10250     \n",
            "                                                                 \n",
            "=================================================================\n",
            "Total params: 62,858\n",
            "Trainable params: 62,602\n",
            "Non-trainable params: 256\n",
            "_________________________________________________________________\n"
          ]
        }
      ],
      "source": [
        "from tensorflow.keras.layers import BatchNormalization, Activation\n",
        "\n",
        "modelc = Sequential()\n",
        "modelc.add(Conv2D(32, (5, 5), input_shape=(28, 28, 1)))\n",
        "modelc.add(BatchNormalization())\n",
        "modelc.add(Activation('relu'))\n",
        "modelc.add(Dropout(0.5))\n",
        "modelc.add(BatchNormalization())\n",
        "modelc.add(MaxPooling2D((2, 2)))\n",
        "\n",
        "modelc.add(Conv2D(64, (5, 5), input_shape=(28, 28, 1)))\n",
        "modelc.add(BatchNormalization())\n",
        "modelc.add(Activation('relu'))\n",
        "modelc.add(Dropout(0.5))\n",
        "modelc.add(MaxPooling2D((2, 2)))\n",
        "\n",
        "modelc.add(Flatten())\n",
        "modelc.add(Dense(10,'softmax'))\n",
        "\n",
        "\n",
        "print('MODELO 6 \\n')\n",
        "modelc.summary()"
      ]
    },
    {
      "cell_type": "code",
      "execution_count": 57,
      "metadata": {
        "id": "svYqnbYFEyLT"
      },
      "outputs": [],
      "source": [
        "modelc.compile(optimizer='adam',\n",
        "              loss='sparse_categorical_crossentropy',\n",
        "              metrics=['accuracy'])"
      ]
    },
    {
      "cell_type": "code",
      "execution_count": 58,
      "metadata": {
        "colab": {
          "base_uri": "https://localhost:8080/"
        },
        "id": "8yE265BQE7L6",
        "outputId": "d629a9cf-65bb-4ad6-c2c5-db693b77f471"
      },
      "outputs": [
        {
          "output_type": "stream",
          "name": "stdout",
          "text": [
            "Epoch 1/5\n",
            "1875/1875 [==============================] - 7s 3ms/step - loss: 0.5069 - accuracy: 0.8206\n",
            "Epoch 2/5\n",
            "1875/1875 [==============================] - 7s 3ms/step - loss: 0.3600 - accuracy: 0.8706\n",
            "Epoch 3/5\n",
            "1875/1875 [==============================] - 7s 3ms/step - loss: 0.3208 - accuracy: 0.8838\n",
            "Epoch 4/5\n",
            "1875/1875 [==============================] - 6s 3ms/step - loss: 0.3020 - accuracy: 0.8906\n",
            "Epoch 5/5\n",
            "1875/1875 [==============================] - 7s 4ms/step - loss: 0.2841 - accuracy: 0.8954\n",
            "313/313 [==============================] - 1s 3ms/step - loss: 0.4178 - accuracy: 0.8726\n"
          ]
        }
      ],
      "source": [
        "modelc.fit(train_images, train_labels, epochs=5)\n",
        "\n",
        "test_loss, test_acc = modelc.evaluate(test_images,  test_labels)"
      ]
    },
    {
      "cell_type": "markdown",
      "source": [
        "Notamos diferencia frente al primer caso, pero podemos pensar que es por el optimizador 'adam', es evidente que es mejor modelo. \n",
        "\n",
        "¿Que pasaría si entrenamos con más épocas?"
      ],
      "metadata": {
        "id": "uRd-oi4OPTkH"
      }
    },
    {
      "cell_type": "code",
      "source": [
        "modelc.fit(train_images, train_labels, epochs=25)\n",
        "\n",
        "test_loss, test_acc = modelc.evaluate(test_images,  test_labels)"
      ],
      "metadata": {
        "colab": {
          "base_uri": "https://localhost:8080/"
        },
        "id": "fVx3xXs3PTSs",
        "outputId": "5cf233d5-3454-4cf1-d99a-4c7f52d1b185"
      },
      "execution_count": 59,
      "outputs": [
        {
          "output_type": "stream",
          "name": "stdout",
          "text": [
            "Epoch 1/25\n",
            "1875/1875 [==============================] - 7s 4ms/step - loss: 0.2740 - accuracy: 0.8987\n",
            "Epoch 2/25\n",
            "1875/1875 [==============================] - 6s 3ms/step - loss: 0.2648 - accuracy: 0.9029\n",
            "Epoch 3/25\n",
            "1875/1875 [==============================] - 7s 4ms/step - loss: 0.2584 - accuracy: 0.9050\n",
            "Epoch 4/25\n",
            "1875/1875 [==============================] - 6s 3ms/step - loss: 0.2515 - accuracy: 0.9079\n",
            "Epoch 5/25\n",
            "1875/1875 [==============================] - 6s 3ms/step - loss: 0.2472 - accuracy: 0.9098\n",
            "Epoch 6/25\n",
            "1875/1875 [==============================] - 6s 3ms/step - loss: 0.2392 - accuracy: 0.9125\n",
            "Epoch 7/25\n",
            "1875/1875 [==============================] - 6s 3ms/step - loss: 0.2385 - accuracy: 0.9126\n",
            "Epoch 8/25\n",
            "1875/1875 [==============================] - 6s 3ms/step - loss: 0.2332 - accuracy: 0.9147\n",
            "Epoch 9/25\n",
            "1875/1875 [==============================] - 6s 3ms/step - loss: 0.2307 - accuracy: 0.9148\n",
            "Epoch 10/25\n",
            "1875/1875 [==============================] - 8s 4ms/step - loss: 0.2308 - accuracy: 0.9156\n",
            "Epoch 11/25\n",
            "1875/1875 [==============================] - 7s 4ms/step - loss: 0.2244 - accuracy: 0.9172\n",
            "Epoch 12/25\n",
            "1875/1875 [==============================] - 7s 3ms/step - loss: 0.2225 - accuracy: 0.9175\n",
            "Epoch 13/25\n",
            "1875/1875 [==============================] - 6s 3ms/step - loss: 0.2208 - accuracy: 0.9189\n",
            "Epoch 14/25\n",
            "1875/1875 [==============================] - 6s 3ms/step - loss: 0.2185 - accuracy: 0.9194\n",
            "Epoch 15/25\n",
            "1875/1875 [==============================] - 7s 4ms/step - loss: 0.2195 - accuracy: 0.9202\n",
            "Epoch 16/25\n",
            "1875/1875 [==============================] - 6s 3ms/step - loss: 0.2154 - accuracy: 0.9201\n",
            "Epoch 17/25\n",
            "1875/1875 [==============================] - 7s 3ms/step - loss: 0.2122 - accuracy: 0.9219\n",
            "Epoch 18/25\n",
            "1875/1875 [==============================] - 7s 3ms/step - loss: 0.2135 - accuracy: 0.9204\n",
            "Epoch 19/25\n",
            "1875/1875 [==============================] - 6s 3ms/step - loss: 0.2099 - accuracy: 0.9221\n",
            "Epoch 20/25\n",
            "1875/1875 [==============================] - 7s 4ms/step - loss: 0.2082 - accuracy: 0.9230\n",
            "Epoch 21/25\n",
            "1875/1875 [==============================] - 8s 4ms/step - loss: 0.2085 - accuracy: 0.9236\n",
            "Epoch 22/25\n",
            "1875/1875 [==============================] - 7s 4ms/step - loss: 0.2035 - accuracy: 0.9243\n",
            "Epoch 23/25\n",
            "1875/1875 [==============================] - 7s 3ms/step - loss: 0.2025 - accuracy: 0.9254\n",
            "Epoch 24/25\n",
            "1875/1875 [==============================] - 7s 4ms/step - loss: 0.2015 - accuracy: 0.9253\n",
            "Epoch 25/25\n",
            "1875/1875 [==============================] - 7s 4ms/step - loss: 0.2029 - accuracy: 0.9244\n",
            "313/313 [==============================] - 1s 3ms/step - loss: 0.3408 - accuracy: 0.8894\n"
          ]
        }
      ]
    },
    {
      "cell_type": "code",
      "execution_count": 60,
      "metadata": {
        "id": "wUqfLKQDIVRk"
      },
      "outputs": [],
      "source": [
        "def plot_image(i, predictions_array, true_label, img):\n",
        "  predictions_array, true_label, img = predictions_array, true_label[i], img[i]\n",
        "  plt.grid(False)\n",
        "  plt.xticks([])\n",
        "  plt.yticks([])\n",
        "\n",
        "  plt.imshow(img, cmap=plt.cm.binary)    \n",
        "\n",
        "  predicted_label = np.argmax(predictions_array)\n",
        "  if predicted_label.all() == true_label.all():\n",
        "    color = 'blue'\n",
        "  else:\n",
        "    color = 'red'\n",
        "\n",
        "  plt.xlabel(\"{} {:2.0f}% ({})\".format(predicted_label,\n",
        "                                100*np.max(predictions_array),\n",
        "                                true_label),\n",
        "                                color=color)\n",
        "\n",
        "def plot_value_array(i, predictions_array, true_label):\n",
        "  predictions_array, true_label = predictions_array, true_label[i]\n",
        "  plt.grid(False)\n",
        "  plt.xticks(range(10))\n",
        "  plt.yticks([])\n",
        "  thisplot = plt.bar(range(10), predictions_array, color=\"#00FF00\")\n",
        "  plt.ylim([0, 1])\n",
        "  predicted_label = np.argmax(predictions_array)\n",
        "\n",
        "  thisplot[predicted_label].set_color('red')\n",
        "  thisplot[true_label].set_color('black')"
      ]
    },
    {
      "cell_type": "code",
      "execution_count": 61,
      "metadata": {
        "colab": {
          "base_uri": "https://localhost:8080/"
        },
        "id": "9j-ypm8RIYGh",
        "outputId": "26ed1c7d-4927-4c82-9e30-48325ddfb899"
      },
      "outputs": [
        {
          "output_type": "stream",
          "name": "stdout",
          "text": [
            "313/313 [==============================] - 1s 2ms/step\n"
          ]
        }
      ],
      "source": [
        "predictionsc = modelc.predict(test_images)\n",
        "\n",
        "test_labels=test_labels.reshape(10000,)"
      ]
    },
    {
      "cell_type": "code",
      "execution_count": 62,
      "metadata": {
        "colab": {
          "base_uri": "https://localhost:8080/",
          "height": 1000
        },
        "id": "YVWHob16Ic2q",
        "outputId": "46fd55e9-d2cb-4f9a-f186-476f19d51b99"
      },
      "outputs": [
        {
          "output_type": "display_data",
          "data": {
            "text/plain": [
              "<Figure size 432x216 with 2 Axes>"
            ],
            "image/png": "[encoded data removed]"
          },
          "metadata": {
            "needs_background": "light"
          }
        },
        {
          "output_type": "display_data",
          "data": {
            "text/plain": [
              "<Figure size 432x288 with 0 Axes>"
            ]
          },
          "metadata": {}
        },
        {
          "output_type": "display_data",
          "data": {
            "text/plain": [
              "<Figure size 432x216 with 2 Axes>"
            ],
            "image/png": "[encoded data removed]"
          },
          "metadata": {
            "needs_background": "light"
          }
        },
        {
          "output_type": "display_data",
          "data": {
            "text/plain": [
              "<Figure size 432x288 with 0 Axes>"
            ]
          },
          "metadata": {}
        },
        {
          "output_type": "display_data",
          "data": {
            "text/plain": [
              "<Figure size 432x216 with 2 Axes>"
            ],
            "image/png": "[encoded data removed]"
          },
          "metadata": {
            "needs_background": "light"
          }
        },
        {
          "output_type": "display_data",
          "data": {
            "text/plain": [
              "<Figure size 432x288 with 0 Axes>"
            ]
          },
          "metadata": {}
        },
        {
          "output_type": "display_data",
          "data": {
            "text/plain": [
              "<Figure size 432x216 with 2 Axes>"
            ],
            "image/png": "[encoded data removed]"
          },
          "metadata": {
            "needs_background": "light"
          }
        },
        {
          "output_type": "display_data",
          "data": {
            "text/plain": [
              "<Figure size 432x288 with 0 Axes>"
            ]
          },
          "metadata": {}
        },
        {
          "output_type": "display_data",
          "data": {
            "text/plain": [
              "<Figure size 432x216 with 2 Axes>"
            ],
            "image/png": "[encoded data removed]"
          },
          "metadata": {
            "needs_background": "light"
          }
        },
        {
          "output_type": "display_data",
          "data": {
            "text/plain": [
              "<Figure size 432x288 with 0 Axes>"
            ]
          },
          "metadata": {}
        },
        {
          "output_type": "display_data",
          "data": {
            "text/plain": [
              "<Figure size 432x216 with 2 Axes>"
            ],
            "image/png": "[encoded data removed]"
          },
          "metadata": {
            "needs_background": "light"
          }
        },
        {
          "output_type": "display_data",
          "data": {
            "text/plain": [
              "<Figure size 432x288 with 0 Axes>"
            ]
          },
          "metadata": {}
        },
        {
          "output_type": "display_data",
          "data": {
            "text/plain": [
              "<Figure size 432x216 with 2 Axes>"
            ],
            "image/png": "[encoded data removed]"
          },
          "metadata": {
            "needs_background": "light"
          }
        },
        {
          "output_type": "display_data",
          "data": {
            "text/plain": [
              "<Figure size 432x288 with 0 Axes>"
            ]
          },
          "metadata": {}
        },
        {
          "output_type": "display_data",
          "data": {
            "text/plain": [
              "<Figure size 432x216 with 2 Axes>"
            ],
            "image/png": "[encoded data removed]"
          },
          "metadata": {
            "needs_background": "light"
          }
        },
        {
          "output_type": "display_data",
          "data": {
            "text/plain": [
              "<Figure size 432x288 with 0 Axes>"
            ]
          },
          "metadata": {}
        },
        {
          "output_type": "display_data",
          "data": {
            "text/plain": [
              "<Figure size 432x216 with 2 Axes>"
            ],
            "image/png": "[encoded data removed]"
          },
          "metadata": {
            "needs_background": "light"
          }
        },
        {
          "output_type": "display_data",
          "data": {
            "text/plain": [
              "<Figure size 432x288 with 0 Axes>"
            ]
          },
          "metadata": {}
        },
        {
          "output_type": "display_data",
          "data": {
            "text/plain": [
              "<Figure size 432x216 with 2 Axes>"
            ],
            "image/png": "[encoded data removed]"
          },
          "metadata": {
            "needs_background": "light"
          }
        },
        {
          "output_type": "display_data",
          "data": {
            "text/plain": [
              "<Figure size 432x288 with 0 Axes>"
            ]
          },
          "metadata": {}
        },
        {
          "output_type": "display_data",
          "data": {
            "text/plain": [
              "<Figure size 432x216 with 2 Axes>"
            ],
            "image/png": "[encoded data removed]"
          },
          "metadata": {
            "needs_background": "light"
          }
        },
        {
          "output_type": "display_data",
          "data": {
            "text/plain": [
              "<Figure size 432x288 with 0 Axes>"
            ]
          },
          "metadata": {}
        },
        {
          "output_type": "display_data",
          "data": {
            "text/plain": [
              "<Figure size 432x216 with 2 Axes>"
            ],
            "image/png": "[encoded data removed]"
          },
          "metadata": {
            "needs_background": "light"
          }
        },
        {
          "output_type": "display_data",
          "data": {
            "text/plain": [
              "<Figure size 432x288 with 0 Axes>"
            ]
          },
          "metadata": {}
        },
        {
          "output_type": "display_data",
          "data": {
            "text/plain": [
              "<Figure size 432x216 with 2 Axes>"
            ],
            "image/png": "[encoded data removed]"
          },
          "metadata": {
            "needs_background": "light"
          }
        },
        {
          "output_type": "display_data",
          "data": {
            "text/plain": [
              "<Figure size 432x288 with 0 Axes>"
            ]
          },
          "metadata": {}
        }
      ],
      "source": [
        "for i in range(0,13):\n",
        "  plt.figure(figsize=(6,3))\n",
        "  plt.subplot(1,2,1)\n",
        "  plot_image(i, predictionsc[i], test_labels, test_images.reshape(10000,28,28))\n",
        "  plt.subplot(1,2,2)\n",
        "  plot_value_array(i, predictionsc[i],  test_labels)\n",
        "  plt.show()\n",
        "  plt.clf()"
      ]
    },
    {
      "cell_type": "markdown",
      "source": [
        "Con una pérdida muy baja y con una precisión muy alta, vemos que hace buenas predicciones, hasta podemos decir que llega a superar al tercer caso, pero solo antes de las 15 épocas, en estas es un muy buen entrenamiento, a partir de la 15 empieza a sobreentrenarse, hay que observar como suben los valores. "
      ],
      "metadata": {
        "id": "e5pp9sdCQxLw"
      }
    },
    {
      "cell_type": "markdown",
      "source": [
        "# Utilizando Callbacks"
      ],
      "metadata": {
        "id": "dNHIb89RQ_SU"
      }
    },
    {
      "cell_type": "markdown",
      "source": [
        "Un callback herramienta que actua sobre el comportamiento de un modelo de Keras durante el entrenamiento o evaluacion incluyendo Existen de diferentes como tf.keras.callbacks.TensorBoard, donde se pueden sacar y mirarel progreso del entrenamiento y los resultados, o tf.keras.callbacks.ModelCheckpoint donde el modelo es automáticamente guardado durante el entrenamiento, entre otros."
      ],
      "metadata": {
        "id": "FBBgSVknrjbY"
      }
    },
    {
      "cell_type": "code",
      "source": [
        "from keras.callbacks import ModelCheckpoint\n",
        "\n"
      ],
      "metadata": {
        "id": "yAnzHhdqRr8t"
      },
      "execution_count": 9,
      "outputs": []
    },
    {
      "cell_type": "markdown",
      "source": [
        "En este caso utilizaremos el Model Checkpoint que permite determinar dónde controlar el peso, cómo debe ser este y bajo que circumstancias controlarlo. "
      ],
      "metadata": {
        "id": "X3DcoAVSupOT"
      }
    },
    {
      "cell_type": "markdown",
      "source": [
        "Creamos un nuevo modelo, en este caso, hemos utilizado el caso dos de esta práctica. "
      ],
      "metadata": {
        "id": "Xgq-aejssHVg"
      }
    },
    {
      "cell_type": "code",
      "source": [
        "mode = Sequential()\n",
        "mode.add(Conv2D(64, (7, 7), strides=(1,1), activation='relu', input_shape=(28, 28, 1)))\n",
        "mode.add(MaxPooling2D((2, 2)))\n",
        "mode.add(Conv2D(128,(3,3), strides=(1,1), activation='relu'))\n",
        "mode.add(MaxPooling2D((2, 2)))\n",
        "mode.add(Flatten())\n",
        "mode.add(Dense(65, activation='relu'))\n",
        "mode.add(Dense(10, activation='softmax'))"
      ],
      "metadata": {
        "id": "TJYTpigXR4bW"
      },
      "execution_count": 10,
      "outputs": []
    },
    {
      "cell_type": "code",
      "source": [
        "mode.compile(optimizer='sgd',\n",
        "              loss='sparse_categorical_crossentropy',\n",
        "              metrics=['accuracy'])"
      ],
      "metadata": {
        "id": "SJAsgXXOsP3m"
      },
      "execution_count": 11,
      "outputs": []
    },
    {
      "cell_type": "code",
      "source": [
        "C='/tmp/checkpoint'\n",
        "mode_callback=tf.keras.callbacks.ModelCheckpoint(\n",
        "    filepath=C,\n",
        "    save_weights_only=True,\n",
        "    monitor='val_accuracy',\n",
        "    mode='max',\n",
        "    save_best_only=True)"
      ],
      "metadata": {
        "id": "55mqy1mVsiyz"
      },
      "execution_count": 16,
      "outputs": []
    },
    {
      "cell_type": "code",
      "source": [
        "mode.fit(train_images, train_labels, epochs=10, validation_split=0.2, callbacks=[mode_callback])"
      ],
      "metadata": {
        "colab": {
          "base_uri": "https://localhost:8080/"
        },
        "id": "Ac-831_yR_w5",
        "outputId": "63fc13fc-800e-4a51-a13a-9df88a0af531"
      },
      "execution_count": 21,
      "outputs": [
        {
          "output_type": "stream",
          "name": "stdout",
          "text": [
            "Epoch 1/10\n",
            "1500/1500 [==============================] - 6s 4ms/step - loss: 0.3496 - accuracy: 0.8736 - val_loss: 0.3601 - val_accuracy: 0.8721\n",
            "Epoch 2/10\n",
            "1500/1500 [==============================] - 6s 4ms/step - loss: 0.3375 - accuracy: 0.8779 - val_loss: 0.3692 - val_accuracy: 0.8624\n",
            "Epoch 3/10\n",
            "1500/1500 [==============================] - 6s 4ms/step - loss: 0.3258 - accuracy: 0.8821 - val_loss: 0.3488 - val_accuracy: 0.8749\n",
            "Epoch 4/10\n",
            "1500/1500 [==============================] - 6s 4ms/step - loss: 0.3165 - accuracy: 0.8849 - val_loss: 0.3306 - val_accuracy: 0.8813\n",
            "Epoch 5/10\n",
            "1500/1500 [==============================] - 6s 4ms/step - loss: 0.3072 - accuracy: 0.8887 - val_loss: 0.3289 - val_accuracy: 0.8808\n",
            "Epoch 6/10\n",
            "1500/1500 [==============================] - 6s 4ms/step - loss: 0.2996 - accuracy: 0.8918 - val_loss: 0.3295 - val_accuracy: 0.8815\n",
            "Epoch 7/10\n",
            "1500/1500 [==============================] - 6s 4ms/step - loss: 0.2933 - accuracy: 0.8932 - val_loss: 0.3167 - val_accuracy: 0.8852\n",
            "Epoch 8/10\n",
            "1500/1500 [==============================] - 6s 4ms/step - loss: 0.2846 - accuracy: 0.8977 - val_loss: 0.3153 - val_accuracy: 0.8888\n",
            "Epoch 9/10\n",
            "1500/1500 [==============================] - 6s 4ms/step - loss: 0.2783 - accuracy: 0.8993 - val_loss: 0.3067 - val_accuracy: 0.8894\n",
            "Epoch 10/10\n",
            "1500/1500 [==============================] - 6s 4ms/step - loss: 0.2728 - accuracy: 0.9000 - val_loss: 0.3132 - val_accuracy: 0.8867\n"
          ]
        },
        {
          "output_type": "execute_result",
          "data": {
            "text/plain": [
              "<keras.callbacks.History at 0x7fcba0748210>"
            ]
          },
          "metadata": {},
          "execution_count": 21
        }
      ]
    }
  ],
  "metadata": {
    "accelerator": "GPU",
    "colab": {
      "collapsed_sections": [
        "kEtTwyTVhOlS"
      ],
      "provenance": []
    },
    "gpuClass": "standard",
    "kernelspec": {
      "display_name": "Python 3",
      "name": "python3"
    },
    "language_info": {
      "name": "python"
    }
  },
  "nbformat": 4,
  "nbformat_minor": 0
}